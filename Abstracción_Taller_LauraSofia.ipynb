{
  "nbformat": 4,
  "nbformat_minor": 0,
  "metadata": {
    "colab": {
      "provenance": []
    },
    "kernelspec": {
      "name": "python3",
      "display_name": "Python 3"
    },
    "language_info": {
      "name": "python"
    }
  },
  "cells": [
    {
      "cell_type": "code",
      "execution_count": 1,
      "metadata": {
        "colab": {
          "base_uri": "https://localhost:8080/"
        },
        "id": "AkiLjtyL9tIr",
        "outputId": "85c04c46-dfaa-427b-e8ba-f53368796b58"
      },
      "outputs": [
        {
          "output_type": "stream",
          "name": "stdout",
          "text": [
            "Hola, Ana\n"
          ]
        }
      ],
      "source": [
        "# 1. Clase Saludo\n",
        "class Saludo:\n",
        "    def saludar(self, nombre):\n",
        "        print(f\"Hola, {nombre}\")\n",
        "\n",
        "s = Saludo()\n",
        "s.saludar(\"Ana\")\n"
      ]
    },
    {
      "cell_type": "code",
      "source": [
        "# 2. Clase Numero\n",
        "class Numero:\n",
        "    def __init__(self, valor):\n",
        "        self.valor = valor\n",
        "\n",
        "    def es_par(self):\n",
        "        return self.valor % 2 == 0\n",
        "\n",
        "n1 = Numero(4)\n",
        "n2 = Numero(7)\n",
        "print(n1.es_par())  # True\n",
        "print(n2.es_par())  # False\n"
      ],
      "metadata": {
        "colab": {
          "base_uri": "https://localhost:8080/"
        },
        "id": "pv9so8eY-Iaj",
        "outputId": "27c43d7d-455f-458b-d6ff-133da7075c46"
      },
      "execution_count": 2,
      "outputs": [
        {
          "output_type": "stream",
          "name": "stdout",
          "text": [
            "True\n",
            "False\n"
          ]
        }
      ]
    },
    {
      "cell_type": "code",
      "source": [
        "# 3. Clase Rectangulo\n",
        "class Rectangulo:\n",
        "    def __init__(self, base, altura):\n",
        "        self.base = base\n",
        "        self.altura = altura\n",
        "\n",
        "    def area(self):\n",
        "        return self.base * self.altura\n",
        "\n",
        "r = Rectangulo(5, 3)\n",
        "print(r.area())  # 15\n"
      ],
      "metadata": {
        "colab": {
          "base_uri": "https://localhost:8080/"
        },
        "id": "GrSPgL5j-LJl",
        "outputId": "07cf1e70-5453-41e6-f9bf-615c26f472d3"
      },
      "execution_count": 3,
      "outputs": [
        {
          "output_type": "stream",
          "name": "stdout",
          "text": [
            "15\n"
          ]
        }
      ]
    },
    {
      "cell_type": "code",
      "source": [
        "# 4. Clase Temperatura\n",
        "class Temperatura:\n",
        "    def __init__(self, celsius):\n",
        "        self.celsius = celsius\n",
        "\n",
        "    def a_fahrenheit(self):\n",
        "        return self.celsius * 1.8 + 32\n",
        "\n",
        "t = Temperatura(25)\n",
        "print(t.a_fahrenheit())  # 77.0\n"
      ],
      "metadata": {
        "colab": {
          "base_uri": "https://localhost:8080/"
        },
        "id": "rT9jJEUS-NrL",
        "outputId": "b2c3aa49-13cf-42e7-ca38-3a6e097b780e"
      },
      "execution_count": 4,
      "outputs": [
        {
          "output_type": "stream",
          "name": "stdout",
          "text": [
            "77.0\n"
          ]
        }
      ]
    },
    {
      "cell_type": "code",
      "source": [
        "# 5. Clase Palabra\n",
        "class Palabra:\n",
        "    def __init__(self, texto):\n",
        "        self.texto = texto.lower()\n",
        "\n",
        "    def contar_vocales(self):\n",
        "        return sum(1 for letra in self.texto if letra in \"aeiou\")\n",
        "\n",
        "p = Palabra(\"Educación\")\n",
        "print(p.contar_vocales())  # 5"
      ],
      "metadata": {
        "colab": {
          "base_uri": "https://localhost:8080/"
        },
        "id": "xWQOdEtt-QOl",
        "outputId": "4488ea44-b786-499b-d48b-ace9d958f460"
      },
      "execution_count": 5,
      "outputs": [
        {
          "output_type": "stream",
          "name": "stdout",
          "text": [
            "4\n"
          ]
        }
      ]
    },
    {
      "cell_type": "code",
      "source": [
        "# 6. Clase Palindromo\n",
        "class Palindromo:\n",
        "    def __init__(self, palabra):\n",
        "        self.palabra = palabra.lower()\n",
        "\n",
        "    def es_palindromo(self):\n",
        "        return self.palabra == self.palabra[::-1]\n",
        "\n",
        "pal1 = Palindromo(\"reconocer\")\n",
        "pal2 = Palindromo(\"luz\")\n",
        "pal3 = Palindromo(\"oso\")\n",
        "print(pal1.es_palindromo())  # True\n",
        "print(pal2.es_palindromo())  # False\n",
        "print(pal3.es_palindromo())  # True\n"
      ],
      "metadata": {
        "colab": {
          "base_uri": "https://localhost:8080/"
        },
        "id": "bcrQmwRs-SZg",
        "outputId": "528172ab-8226-41a3-e350-a6264bd0a792"
      },
      "execution_count": 6,
      "outputs": [
        {
          "output_type": "stream",
          "name": "stdout",
          "text": [
            "True\n",
            "False\n",
            "True\n"
          ]
        }
      ]
    },
    {
      "cell_type": "code",
      "source": [
        "# 7. Clase Dado\n",
        "import random\n",
        "\n",
        "class Dado:\n",
        "    def tirar(self):\n",
        "        return random.randint(1, 6)\n",
        "\n",
        "d = Dado()\n",
        "print(d.tirar())\n",
        "print(d.tirar())\n",
        "print(d.tirar())\n"
      ],
      "metadata": {
        "colab": {
          "base_uri": "https://localhost:8080/"
        },
        "id": "CT7NsrJg-UIt",
        "outputId": "00b4900a-b9b3-4c1f-db23-6515bc590ea5"
      },
      "execution_count": 7,
      "outputs": [
        {
          "output_type": "stream",
          "name": "stdout",
          "text": [
            "1\n",
            "4\n",
            "4\n"
          ]
        }
      ]
    },
    {
      "cell_type": "code",
      "source": [
        "# 8. Clase ListaCuadrados\n",
        "class ListaCuadrados:\n",
        "    def generar(self, n):\n",
        "        return [i ** 2 for i in range(1, n + 1)]\n",
        "\n",
        "lc = ListaCuadrados()\n",
        "print(lc.generar(5))  # [1, 4, 9, 16, 25]"
      ],
      "metadata": {
        "colab": {
          "base_uri": "https://localhost:8080/"
        },
        "id": "Q4naxAx0-X3m",
        "outputId": "71e642e4-81ac-466e-f347-2c2b56c24fcd"
      },
      "execution_count": 8,
      "outputs": [
        {
          "output_type": "stream",
          "name": "stdout",
          "text": [
            "[1, 4, 9, 16, 25]\n"
          ]
        }
      ]
    },
    {
      "cell_type": "code",
      "source": [
        "# 9. Clase Calculadora\n",
        "class Calculadora:\n",
        "    def operar(self, a, b, tipo):\n",
        "        if tipo == \"suma\":\n",
        "            return a + b\n",
        "        elif tipo == \"resta\":\n",
        "            return a - b\n",
        "        elif tipo == \"multiplicacion\":\n",
        "            return a * b\n",
        "        elif tipo == \"division\":\n",
        "            return a / b if b != 0 else \"Error: división por cero\"\n",
        "        else:\n",
        "            return \"Operación no válida\"\n",
        "\n",
        "calc = Calculadora()\n",
        "print(calc.operar(4, 2, \"suma\"))           # 6\n",
        "print(calc.operar(4, 2, \"resta\"))          # 2\n",
        "print(calc.operar(4, 2, \"multiplicacion\")) # 8\n",
        "print(calc.operar(4, 2, \"division\"))       # 2.0"
      ],
      "metadata": {
        "colab": {
          "base_uri": "https://localhost:8080/"
        },
        "id": "z7K4Zpq6-Z2B",
        "outputId": "a0975933-10b5-4a9a-c8cc-6ebd06db7eeb"
      },
      "execution_count": 9,
      "outputs": [
        {
          "output_type": "stream",
          "name": "stdout",
          "text": [
            "6\n",
            "2\n",
            "8\n",
            "2.0\n"
          ]
        }
      ]
    },
    {
      "cell_type": "code",
      "source": [
        "# 10. Clase GeneradorContrasena\n",
        "class GeneradorContrasena:\n",
        "    def crear(self, nombre, año):\n",
        "        return f\"{nombre}{año}@\"\n",
        "\n",
        "gen = GeneradorContrasena()\n",
        "print(gen.crear(\"ana\", 2024))  # ana2024@\n"
      ],
      "metadata": {
        "colab": {
          "base_uri": "https://localhost:8080/"
        },
        "id": "UpOqTUGQ-dri",
        "outputId": "4b5f0447-8421-4893-c584-7c650ead28ea"
      },
      "execution_count": 10,
      "outputs": [
        {
          "output_type": "stream",
          "name": "stdout",
          "text": [
            "ana2024@\n"
          ]
        }
      ]
    }
  ]
}