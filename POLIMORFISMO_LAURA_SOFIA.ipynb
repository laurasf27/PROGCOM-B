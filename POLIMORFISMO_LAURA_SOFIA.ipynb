{
  "nbformat": 4,
  "nbformat_minor": 0,
  "metadata": {
    "colab": {
      "provenance": []
    },
    "kernelspec": {
      "name": "python3",
      "display_name": "Python 3"
    },
    "language_info": {
      "name": "python"
    }
  },
  "cells": [
    {
      "cell_type": "markdown",
      "source": [
        "**EJERCICIO 1**"
      ],
      "metadata": {
        "id": "ZkKc-MNTslna"
      }
    },
    {
      "cell_type": "code",
      "source": [
        "#PYTHON\n",
        "class Animal:\n",
        "    def hacer_sonido(self):\n",
        "        pass\n",
        "\n",
        "class Perro(Animal):\n",
        "    def hacer_sonido(self):\n",
        "        return \"Guau!\"\n",
        "\n",
        "class Gato(Animal):\n",
        "    def hacer_sonido(self):\n",
        "        return \"Miau!\""
      ],
      "metadata": {
        "id": "0mhU46LusvSx"
      },
      "execution_count": 17,
      "outputs": []
    },
    {
      "cell_type": "code",
      "source": [
        "#JAVA\n",
        "class Animal {\n",
        "    public String hacerSonido() {\n",
        "        return \"\";\n",
        "    }\n",
        "}\n",
        "\n",
        "class Perro extends Animal {\n",
        "    public String hacerSonido() {\n",
        "        return \"Guau!\";\n",
        "    }\n",
        "}\n",
        "\n",
        "class Gato extends Animal {\n",
        "    public String hacerSonido() {\n",
        "        return \"Miau!\";\n",
        "    }\n",
        "}"
      ],
      "metadata": {
        "id": "KTzmTbN2s1QR"
      },
      "execution_count": null,
      "outputs": []
    },
    {
      "cell_type": "markdown",
      "source": [
        "**EJERCICIO 2**"
      ],
      "metadata": {
        "id": "CweQLPUps4BZ"
      }
    },
    {
      "cell_type": "code",
      "source": [
        "#PYTHON\n",
        "class Forma:\n",
        "    def calcular_area(self):\n",
        "        pass\n",
        "\n",
        "class Circulo(Forma):\n",
        "    def __init__(self, radio):\n",
        "        self.radio = radio\n",
        "\n",
        "    def calcular_area(self):\n",
        "        return 3.14 * self.radio ** 2\n",
        "\n",
        "class Rectangulo(Forma):\n",
        "    def __init__(self, ancho, alto):\n",
        "        self.ancho = ancho\n",
        "        self.alto = alto\n",
        "\n",
        "    def calcular_area(self):\n",
        "        return self.ancho * self.alto"
      ],
      "metadata": {
        "id": "HwA0Hk2Js3yB"
      },
      "execution_count": 19,
      "outputs": []
    },
    {
      "cell_type": "code",
      "source": [
        "#JAVA\n",
        "abstract class Forma {\n",
        "    abstract double calcularArea();\n",
        "}\n",
        "\n",
        "class Circulo extends Forma {\n",
        "    double radio;\n",
        "\n",
        "    Circulo(double radio) {\n",
        "        this.radio = radio;\n",
        "    }\n",
        "\n",
        "    double calcularArea() {\n",
        "        return 3.14 * radio * radio;\n",
        "    }\n",
        "}\n",
        "\n",
        "class Rectangulo extends Forma {\n",
        "    double ancho, alto;\n",
        "\n",
        "    Rectangulo(double ancho, double alto) {\n",
        "        this.ancho = ancho;\n",
        "        this.alto = alto;\n",
        "    }\n",
        "\n",
        "    double calcularArea() {\n",
        "        return ancho * alto;\n",
        "    }\n",
        "}"
      ],
      "metadata": {
        "id": "VWzmrA22s-8p"
      },
      "execution_count": null,
      "outputs": []
    },
    {
      "cell_type": "markdown",
      "source": [
        "**EJERCICIO 3**"
      ],
      "metadata": {
        "id": "kT5z9sWstFgi"
      }
    },
    {
      "cell_type": "code",
      "source": [
        "#PYTHON\n",
        "class Forma:\n",
        "    def calcular_area(self):\n",
        "        pass\n",
        "\n",
        "class Circulo(Forma):\n",
        "    def __init__(self, radio):\n",
        "        self.radio = radio\n",
        "\n",
        "    def calcular_area(self):\n",
        "        return 3.14 * self.radio ** 2\n",
        "\n",
        "class Rectangulo(Forma):\n",
        "    def __init__(self, ancho, alto):\n",
        "        self.ancho = ancho\n",
        "        self.alto = alto\n",
        "\n",
        "    def calcular_area(self):\n",
        "        return self.ancho * self.alto\n",
        "\n",
        "# Uso:\n",
        "c = Circulo(5)\n",
        "print(\"Área del círculo:\", c.calcular_area())\n",
        "\n",
        "r = Rectangulo(4, 6)\n",
        "print(\"Área del rectángulo:\", r.calcular_area())\n"
      ],
      "metadata": {
        "colab": {
          "base_uri": "https://localhost:8080/"
        },
        "id": "Hyx3ZeSRtIUx",
        "outputId": "e283659b-70f1-4d0c-c347-dedc3b03b2b6"
      },
      "execution_count": 18,
      "outputs": [
        {
          "output_type": "stream",
          "name": "stdout",
          "text": [
            "Área del círculo: 78.5\n",
            "Área del rectángulo: 24\n"
          ]
        }
      ]
    },
    {
      "cell_type": "code",
      "source": [
        "#JAVA\n",
        "abstract class Forma {\n",
        "    abstract double calcularArea();\n",
        "}\n",
        "\n",
        "class Circulo extends Forma {\n",
        "    double radio;\n",
        "\n",
        "    Circulo(double radio) {\n",
        "        this.radio = radio;\n",
        "    }\n",
        "\n",
        "    double calcularArea() {\n",
        "        return 3.14 * radio * radio;\n",
        "    }\n",
        "}\n",
        "\n",
        "class Rectangulo extends Forma {\n",
        "    double ancho, alto;\n",
        "\n",
        "    Rectangulo(double ancho, double alto) {\n",
        "        this.ancho = ancho;\n",
        "        this.alto = alto;\n",
        "    }\n",
        "\n",
        "    double calcularArea() {\n",
        "        return ancho * alto;\n",
        "    }\n",
        "}\n",
        "\n",
        "// Uso:\n",
        "public class Main {\n",
        "    public static void main(String[] args) {\n",
        "        Circulo c = new Circulo(5);\n",
        "        System.out.println(\"Área del círculo: \" + c.calcularArea());\n",
        "\n",
        "        Rectangulo r = new Rectangulo(4, 6);\n",
        "        System.out.println(\"Área del rectángulo: \" + r.calcularArea());\n",
        "    }\n",
        "}"
      ],
      "metadata": {
        "id": "U4nbGyAZtbhJ"
      },
      "execution_count": null,
      "outputs": []
    },
    {
      "cell_type": "markdown",
      "source": [
        "**EJERCICIO 4**"
      ],
      "metadata": {
        "id": "4AevyO3QtfDp"
      }
    },
    {
      "cell_type": "code",
      "source": [
        "#PYTHON\n",
        "class Calculadora:\n",
        "    def operar(self, a, b, operacion='sumar'):\n",
        "        if operacion == 'sumar':\n",
        "            return a + b\n",
        "        elif operacion == 'multiplicar':\n",
        "            return a * b"
      ],
      "metadata": {
        "id": "8ghM_F_gthjw"
      },
      "execution_count": 20,
      "outputs": []
    },
    {
      "cell_type": "code",
      "source": [
        "#JAVA\n",
        "class Calculadora {\n",
        "    int operar(int a, int b) {\n",
        "        return a + b;\n",
        "    }\n",
        "\n",
        "    int operar(int a, int b, String operacion) {\n",
        "        if (operacion.equals(\"multiplicar\")) {\n",
        "            return a * b;\n",
        "        }\n",
        "        return a + b;\n",
        "    }\n",
        "}"
      ],
      "metadata": {
        "id": "J3f1FR_CtnBq"
      },
      "execution_count": null,
      "outputs": []
    },
    {
      "cell_type": "markdown",
      "source": [
        "**EJERCICIO 5**"
      ],
      "metadata": {
        "id": "ZFXJL19LtqSA"
      }
    },
    {
      "cell_type": "code",
      "source": [
        "#PYTHON\n",
        "class Figura:\n",
        "    def dibujar(self):\n",
        "        pass\n",
        "\n",
        "class Circulo(Figura):\n",
        "    def dibujar(self):\n",
        "        return \"Dibujando un círculo\"\n",
        "\n",
        "class Rectangulo(Figura):\n",
        "    def dibujar(self):\n",
        "        return \"Dibujando un rectángulo\""
      ],
      "metadata": {
        "id": "-6NuJemWtszB"
      },
      "execution_count": null,
      "outputs": []
    },
    {
      "cell_type": "code",
      "source": [
        "#JAVA\n",
        "class Figura {\n",
        "    public String dibujar() {\n",
        "        return \"\";\n",
        "    }\n",
        "}\n",
        "\n",
        "class Circulo extends Figura {\n",
        "    public String dibujar() {\n",
        "        return \"Dibujando un círculo\";\n",
        "    }\n",
        "}\n",
        "\n",
        "class Rectangulo extends Figura {\n",
        "    public String dibujar() {\n",
        "        return \"Dibujando un rectángulo\";\n",
        "    }\n",
        "}"
      ],
      "metadata": {
        "id": "7bJ4ZqRptw6Y"
      },
      "execution_count": null,
      "outputs": []
    },
    {
      "cell_type": "markdown",
      "source": [
        "**EJERCICIO 6**"
      ],
      "metadata": {
        "id": "qPnX9S8At0H4"
      }
    },
    {
      "cell_type": "code",
      "source": [
        "#PYTHON\n",
        "class Empleado:\n",
        "    def trabajar(self):\n",
        "        pass\n",
        "\n",
        "class Gerente(Empleado):\n",
        "    def trabajar(self):\n",
        "        return \"Gestionando el equipo\"\n",
        "\n",
        "class Desarrollador(Empleado):\n",
        "    def trabajar(self):\n",
        "        return \"Escribiendo código\""
      ],
      "metadata": {
        "id": "h-zrKqPet2DQ"
      },
      "execution_count": 21,
      "outputs": []
    },
    {
      "cell_type": "code",
      "source": [
        "#JAVA\n",
        "class Empleado {\n",
        "    public String trabajar() {\n",
        "        return \"\";\n",
        "    }\n",
        "}\n",
        "\n",
        "class Gerente extends Empleado {\n",
        "    public String trabajar() {\n",
        "        return \"Gestionando el equipo\";\n",
        "    }\n",
        "}\n",
        "\n",
        "class Desarrollador extends Empleado {\n",
        "    public String trabajar() {\n",
        "        return \"Escribiendo código\";\n",
        "    }\n",
        "}"
      ],
      "metadata": {
        "id": "rI1zUgeEt5wo"
      },
      "execution_count": null,
      "outputs": []
    },
    {
      "cell_type": "markdown",
      "source": [
        "**EJERCICIO 7**"
      ],
      "metadata": {
        "id": "44BVYvdXt81Z"
      }
    },
    {
      "cell_type": "code",
      "source": [
        "#PYTHON\n",
        "class Fruta:\n",
        "    def describir(self):\n",
        "        pass\n",
        "\n",
        "class Manzana(Fruta):\n",
        "    def describir(self):\n",
        "        return \"Soy una manzana roja\"\n",
        "\n",
        "class Naranja(Fruta):\n",
        "    def describir(self):\n",
        "        return \"Soy una naranja jugosa\""
      ],
      "metadata": {
        "id": "G6Q1BIuRuBJo"
      },
      "execution_count": null,
      "outputs": []
    },
    {
      "cell_type": "code",
      "source": [
        "#JAVA\n",
        "class Fruta {\n",
        "    public String describir() {\n",
        "        return \"\";\n",
        "    }\n",
        "}\n",
        "\n",
        "class Manzana extends Fruta {\n",
        "    public String describir() {\n",
        "        return \"Soy una manzana roja\";\n",
        "    }\n",
        "}\n",
        "\n",
        "class Naranja extends Fruta {\n",
        "    public String describir() {\n",
        "        return \"Soy una naranja jugosa\";\n",
        "    }\n",
        "}"
      ],
      "metadata": {
        "id": "zPOcGLu7uEjA"
      },
      "execution_count": null,
      "outputs": []
    },
    {
      "cell_type": "markdown",
      "source": [
        "**EJERCICIO 8**"
      ],
      "metadata": {
        "id": "ktCyuIrSuHII"
      }
    },
    {
      "cell_type": "code",
      "source": [
        "#PYTHON\n",
        "class PaisCapital:\n",
        "    def __init__(self, pais, capital):\n",
        "        self.pais = pais\n",
        "        self.capital = capital\n",
        "\n",
        "    def mostrar_info(self):\n",
        "        return f\"{self.capital} es la capital de {self.pais}\""
      ],
      "metadata": {
        "id": "Bs3JnA0TuJTI"
      },
      "execution_count": null,
      "outputs": []
    },
    {
      "cell_type": "code",
      "source": [
        "#JAVA\n",
        "class PaisCapital {\n",
        "    String pais, capital;\n",
        "\n",
        "    PaisCapital(String pais, String capital) {\n",
        "        this.pais = pais;\n",
        "        this.capital = capital;\n",
        "    }\n",
        "\n",
        "    String mostrarInfo() {\n",
        "        return capital + \" es la capital de \" + pais;\n",
        "    }\n",
        "}"
      ],
      "metadata": {
        "id": "dTSgh-AtuL8o"
      },
      "execution_count": null,
      "outputs": []
    },
    {
      "cell_type": "markdown",
      "source": [
        "**EJERCICIO 9**"
      ],
      "metadata": {
        "id": "Ma6tVGl9uOHg"
      }
    },
    {
      "cell_type": "code",
      "source": [
        "#PYTHON\n",
        "class Pais:\n",
        "    def idioma(self):\n",
        "        pass\n",
        "\n",
        "class Mexico(Pais):\n",
        "    def idioma(self):\n",
        "        return \"Español\"\n",
        "\n",
        "class Alemania(Pais):\n",
        "    def idioma(self):\n",
        "        return \"Alemán\""
      ],
      "metadata": {
        "id": "9Ru8t5OzuQU4"
      },
      "execution_count": null,
      "outputs": []
    },
    {
      "cell_type": "code",
      "source": [
        "#JAVA\n",
        "class Pais {\n",
        "    public String idioma() {\n",
        "        return \"\";\n",
        "    }\n",
        "}\n",
        "\n",
        "class Mexico extends Pais {\n",
        "    public String idioma() {\n",
        "        return \"Español\";\n",
        "    }\n",
        "}\n",
        "\n",
        "class Alemania extends Pais {\n",
        "    public String idioma() {\n",
        "        return \"Alemán\";\n",
        "    }\n",
        "}"
      ],
      "metadata": {
        "id": "RlBXNVmXuS0Q"
      },
      "execution_count": null,
      "outputs": []
    },
    {
      "cell_type": "markdown",
      "source": [
        "**EJERCICIO 10**"
      ],
      "metadata": {
        "id": "ZwugZfmkuVHA"
      }
    },
    {
      "cell_type": "code",
      "source": [
        "#PYTHON\n",
        "class Vehiculo:\n",
        "    def encender(self):\n",
        "        pass\n",
        "\n",
        "class Auto(Vehiculo):\n",
        "    def encender(self):\n",
        "        return \"Encendiendo el auto\"\n",
        "\n",
        "class Motocicleta(Vehiculo):\n",
        "    def encender(self):\n",
        "        return \"Encendiendo la motocicleta\""
      ],
      "metadata": {
        "id": "N19VX1m2uW74"
      },
      "execution_count": null,
      "outputs": []
    },
    {
      "cell_type": "code",
      "source": [
        "#JAVA\n",
        "class Vehiculo {\n",
        "    public String encender() {\n",
        "        return \"\";\n",
        "    }\n",
        "}\n",
        "\n",
        "class Auto extends Vehiculo {\n",
        "    public String encender() {\n",
        "        return \"Encendiendo el auto\";\n",
        "    }\n",
        "}\n",
        "\n",
        "class Motocicleta extends Vehiculo {\n",
        "    public String encender() {\n",
        "        return \"Encendiendo la motocicleta\";\n",
        "    }\n",
        "}"
      ],
      "metadata": {
        "id": "nXx7efsHuaWA"
      },
      "execution_count": null,
      "outputs": []
    }
  ]
}