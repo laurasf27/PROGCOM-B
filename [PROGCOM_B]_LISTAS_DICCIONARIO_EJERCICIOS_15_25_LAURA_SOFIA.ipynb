{
  "nbformat": 4,
  "nbformat_minor": 0,
  "metadata": {
    "colab": {
      "provenance": []
    },
    "kernelspec": {
      "name": "python3",
      "display_name": "Python 3"
    },
    "language_info": {
      "name": "python"
    }
  },
  "cells": [
    {
      "cell_type": "markdown",
      "source": [
        "**EJERCICIO 1 PRACTICA** Todos los números divisibles por 6 del 1 al 60"
      ],
      "metadata": {
        "id": "58UoTwbZqxhb"
      }
    },
    {
      "cell_type": "code",
      "source": [
        "#LISTAS\n",
        "D6 = [i for i in range(1, 61) if i % 6 == 0]\n",
        "print(D6)"
      ],
      "metadata": {
        "colab": {
          "base_uri": "https://localhost:8080/"
        },
        "id": "hgBtzRYsq1n5",
        "outputId": "c7d4dbfb-6aec-4b22-8977-4924b449a553"
      },
      "execution_count": 28,
      "outputs": [
        {
          "output_type": "stream",
          "name": "stdout",
          "text": [
            "[6, 12, 18, 24, 30, 36, 42, 48, 54, 60]\n"
          ]
        }
      ]
    },
    {
      "cell_type": "code",
      "source": [
        "#DICCIONARIO\n",
        "D6 = {}\n",
        "for i in range(1, 61):\n",
        "    if i % 6 == 0:\n",
        "        D6[i] = i\n",
        "lista_divisibles_por_6 = list(D6.keys())\n",
        "print(lista_divisibles_por_6)\n"
      ],
      "metadata": {
        "colab": {
          "base_uri": "https://localhost:8080/"
        },
        "id": "Crj9Uam_rWpI",
        "outputId": "b0ba4360-3c05-4844-ff33-bf9c120cbcf7"
      },
      "execution_count": 49,
      "outputs": [
        {
          "output_type": "stream",
          "name": "stdout",
          "text": [
            "[6, 12, 18, 24, 30, 36, 42, 48, 54, 60]\n"
          ]
        }
      ]
    },
    {
      "cell_type": "markdown",
      "source": [
        "**EJERCICIO 2 PRACTICA** Todos los nombres que empiecen por \"A\" de una lista de nombres"
      ],
      "metadata": {
        "id": "E7F6CxALrbfv"
      }
    },
    {
      "cell_type": "code",
      "source": [
        "#LISTAS\n",
        "nombres = [\"Ana\", \"Pedro\", \"Alberto\", \"Laura\", \"Antonio\", \"Carlos\", \"Abel\"]\n",
        "nombres_con_a = [nombre for nombre in nombres if nombre.lower().startswith('a')]\n",
        "print(nombres_con_a)"
      ],
      "metadata": {
        "colab": {
          "base_uri": "https://localhost:8080/"
        },
        "id": "dK04hKnEsuw8",
        "outputId": "1cec6ed2-97c9-4c6e-d784-1c7c3ea45fcb"
      },
      "execution_count": 37,
      "outputs": [
        {
          "output_type": "stream",
          "name": "stdout",
          "text": [
            "['Ana', 'Alberto', 'Antonio', 'Abel']\n"
          ]
        }
      ]
    },
    {
      "cell_type": "code",
      "source": [
        "#DICCIONARIO\n",
        "nombres = [\"Ana\", \"Pedro\", \"Alberto\", \"Laura\", \"Antonio\", \"Carlos\", \"Abel\"]\n",
        "nombres_con_a = [nombre for nombre in nombres if nombre.lower().startswith('a')]\n",
        "print(nombres_con_a)"
      ],
      "metadata": {
        "colab": {
          "base_uri": "https://localhost:8080/"
        },
        "id": "dQicm6ths8hi",
        "outputId": "3f64465a-5dbb-4977-fa4b-74ad334c5bc6"
      },
      "execution_count": 48,
      "outputs": [
        {
          "output_type": "stream",
          "name": "stdout",
          "text": [
            "['Ana', 'Alberto', 'Antonio', 'Abel']\n"
          ]
        }
      ]
    },
    {
      "cell_type": "markdown",
      "source": [
        "**EJERCICIO 3 PRACTICA** Todos los números primos entre 0 y 70\n",
        "\n"
      ],
      "metadata": {
        "id": "1Rg8krystFIe"
      }
    },
    {
      "cell_type": "code",
      "source": [
        "#LISTAS\n",
        "def es_primo(n):\n",
        "    if n <= 1:\n",
        "        return False\n",
        "    for i in range(2, int(n**0.5) + 1):\n",
        "        if n % i == 0:\n",
        "            return False\n",
        "    return True\n",
        "numeros_primos = [n for n in range(71) if es_primo(n)]\n",
        "print(numeros_primos)\n",
        "\n"
      ],
      "metadata": {
        "colab": {
          "base_uri": "https://localhost:8080/"
        },
        "id": "-p6rm-wytEa-",
        "outputId": "dafb099b-62a1-4307-d4e8-151835883a63"
      },
      "execution_count": 40,
      "outputs": [
        {
          "output_type": "stream",
          "name": "stdout",
          "text": [
            "[2, 3, 5, 7, 11, 13, 17, 19, 23, 29, 31, 37, 41, 43, 47, 53, 59, 61, 67]\n"
          ]
        }
      ]
    },
    {
      "cell_type": "code",
      "source": [
        "#DICCIONARIO\n",
        "def es_primo(n):\n",
        "    if n <= 1:\n",
        "        return False\n",
        "    for i in range(2, int(n**0.5) + 1):\n",
        "        if n % i == 0:\n",
        "            return False\n",
        "    return True\n",
        "numeros_primos_dict = {n: True for n in range(71) if es_primo(n)}\n",
        "numeros_primos = list(numeros_primos_dict.keys())\n",
        "print(numeros_primos)\n",
        "\n"
      ],
      "metadata": {
        "colab": {
          "base_uri": "https://localhost:8080/"
        },
        "id": "4oY2K8CRtPML",
        "outputId": "c295323f-da4a-44af-c210-d95a6d4bbb82"
      },
      "execution_count": 46,
      "outputs": [
        {
          "output_type": "stream",
          "name": "stdout",
          "text": [
            "[2, 3, 5, 7, 11, 13, 17, 19, 23, 29, 31, 37, 41, 43, 47, 53, 59, 61, 67]\n"
          ]
        }
      ]
    },
    {
      "cell_type": "markdown",
      "source": [
        "**EJERCICIO 15** Programa que valide si tres números pueden formar un triángulo y de qué tipo es."
      ],
      "metadata": {
        "id": "utWIKbaEI6Sn"
      }
    },
    {
      "cell_type": "code",
      "execution_count": null,
      "metadata": {
        "colab": {
          "base_uri": "https://localhost:8080/"
        },
        "id": "JFxYbmutxODC",
        "outputId": "deb4ebf3-ea96-415d-fe00-b3da9a26dd04"
      },
      "outputs": [
        {
          "output_type": "stream",
          "name": "stdout",
          "text": [
            "Ingresa el primer lado del triángulo: 2\n",
            "Ingresa el segundo lado del triángulo: 2\n",
            "Ingresa el tercer lado del triángulo: 2\n",
            "Los números pueden formar un triángulo!\n",
            "El triángulo es Equilátero.\n"
          ]
        }
      ],
      "source": [
        "#LISTA\n",
        "lados = []\n",
        "lados.append(int(input(\"Ingresa el primer lado del triángulo: \")))\n",
        "lados.append(int(input(\"Ingresa el segundo lado del triángulo: \")))\n",
        "lados.append(int(input(\"Ingresa el tercer lado del triángulo: \")))\n",
        "\n",
        "lados.sort()\n",
        "\n",
        "if lados[0] + lados[1] > lados[2]:\n",
        "    print(\"Los números pueden formar un triángulo!\")\n",
        "    if lados[0] == lados[1] == lados[2]:\n",
        "        print(\"El triángulo es Equilátero.\")\n",
        "    elif lados[0] == lados[1] or lados[1] == lados[2]:\n",
        "        print(\"El triángulo es Isósceles.\")\n",
        "    else:\n",
        "        print(\"El triángulo es Escaleno.\")\n",
        "else:\n",
        "    print(\"Los números no pueden formar un triángulo!\")\n"
      ]
    },
    {
      "cell_type": "code",
      "source": [
        "#DICCIONARIO\n",
        "triangulo = {\"lado1\": int(input(\"Ingresa el primer lado del triángulo: \")),\n",
        "    \"lado2\": int(input(\"Ingresa el segundo lado del triángulo: \")),\n",
        "    \"lado3\": int(input(\"Ingresa el tercer lado del triángulo: \"))}\n",
        "\n",
        "lados = sorted([triangulo[\"lado1\"], triangulo[\"lado2\"], triangulo[\"lado3\"]])\n",
        "\n",
        "if lados[0] + lados[1] > lados[2]:\n",
        "    print(\"Los números pueden formar un triángulo!\")\n",
        "    if lados[0] == lados[1] == lados[2]:\n",
        "        print(\"El triángulo es Equilátero.\")\n",
        "    elif lados[0] == lados[1] or lados[1] == lados[2]:\n",
        "        print(\"El triángulo es Isósceles.\")\n",
        "    else:\n",
        "        print(\"El triángulo es Escaleno.\")\n",
        "else:\n",
        "    print(\"Los números no pueden formar un triángulo!\")"
      ],
      "metadata": {
        "id": "AQgmdfIyf3-6"
      },
      "execution_count": null,
      "outputs": []
    },
    {
      "cell_type": "markdown",
      "source": [
        "**EJERCICIO 16** Programa que muestre la tabla de multiplicar de un número hasta el 10."
      ],
      "metadata": {
        "id": "gTNlNewrJag-"
      }
    },
    {
      "cell_type": "code",
      "source": [
        "#LISTA\n",
        "num = int(input(\"Ingrese un número: \"))\n",
        "tabla_multiplicar = []\n",
        "\n",
        "for i in range(1, 11):\n",
        "    tabla_multiplicar.append(f\"{num} x {i} = {num * i}\")\n",
        "\n",
        "for resultado in tabla_multiplicar:\n",
        "    print(resultado)\n"
      ],
      "metadata": {
        "colab": {
          "base_uri": "https://localhost:8080/"
        },
        "id": "b_bxqSVyJgok",
        "outputId": "d8fdbce8-973a-482d-e3fd-864e9fe28d71"
      },
      "execution_count": null,
      "outputs": [
        {
          "output_type": "stream",
          "name": "stdout",
          "text": [
            "Ingrese un número: 10\n",
            "10 x 1 = 10\n",
            "10 x 2 = 20\n",
            "10 x 3 = 30\n",
            "10 x 4 = 40\n",
            "10 x 5 = 50\n",
            "10 x 6 = 60\n",
            "10 x 7 = 70\n",
            "10 x 8 = 80\n",
            "10 x 9 = 90\n",
            "10 x 10 = 100\n"
          ]
        }
      ]
    },
    {
      "cell_type": "code",
      "source": [
        "#DICCIONARIO\n",
        "num = int(input(\"Ingrese un número: \"))\n",
        "tabla_multiplicar = {}\n",
        "for i in range(1, 11):\n",
        "    tabla_multiplicar[i] = f\"{num} x {i} = {num * i}\"\n",
        "for i in range(1, 11):\n",
        "    print(tabla_multiplicar[i])\n"
      ],
      "metadata": {
        "colab": {
          "base_uri": "https://localhost:8080/"
        },
        "id": "eGUzAdVbgRxK",
        "outputId": "69059be0-e395-439a-8581-97bced2c6be7"
      },
      "execution_count": 3,
      "outputs": [
        {
          "output_type": "stream",
          "name": "stdout",
          "text": [
            "Ingrese un número: 8\n",
            "8 x 1 = 8\n",
            "8 x 2 = 16\n",
            "8 x 3 = 24\n",
            "8 x 4 = 32\n",
            "8 x 5 = 40\n",
            "8 x 6 = 48\n",
            "8 x 7 = 56\n",
            "8 x 8 = 64\n",
            "8 x 9 = 72\n",
            "8 x 10 = 80\n"
          ]
        }
      ]
    },
    {
      "cell_type": "markdown",
      "source": [
        "**EJERCICIO 17** Programa que calcule la suma de números naturales hasta n"
      ],
      "metadata": {
        "id": "tJoXK_dlKT63"
      }
    },
    {
      "cell_type": "code",
      "source": [
        "#LISTAS\n",
        "n = int(input(\"Ingrese un número: \"))\n",
        "suma_resultados = []\n",
        "\n",
        "suma_acumulada = 0\n",
        "for i in range(1, n + 1):\n",
        "    suma_acumulada += i\n",
        "    suma_resultados.append(suma_acumulada)\n",
        "for i in range(n):\n",
        "    print(f\"La suma de los primeros {i + 1} números naturales es: {suma_resultados[i]}\")\n"
      ],
      "metadata": {
        "colab": {
          "base_uri": "https://localhost:8080/"
        },
        "id": "9yXusSHbhxVx",
        "outputId": "533d7aa4-2bea-4f5e-bfad-0758ccac0c27"
      },
      "execution_count": 6,
      "outputs": [
        {
          "output_type": "stream",
          "name": "stdout",
          "text": [
            "Ingrese un número: 3\n",
            "La suma de los primeros 1 números naturales es: 1\n",
            "La suma de los primeros 2 números naturales es: 3\n",
            "La suma de los primeros 3 números naturales es: 6\n"
          ]
        }
      ]
    },
    {
      "cell_type": "code",
      "source": [
        "#DICCIONARIO\n",
        "n = int(input(\"Ingrese un número: \"))\n",
        "suma_resultados = {}\n",
        "suma_acumulada = 0\n",
        "for i in range(1, n + 1):\n",
        "    suma_acumulada += i\n",
        "    suma_resultados[i] = suma_acumulada\n",
        "for i in range(1, n + 1):\n",
        "    print(f\"La suma de los primeros {i} números naturales es: {suma_resultados[i]}\")\n"
      ],
      "metadata": {
        "colab": {
          "base_uri": "https://localhost:8080/"
        },
        "id": "Wq7zfBqihTfx",
        "outputId": "1230c32a-7eaa-44fa-e7a3-7950f578329f"
      },
      "execution_count": 7,
      "outputs": [
        {
          "output_type": "stream",
          "name": "stdout",
          "text": [
            "Ingrese un número: 3\n",
            "La suma de los primeros 1 números naturales es: 1\n",
            "La suma de los primeros 2 números naturales es: 3\n",
            "La suma de los primeros 3 números naturales es: 6\n"
          ]
        }
      ]
    },
    {
      "cell_type": "markdown",
      "source": [
        "**EJERCICIO 18** Programa que calcule el factorial de un número. Recordando que el factorial de 0 es 1 y no existen factoriales negativos."
      ],
      "metadata": {
        "id": "-fWxUIXPKf6F"
      }
    },
    {
      "cell_type": "code",
      "source": [
        "#LISTAS\n",
        "numero = int(input(\"Ingrese un número para calcular su factorial: \"))\n",
        "\n",
        "if numero < 0:\n",
        "    print(\"El factorial no está definido para números negativos.\")\n",
        "elif numero == 0:\n",
        "    print(\"El factorial de 0 es 1.\")\n",
        "else:\n",
        "    lista_numeros = list(range(1, numero + 1))\n",
        "    resultado = 1\n",
        "    for i in lista_numeros:\n",
        "        resultado *= i\n",
        "\n",
        "    print(f\"El factorial de {numero} es: {resultado}\")\n"
      ],
      "metadata": {
        "colab": {
          "base_uri": "https://localhost:8080/"
        },
        "id": "RCcFtHoGKfmu",
        "outputId": "32383061-b72e-4087-c7ec-2301d066a001"
      },
      "execution_count": null,
      "outputs": [
        {
          "output_type": "stream",
          "name": "stdout",
          "text": [
            "Ingrese un número para calcular su factorial: 3\n",
            "El factorial de 3 es: 6\n"
          ]
        }
      ]
    },
    {
      "cell_type": "code",
      "source": [
        "#DICCIONARIO\n",
        "numero = int(input(\"Ingrese un número para calcular su factorial: \"))\n",
        "if numero < 0:\n",
        "    print(\"El factorial no está definido para números negativos.\")\n",
        "elif numero == 0:\n",
        "    print(\"El factorial de 0 es 1.\")\n",
        "else:\n",
        "    diccionario_numeros = {}\n",
        "    resultado = 1\n",
        "    for i in range(1, numero + 1):\n",
        "        resultado *= i\n",
        "        diccionario_numeros[i] = resultado\n",
        "    print(f\"El factorial de {numero} es: {diccionario_numeros[numero]}\")\n"
      ],
      "metadata": {
        "colab": {
          "base_uri": "https://localhost:8080/"
        },
        "id": "bFOHinLeifOq",
        "outputId": "b98b27ce-a008-4d00-e8e9-c126eb9f9c19"
      },
      "execution_count": 8,
      "outputs": [
        {
          "output_type": "stream",
          "name": "stdout",
          "text": [
            "Ingrese un número para calcular su factorial: 3\n",
            "El factorial de 3 es: 6\n"
          ]
        }
      ]
    },
    {
      "cell_type": "markdown",
      "source": [
        "**EJERCICIO 19** Programa que muestre los primeros n números de la serie Fibonacci."
      ],
      "metadata": {
        "id": "ahciyNYKLnHn"
      }
    },
    {
      "cell_type": "code",
      "source": [
        "#LISTAS\n",
        "n = int(input(\"Ingresa cuántos números de la serie Fibonacci quieres ver: \"))\n",
        "\n",
        "if n <= 0:\n",
        "    print(\"Por favor ingresa un número mayor que 0\")\n",
        "elif n == 1:\n",
        "    print(\"La serie Fibonacci hasta el primer número es: [0]\")\n",
        "else:\n",
        "    a, b = 0, 1\n",
        "    fibonacci_lista = [a]\n",
        "    for i in range(1, n):\n",
        "        fibonacci_lista.append(b)\n",
        "        a, b = b, a + b\n",
        "\n",
        "    print(\"Serie Fibonacci:\", fibonacci_lista)\n"
      ],
      "metadata": {
        "colab": {
          "base_uri": "https://localhost:8080/"
        },
        "id": "kUVdoMXJLrWR",
        "outputId": "2320ee37-4c15-44ab-e9e2-c76787d0cf0e"
      },
      "execution_count": null,
      "outputs": [
        {
          "output_type": "stream",
          "name": "stdout",
          "text": [
            "Ingresa cuántos números de la serie Fibonacci quieres ver: 3\n",
            "Serie Fibonacci: [0, 1, 1]\n"
          ]
        }
      ]
    },
    {
      "cell_type": "code",
      "source": [
        "#DICCIONARIO\n",
        "n = int(input(\"Ingresa cuántos números de la serie Fibonacci quieres ver: \"))\n",
        "\n",
        "if n <= 0:\n",
        "    print(\"Por favor ingresa un número mayor que 0\")\n",
        "elif n == 1:\n",
        "    print(\"La serie Fibonacci hasta el primer número es: {0: 0}\".format(0))\n",
        "else:\n",
        "    a, b = 0, 1\n",
        "    fibonacci_diccionario = {0: a}\n",
        "\n",
        "    for i in range(1, n):\n",
        "        fibonacci_diccionario[i] = b\n",
        "        a, b = b, a + b\n",
        "\n",
        "    print(\"Serie Fibonacci:\", list(fibonacci_diccionario.values()))\n"
      ],
      "metadata": {
        "colab": {
          "base_uri": "https://localhost:8080/"
        },
        "id": "bZi3aQNJi6ar",
        "outputId": "2c3210ae-e6d8-4ab6-ba9c-3c7de1e7edfe"
      },
      "execution_count": 9,
      "outputs": [
        {
          "output_type": "stream",
          "name": "stdout",
          "text": [
            "Ingresa cuántos números de la serie Fibonacci quieres ver: 4\n",
            "Serie Fibonacci: [0, 1, 1, 2]\n"
          ]
        }
      ]
    },
    {
      "cell_type": "markdown",
      "source": [
        "**EJERCICIO 20** Programa que adivine entre un conjunto de diez colores definidos por el usuario, con un máximo de 10 intentos"
      ],
      "metadata": {
        "id": "_xOOze60Muc8"
      }
    },
    {
      "cell_type": "code",
      "source": [
        "#LISTAS\n",
        "import random\n",
        "colores = [\"amarillo\", \"verde\", \"rosa\", \"naranja\", \"marron\", \"azul\", \"morado\", \"negro\", \"blanco\", \"gris\"]\n",
        "color_cpu = random.choice(colores)\n",
        "print(\"Estoy pensando en un color de esta lista: amarillo, verde, rosa, naranja, marrón, azul, morado, negro, blanco, gris\")\n",
        "\n",
        "for intento in range(10):\n",
        "    color_user = input(\"¿En qué color estoy pensando? \").lower()\n",
        "\n",
        "    if color_user == color_cpu:\n",
        "        print(\"¡Felicidades! Adivinaste el color.\")\n",
        "        break\n",
        "    else:\n",
        "        print(\"No, ese no es el color que estoy pensando D:\")\n",
        "\n",
        "    if intento == 9:\n",
        "        print(f\"Lo siento, el color correcto era {color_cpu}.\")\n"
      ],
      "metadata": {
        "id": "ygZqWMXiMyce"
      },
      "execution_count": null,
      "outputs": []
    },
    {
      "cell_type": "code",
      "source": [
        "#DICCIONARIO\n",
        "import random\n",
        "colores = [\"amarillo\", \"verde\", \"rosa\", \"naranja\", \"marron\", \"azul\", \"morado\", \"negro\", \"blanco\", \"gris\"]\n",
        "color_cpu = random.choice(colores)\n",
        "\n",
        "intentos_info = {\"color_correcto\": color_cpu, \"intentos\": 0}\n",
        "\n",
        "print(\"Estoy pensando en un color de esta lista: amarillo, verde, rosa, naranja, marrón, azul, morado, negro, blanco, gris\")\n",
        "while intentos_info[\"intentos\"] < 10:\n",
        "    intentos_info[\"intentos\"] += 1\n",
        "    color_user = input(\"¿En qué color estoy pensando? \").lower()\n",
        "\n",
        "    if color_user == intentos_info[\"color_correcto\"]:\n",
        "        print(\"¡Felicidades! Adivinaste el color.\")\n",
        "        break\n",
        "    else:\n",
        "        print(\"No, ese no es el color que estoy pensando D:\")\n",
        "\n",
        "    if intentos_info[\"intentos\"] == 10:\n",
        "        print(f\"Lo siento, el color correcto era {intentos_info['color_correcto']}.\")\n"
      ],
      "metadata": {
        "colab": {
          "base_uri": "https://localhost:8080/"
        },
        "id": "YleDcPl0kc6G",
        "outputId": "207ebc49-96ed-4bd0-bfc5-12bfdb4e08cc"
      },
      "execution_count": 11,
      "outputs": [
        {
          "output_type": "stream",
          "name": "stdout",
          "text": [
            "Estoy pensando en un color de esta lista: amarillo, verde, rosa, naranja, marrón, azul, morado, negro, blanco, gris\n",
            "¿En qué color estoy pensando? amarillo\n",
            "No, ese no es el color que estoy pensando D:\n",
            "¿En qué color estoy pensando? verde\n",
            "No, ese no es el color que estoy pensando D:\n",
            "¿En qué color estoy pensando? rosa\n",
            "No, ese no es el color que estoy pensando D:\n",
            "¿En qué color estoy pensando? naranja\n",
            "¡Felicidades! Adivinaste el color.\n"
          ]
        }
      ]
    },
    {
      "cell_type": "markdown",
      "source": [
        "**EJERCICIO 21** Programa que muestre los números pares del 1 al 100"
      ],
      "metadata": {
        "id": "lZweFuvsNG-O"
      }
    },
    {
      "cell_type": "code",
      "source": [
        "#LISTAS\n",
        "numeros_pares = []\n",
        "for i in range(2, 101, 2):\n",
        "    numeros_pares.append(i)\n",
        "print(numeros_pares)\n"
      ],
      "metadata": {
        "colab": {
          "base_uri": "https://localhost:8080/"
        },
        "id": "0Ob4-VLKNM0d",
        "outputId": "26ed75ec-839d-42b4-cc85-b98bdb37d88a"
      },
      "execution_count": null,
      "outputs": [
        {
          "output_type": "stream",
          "name": "stdout",
          "text": [
            "[2, 4, 6, 8, 10, 12, 14, 16, 18, 20, 22, 24, 26, 28, 30, 32, 34, 36, 38, 40, 42, 44, 46, 48, 50, 52, 54, 56, 58, 60, 62, 64, 66, 68, 70, 72, 74, 76, 78, 80, 82, 84, 86, 88, 90, 92, 94, 96, 98, 100]\n"
          ]
        }
      ]
    },
    {
      "cell_type": "code",
      "source": [
        "#DICCIONARIO\n",
        "numeros_pares = {}\n",
        "for i in range(2, 101, 2):\n",
        "    numeros_pares[i] = i\n",
        "print(\"Los números pares entre 1 y 100 son:\")\n",
        "for clave, valor in numeros_pares.items():\n",
        "    print(valor)\n",
        "\n",
        "\n"
      ],
      "metadata": {
        "colab": {
          "base_uri": "https://localhost:8080/"
        },
        "id": "KX9ac4gqlhYt",
        "outputId": "12da95eb-18f1-4fcd-b5fd-fdee7b94d6e5"
      },
      "execution_count": 15,
      "outputs": [
        {
          "output_type": "stream",
          "name": "stdout",
          "text": [
            "Los números pares entre 1 y 100 son:\n",
            "2\n",
            "4\n",
            "6\n",
            "8\n",
            "10\n",
            "12\n",
            "14\n",
            "16\n",
            "18\n",
            "20\n",
            "22\n",
            "24\n",
            "26\n",
            "28\n",
            "30\n",
            "32\n",
            "34\n",
            "36\n",
            "38\n",
            "40\n",
            "42\n",
            "44\n",
            "46\n",
            "48\n",
            "50\n",
            "52\n",
            "54\n",
            "56\n",
            "58\n",
            "60\n",
            "62\n",
            "64\n",
            "66\n",
            "68\n",
            "70\n",
            "72\n",
            "74\n",
            "76\n",
            "78\n",
            "80\n",
            "82\n",
            "84\n",
            "86\n",
            "88\n",
            "90\n",
            "92\n",
            "94\n",
            "96\n",
            "98\n",
            "100\n"
          ]
        }
      ]
    },
    {
      "cell_type": "markdown",
      "source": [
        "**EJERCICIO 22** Programa que calcule la suma de los dígitos de un número."
      ],
      "metadata": {
        "id": "PtE0KyYTNXil"
      }
    },
    {
      "cell_type": "code",
      "source": [
        "#LISTAS\n",
        "numero = int(input(\"Ingresa un número para calcular la suma de sus dígitos: \"))\n",
        "digitos = [int(digito) for digito in str(numero)]\n",
        "suma = sum(digitos)\n",
        "print(f\"La suma de los dígitos es: {suma}\")\n"
      ],
      "metadata": {
        "colab": {
          "base_uri": "https://localhost:8080/"
        },
        "id": "jhOJN-duNcoQ",
        "outputId": "ca46b370-49ea-4448-e7d6-cd9006644cff"
      },
      "execution_count": null,
      "outputs": [
        {
          "output_type": "stream",
          "name": "stdout",
          "text": [
            "Ingresa un número para calcular la suma de sus dígitos: 23\n",
            "La suma de los dígitos es: 5\n"
          ]
        }
      ]
    },
    {
      "cell_type": "code",
      "source": [
        "#DICCIONARIO\n",
        "numero = int(input(\"Ingresa un número para calcular la suma de sus dígitos: \"))\n",
        "digitos = {}\n",
        "suma = 0\n",
        "for i in range(len(str(numero))):\n",
        "    digitos[i] = int(str(numero)[i])\n",
        "    suma += digitos[i]\n",
        "print(f\"La suma de los dígitos es: {suma}\")"
      ],
      "metadata": {
        "colab": {
          "base_uri": "https://localhost:8080/"
        },
        "id": "S8zYQWbhmcwc",
        "outputId": "5e557428-b670-46c6-e750-27210433edf1"
      },
      "execution_count": 16,
      "outputs": [
        {
          "output_type": "stream",
          "name": "stdout",
          "text": [
            "Ingresa un número para calcular la suma de sus dígitos: 24\n",
            "La suma de los dígitos es: 6\n"
          ]
        }
      ]
    },
    {
      "cell_type": "markdown",
      "source": [
        "**EJERCICIO 23** Programa que determine si un número es primo"
      ],
      "metadata": {
        "id": "zEQ4oPB4NnGs"
      }
    },
    {
      "cell_type": "code",
      "source": [
        "#LISTAS\n",
        "numero = int(input(\"Ingresa un número para verificar si es primo: \"))\n",
        "\n",
        "if numero <= 1:\n",
        "    print(f\"{numero} no es un número primo\")\n",
        "else:\n",
        "    divisores = []\n",
        "    for i in range(2, int(numero ** 0.5) + 1):\n",
        "        if numero % i == 0:\n",
        "            divisores.append(i)\n",
        "    if len(divisores) == 0:\n",
        "        print(f\"{numero} es un número primo\")\n",
        "    else:\n",
        "        print(f\"{numero} no es un número primo, tiene divisores: {divisores}\")\n"
      ],
      "metadata": {
        "colab": {
          "base_uri": "https://localhost:8080/"
        },
        "id": "yGXIcb68NvsN",
        "outputId": "9fe37d97-9a4f-477c-8dfa-2c613a696aa4"
      },
      "execution_count": null,
      "outputs": [
        {
          "output_type": "stream",
          "name": "stdout",
          "text": [
            "Ingresa un número para verificar si es primo: 3\n",
            "3 es un número primo\n"
          ]
        }
      ]
    },
    {
      "cell_type": "code",
      "source": [
        "#DICCIONARIO\n",
        "numero = int(input(\"Ingresa un número para verificar si es primo: \"))\n",
        "resultado = {\"numero\": numero, \"es_primo\": True, \"divisores\": []}\n",
        "\n",
        "if numero <= 1:\n",
        "    resultado[\"es_primo\"] = False\n",
        "    print(f\"{numero} no es un número primo\")\n",
        "else:\n",
        "    for i in range(2, int(numero ** 0.5) + 1):\n",
        "        if numero % i == 0:\n",
        "            resultado[\"divisores\"].append(i)\n",
        "            resultado[\"es_primo\"] = False\n",
        "\n",
        "    if resultado[\"es_primo\"]:\n",
        "        print(f\"{numero} es un número primo\")\n",
        "    else:\n",
        "        print(f\"{numero} no es un número primo\")\n"
      ],
      "metadata": {
        "colab": {
          "base_uri": "https://localhost:8080/"
        },
        "id": "clh7QnYKmtTt",
        "outputId": "008465dd-1a06-49dd-cdbc-16ba936550c3"
      },
      "execution_count": 21,
      "outputs": [
        {
          "output_type": "stream",
          "name": "stdout",
          "text": [
            "Ingresa un número para verificar si es primo: 8\n",
            "8 no es un número primo\n"
          ]
        }
      ]
    },
    {
      "cell_type": "markdown",
      "source": [
        "**EJERCICIO 24** Programa que muestre el patrón de un triángulo con asteriscos."
      ],
      "metadata": {
        "id": "yIgdjn4pN7Wi"
      }
    },
    {
      "cell_type": "code",
      "source": [
        "#LISTAS\n",
        "filas = int(input(\"Ingresa el número de filas para el triángulo: \"))\n",
        "triangulo = []\n",
        "for i in range(1, filas + 1):\n",
        "    triangulo.append('*' * i)\n",
        "for fila in triangulo:\n",
        "    print(fila)\n"
      ],
      "metadata": {
        "colab": {
          "base_uri": "https://localhost:8080/"
        },
        "id": "EfYVfn8_OBij",
        "outputId": "e069f9d4-ae11-4256-f25c-f0b6c8ffbef9"
      },
      "execution_count": null,
      "outputs": [
        {
          "output_type": "stream",
          "name": "stdout",
          "text": [
            "Ingresa el número de filas para el triángulo: 5\n",
            "*\n",
            "**\n",
            "***\n",
            "****\n",
            "*****\n"
          ]
        }
      ]
    },
    {
      "cell_type": "code",
      "source": [
        "#DICCIONARIO\n",
        "filas = int(input(\"Ingresa el número de filas para el triángulo: \"))\n",
        "triangulo = {}\n",
        "for i in range(1, filas + 1):\n",
        "    triangulo[i] = '*' * i\n",
        "    print(triangulo[i])\n"
      ],
      "metadata": {
        "colab": {
          "base_uri": "https://localhost:8080/"
        },
        "id": "H3LqMs1noq27",
        "outputId": "01a5db0a-f3b0-43f9-8e1d-bf1e481575a9"
      },
      "execution_count": 25,
      "outputs": [
        {
          "output_type": "stream",
          "name": "stdout",
          "text": [
            "Ingresa el número de filas para el triángulo: 4\n",
            "*\n",
            "**\n",
            "***\n",
            "****\n"
          ]
        }
      ]
    },
    {
      "cell_type": "markdown",
      "source": [
        "**EJERCICIO 25** Programa que calcule la potencia de un número sin usar el operador **"
      ],
      "metadata": {
        "id": "xvrKsnjwOK2L"
      }
    },
    {
      "cell_type": "code",
      "source": [
        "#LISTAS\n",
        "base = int(input(\"Ingresa la base: \"))\n",
        "exponente = int(input(\"Ingresa el exponente: \"))\n",
        "resultados = [base]\n",
        "for i in range(1, abs(exponente)):\n",
        "    resultados.append(resultados[i-1] * base)\n",
        "\n",
        "if exponente < 0:\n",
        "    resultado = 1 / resultados[-1]\n",
        "else:\n",
        "    resultado = resultados[-1]\n",
        "\n",
        "print(f\"{base} elevado a la potencia {exponente} es: {resultado}\")\n"
      ],
      "metadata": {
        "colab": {
          "base_uri": "https://localhost:8080/"
        },
        "id": "LB54HxfYOPWA",
        "outputId": "e4757abe-6b20-4611-f416-fc230312c206"
      },
      "execution_count": null,
      "outputs": [
        {
          "output_type": "stream",
          "name": "stdout",
          "text": [
            "Ingresa la base: 3\n",
            "Ingresa el exponente: 2\n",
            "3 elevado a la potencia 2 es: 9\n"
          ]
        }
      ]
    },
    {
      "cell_type": "code",
      "source": [
        "#DICCIONARIO\n",
        "base = int(input(\"Ingresa la base: \"))\n",
        "exponente = int(input(\"Ingresa el exponente: \"))\n",
        "potencia_info = {\"base\": base, \"exponente\": exponente, \"resultados\": {0: base}}\n",
        "\n",
        "for i in range(1, abs(exponente)):\n",
        "    potencia_info[\"resultados\"][i] = potencia_info[\"resultados\"][i-1] * base\n",
        "\n",
        "if exponente < 0:\n",
        "    resultado = 1 / potencia_info[\"resultados\"][abs(exponente)-1]\n",
        "else:\n",
        "    resultado = potencia_info[\"resultados\"][abs(exponente)-1]\n",
        "\n",
        "print(f\"{potencia_info['base']} elevado a la potencia {potencia_info['exponente']} es: {resultado}\")\n"
      ],
      "metadata": {
        "colab": {
          "base_uri": "https://localhost:8080/"
        },
        "id": "9tIvNhUco3SA",
        "outputId": "aa904f1b-80aa-4158-8b53-98315c5ecf02"
      },
      "execution_count": 27,
      "outputs": [
        {
          "output_type": "stream",
          "name": "stdout",
          "text": [
            "Ingresa la base: 2\n",
            "Ingresa el exponente: 3\n",
            "2 elevado a la potencia 3 es: 8\n"
          ]
        }
      ]
    }
  ]
}