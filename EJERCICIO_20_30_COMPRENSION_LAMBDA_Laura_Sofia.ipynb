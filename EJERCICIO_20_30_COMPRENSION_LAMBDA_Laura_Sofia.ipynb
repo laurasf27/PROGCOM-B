{
  "nbformat": 4,
  "nbformat_minor": 0,
  "metadata": {
    "colab": {
      "provenance": []
    },
    "kernelspec": {
      "name": "python3",
      "display_name": "Python 3"
    },
    "language_info": {
      "name": "python"
    }
  },
  "cells": [
    {
      "cell_type": "markdown",
      "source": [
        "**20. Escribe un programa que adivine entre un conjunto de diez colores definidos por el usuario, con un máximo de 10 intentos.**"
      ],
      "metadata": {
        "id": "SPqVOVCdlNd7"
      }
    },
    {
      "cell_type": "code",
      "source": [
        "#POR COMPRENSIÓN\n",
        "import random\n",
        "colores = [\"amarillo\", \"verde\", \"rosa\", \"naranja\", \"marrón\", \"azul\", \"morado\", \"negro\", \"blanco\", \"gris\"]\n",
        "color_cpu = random.choice(colores)\n",
        "intentos = [input(\"¿En qué color estoy pensando? \") for _ in range(10)]\n",
        "if color_cpu in intentos:\n",
        "    print(\"¡Felicidades! Has adivinado el color.\")\n",
        "else:\n",
        "    print(f\"No lograste adivinar. El color era {color_cpu}.\")\n"
      ],
      "metadata": {
        "colab": {
          "base_uri": "https://localhost:8080/"
        },
        "id": "9P9_TAxNlTAx",
        "outputId": "32bc75a1-9f8c-45d2-85f6-1c8179721b11"
      },
      "execution_count": 1,
      "outputs": [
        {
          "output_type": "stream",
          "name": "stdout",
          "text": [
            "¿En qué color estoy pensando? blanco\n",
            "¿En qué color estoy pensando? verde\n",
            "¿En qué color estoy pensando? amarilo\n",
            "¿En qué color estoy pensando? rosa\n",
            "¿En qué color estoy pensando? naranja\n",
            "¿En qué color estoy pensando? marron\n",
            "¿En qué color estoy pensando? azul\n",
            "¿En qué color estoy pensando? morado\n",
            "¿En qué color estoy pensando? negro\n",
            "¿En qué color estoy pensando? gris\n",
            "¡Felicidades! Has adivinado el color.\n"
          ]
        }
      ]
    },
    {
      "cell_type": "code",
      "source": [
        "#POR FUNCION LAMBDA\n",
        "import random\n",
        "colores = [\"amarillo\", \"verde\", \"rosa\", \"naranja\", \"marrón\", \"azul\", \"morado\", \"negro\", \"blanco\", \"gris\"]\n",
        "color_cpu = random.choice(colores)\n",
        "adivinar = lambda: input(\"¿En qué color estoy pensando? \").lower()\n",
        "intentos = [adivinar() for _ in range(10)]\n",
        "print(\"¡Felicidades! Has adivinado el color.\" if color_cpu in intentos else f\"No lograste adivinar. El color era {color_cpu}.\")\n",
        "\n"
      ],
      "metadata": {
        "collapsed": true,
        "id": "u3Y4ze7VoCxP"
      },
      "execution_count": null,
      "outputs": []
    },
    {
      "cell_type": "markdown",
      "source": [
        "**21.Desarrolla un programa que muestre los números pares del 1 al 100.**"
      ],
      "metadata": {
        "id": "yTd-crz2pBB2"
      }
    },
    {
      "cell_type": "code",
      "source": [
        "#POR COMPRENSIÓN\n",
        "numeros_pares = [i for i in range(2, 101, 2)]\n",
        "print(numeros_pares)"
      ],
      "metadata": {
        "colab": {
          "base_uri": "https://localhost:8080/"
        },
        "id": "74p-BGEtpHAW",
        "outputId": "f48ce8a2-4c68-4a6b-8a6e-eb4c8d52025e"
      },
      "execution_count": 5,
      "outputs": [
        {
          "output_type": "stream",
          "name": "stdout",
          "text": [
            "[2, 4, 6, 8, 10, 12, 14, 16, 18, 20, 22, 24, 26, 28, 30, 32, 34, 36, 38, 40, 42, 44, 46, 48, 50, 52, 54, 56, 58, 60, 62, 64, 66, 68, 70, 72, 74, 76, 78, 80, 82, 84, 86, 88, 90, 92, 94, 96, 98, 100]\n"
          ]
        }
      ]
    },
    {
      "cell_type": "code",
      "source": [
        "#POR FUNCION LAMBDA\n",
        "numeros_pares = (lambda: [i for i in range(2, 101, 2)])()\n",
        "print(numeros_pares)"
      ],
      "metadata": {
        "colab": {
          "base_uri": "https://localhost:8080/"
        },
        "id": "2MvnYaWtpibF",
        "outputId": "80659e2f-8f22-4cc3-c2fd-46c90dee8c67"
      },
      "execution_count": 8,
      "outputs": [
        {
          "output_type": "stream",
          "name": "stdout",
          "text": [
            "[2, 4, 6, 8, 10, 12, 14, 16, 18, 20, 22, 24, 26, 28, 30, 32, 34, 36, 38, 40, 42, 44, 46, 48, 50, 52, 54, 56, 58, 60, 62, 64, 66, 68, 70, 72, 74, 76, 78, 80, 82, 84, 86, 88, 90, 92, 94, 96, 98, 100]\n"
          ]
        }
      ]
    },
    {
      "cell_type": "markdown",
      "source": [
        "**22.Crea un programa que calcule la suma de los dígitos de un número.**"
      ],
      "metadata": {
        "id": "KwTe7Ktrp4tF"
      }
    },
    {
      "cell_type": "code",
      "source": [
        "#POR COMPRENSIÓN\n",
        "numero = int(input(\"Introduce un número: \"))\n",
        "suma_digitos = sum([int(i) for i in str(numero)])\n",
        "print(f\"La suma de los dígitos de {numero} es {suma_digitos}.\")"
      ],
      "metadata": {
        "colab": {
          "base_uri": "https://localhost:8080/"
        },
        "id": "ZOR52ZD1p4Sl",
        "outputId": "322ac3c2-b064-4689-f6c2-01ddc8f078de"
      },
      "execution_count": 10,
      "outputs": [
        {
          "output_type": "stream",
          "name": "stdout",
          "text": [
            "Introduce un número: 23\n",
            "La suma de los dígitos de 23 es 5.\n"
          ]
        }
      ]
    },
    {
      "cell_type": "code",
      "source": [
        "#POR FUNCION LAMBDA\n",
        "numero = int(input(\"Introduce un número: \"))\n",
        "suma_digitos = (lambda: sum([int(i) for i in str(numero)]))()\n",
        "print(f\"La suma de los dígitos de {numero} es {suma_digitos}.\")"
      ],
      "metadata": {
        "colab": {
          "base_uri": "https://localhost:8080/"
        },
        "id": "Umlp5bkiqPVN",
        "outputId": "aced3224-a9f0-4ece-becd-bf7826c5f10b"
      },
      "execution_count": 12,
      "outputs": [
        {
          "output_type": "stream",
          "name": "stdout",
          "text": [
            "Introduce un número: 24\n",
            "La suma de los dígitos de 24 es 6.\n"
          ]
        }
      ]
    },
    {
      "cell_type": "markdown",
      "source": [
        "**23.Escribe un programa que determine si un número es primo.**"
      ],
      "metadata": {
        "id": "pr5ZVJvhqYkt"
      }
    },
    {
      "cell_type": "code",
      "source": [
        "#POR COMPRENSIÓN\n",
        "numero = int(input(\"Introduce un número: \"))\n",
        "es_primo = all([numero % i != 0 for i in range(2, numero)])\n",
        "print(f\"{numero} es primo.\" if es_primo else f\"{numero} no es primo.\")"
      ],
      "metadata": {
        "colab": {
          "base_uri": "https://localhost:8080/"
        },
        "id": "UW2lpiZIqU3V",
        "outputId": "fb5bd50c-1b01-4b85-a35f-9732b899b46c"
      },
      "execution_count": 16,
      "outputs": [
        {
          "output_type": "stream",
          "name": "stdout",
          "text": [
            "Introduce un número: 2\n",
            "2 es primo.\n"
          ]
        }
      ]
    },
    {
      "cell_type": "code",
      "source": [
        "#POR FUNCION LAMBDA\n",
        "es_primo = lambda num: num > 1 and all(num % i != 0 for i in range(2, int(num**0.5) + 1))\n",
        "numero = int(input(\"Introduce un número: \"))\n",
        "print(f\"{numero} es primo.\" if es_primo(numero) else f\"{numero} no es primo.\")"
      ],
      "metadata": {
        "colab": {
          "base_uri": "https://localhost:8080/"
        },
        "id": "SXn9hrfaq49V",
        "outputId": "f8189f06-31a1-4c6d-d751-c2a6e502f40e"
      },
      "execution_count": 19,
      "outputs": [
        {
          "output_type": "stream",
          "name": "stdout",
          "text": [
            "Introduce un número: 8\n",
            "8 no es primo.\n"
          ]
        }
      ]
    },
    {
      "cell_type": "markdown",
      "source": [
        "**24.Desarrolla un programa que muestre el patrón de un triángulo con asteriscos.**"
      ],
      "metadata": {
        "id": "M_vPZ6vFrBul"
      }
    },
    {
      "cell_type": "code",
      "source": [
        "#POR COMPRENSIÓN\n",
        "filas = int(input(\"Ingresa el número de filas para el triángulo: \"))\n",
        "triangulo = []\n",
        "for i in range(1, filas + 1):\n",
        "    triangulo.append('*' * i)\n",
        "for fila in triangulo:\n",
        "    print(fila)"
      ],
      "metadata": {
        "colab": {
          "base_uri": "https://localhost:8080/"
        },
        "id": "_-6lF9ElrGG1",
        "outputId": "317724d8-5e82-4332-c786-66a28f044dac"
      },
      "execution_count": 22,
      "outputs": [
        {
          "output_type": "stream",
          "name": "stdout",
          "text": [
            "Ingresa el número de filas para el triángulo: 3\n",
            "*\n",
            "**\n",
            "***\n"
          ]
        }
      ]
    },
    {
      "cell_type": "code",
      "source": [
        "#POR FUNCION LAMBDA\n",
        "triangulo = lambda n: '\\n'.join(['*' * (i + 1) for i in range(n)])\n",
        "filas = int(input(\"Ingresa el número de filas para el triángulo: \"))\n",
        "print(triangulo(filas))\n"
      ],
      "metadata": {
        "colab": {
          "base_uri": "https://localhost:8080/"
        },
        "id": "IKot8_u5rwt8",
        "outputId": "0d21faee-0344-4ac2-f00a-7e97e46b6daf"
      },
      "execution_count": 27,
      "outputs": [
        {
          "output_type": "stream",
          "name": "stdout",
          "text": [
            "Ingresa el número de filas para el triángulo: 3\n",
            "*\n",
            "**\n",
            "***\n"
          ]
        }
      ]
    },
    {
      "cell_type": "markdown",
      "source": [
        "**25.Crea un programa que calcule la potencia de un número sin usar el operador****"
      ],
      "metadata": {
        "id": "4ebZH6N4s8gD"
      }
    },
    {
      "cell_type": "code",
      "source": [
        "#POR COMPRENSIÓN\n",
        "base = int(input(\"Ingresa la base: \"))\n",
        "exponente = int(input(\"Ingresa el exponente: \"))\n",
        "resultados = [base]\n",
        "for i in range(1, abs(exponente)):\n",
        "    resultados.append(resultados[i-1] * base)\n",
        "\n",
        "if exponente < 0:\n",
        "    resultado = 1 / resultados[-1]\n",
        "else:\n",
        "    resultado = resultados[-1]\n",
        "\n",
        "print(f\"{base} elevado a la potencia {exponente} es: {resultado}\")"
      ],
      "metadata": {
        "id": "76MYgoJEs7sr"
      },
      "execution_count": null,
      "outputs": []
    },
    {
      "cell_type": "code",
      "source": [
        "#POR FUNCION LAMBDA\n",
        "potencia = lambda base, exponente: 1 / (base ** abs(exponente)) if exponente < 0 else base ** exponente\n",
        "base = int(input(\"Ingresa la base: \"))\n",
        "exponente = int(input(\"Ingresa el exponente: \"))\n",
        "print(f\"{base} elevado a la potencia {exponente} es: {potencia(base, exponente)}\")"
      ],
      "metadata": {
        "colab": {
          "base_uri": "https://localhost:8080/"
        },
        "id": "KUU_f_rutJ9q",
        "outputId": "97a2697e-8cb2-4cec-9581-3e72b6c484ac"
      },
      "execution_count": 29,
      "outputs": [
        {
          "output_type": "stream",
          "name": "stdout",
          "text": [
            "Ingresa la base: 3\n",
            "Ingresa el exponente: 2\n",
            "3 elevado a la potencia 2 es: 9\n"
          ]
        }
      ]
    },
    {
      "cell_type": "markdown",
      "source": [
        "**26.Escribe un programa que muestre todas las tablas de multiplicar del 1 al 10.**"
      ],
      "metadata": {
        "id": "DamcVE96ujVC"
      }
    },
    {
      "cell_type": "code",
      "source": [
        "tablas = [[f\"{i} × {j} = {i * j}\" for j in range(1, 11)] for i in range(1, 11)]\n",
        "for tabla in tablas:\n",
        "    print(\"\\n\".join(tabla))\n",
        "    print()"
      ],
      "metadata": {
        "colab": {
          "base_uri": "https://localhost:8080/"
        },
        "id": "77sEDSHHuuzh",
        "outputId": "78ecb034-50ea-4856-ee3f-b08db5a81906"
      },
      "execution_count": 30,
      "outputs": [
        {
          "output_type": "stream",
          "name": "stdout",
          "text": [
            "1 × 1 = 1\n",
            "1 × 2 = 2\n",
            "1 × 3 = 3\n",
            "1 × 4 = 4\n",
            "1 × 5 = 5\n",
            "1 × 6 = 6\n",
            "1 × 7 = 7\n",
            "1 × 8 = 8\n",
            "1 × 9 = 9\n",
            "1 × 10 = 10\n",
            "\n",
            "2 × 1 = 2\n",
            "2 × 2 = 4\n",
            "2 × 3 = 6\n",
            "2 × 4 = 8\n",
            "2 × 5 = 10\n",
            "2 × 6 = 12\n",
            "2 × 7 = 14\n",
            "2 × 8 = 16\n",
            "2 × 9 = 18\n",
            "2 × 10 = 20\n",
            "\n",
            "3 × 1 = 3\n",
            "3 × 2 = 6\n",
            "3 × 3 = 9\n",
            "3 × 4 = 12\n",
            "3 × 5 = 15\n",
            "3 × 6 = 18\n",
            "3 × 7 = 21\n",
            "3 × 8 = 24\n",
            "3 × 9 = 27\n",
            "3 × 10 = 30\n",
            "\n",
            "4 × 1 = 4\n",
            "4 × 2 = 8\n",
            "4 × 3 = 12\n",
            "4 × 4 = 16\n",
            "4 × 5 = 20\n",
            "4 × 6 = 24\n",
            "4 × 7 = 28\n",
            "4 × 8 = 32\n",
            "4 × 9 = 36\n",
            "4 × 10 = 40\n",
            "\n",
            "5 × 1 = 5\n",
            "5 × 2 = 10\n",
            "5 × 3 = 15\n",
            "5 × 4 = 20\n",
            "5 × 5 = 25\n",
            "5 × 6 = 30\n",
            "5 × 7 = 35\n",
            "5 × 8 = 40\n",
            "5 × 9 = 45\n",
            "5 × 10 = 50\n",
            "\n",
            "6 × 1 = 6\n",
            "6 × 2 = 12\n",
            "6 × 3 = 18\n",
            "6 × 4 = 24\n",
            "6 × 5 = 30\n",
            "6 × 6 = 36\n",
            "6 × 7 = 42\n",
            "6 × 8 = 48\n",
            "6 × 9 = 54\n",
            "6 × 10 = 60\n",
            "\n",
            "7 × 1 = 7\n",
            "7 × 2 = 14\n",
            "7 × 3 = 21\n",
            "7 × 4 = 28\n",
            "7 × 5 = 35\n",
            "7 × 6 = 42\n",
            "7 × 7 = 49\n",
            "7 × 8 = 56\n",
            "7 × 9 = 63\n",
            "7 × 10 = 70\n",
            "\n",
            "8 × 1 = 8\n",
            "8 × 2 = 16\n",
            "8 × 3 = 24\n",
            "8 × 4 = 32\n",
            "8 × 5 = 40\n",
            "8 × 6 = 48\n",
            "8 × 7 = 56\n",
            "8 × 8 = 64\n",
            "8 × 9 = 72\n",
            "8 × 10 = 80\n",
            "\n",
            "9 × 1 = 9\n",
            "9 × 2 = 18\n",
            "9 × 3 = 27\n",
            "9 × 4 = 36\n",
            "9 × 5 = 45\n",
            "9 × 6 = 54\n",
            "9 × 7 = 63\n",
            "9 × 8 = 72\n",
            "9 × 9 = 81\n",
            "9 × 10 = 90\n",
            "\n",
            "10 × 1 = 10\n",
            "10 × 2 = 20\n",
            "10 × 3 = 30\n",
            "10 × 4 = 40\n",
            "10 × 5 = 50\n",
            "10 × 6 = 60\n",
            "10 × 7 = 70\n",
            "10 × 8 = 80\n",
            "10 × 9 = 90\n",
            "10 × 10 = 100\n",
            "\n"
          ]
        }
      ]
    },
    {
      "cell_type": "code",
      "source": [
        "#POR LAMBDA\n",
        "tablas = lambda: [[print(f\"{i} × {j} = {i * j}\") for j in range(1, 11)] and print() for i in range(1, 11)]\n",
        "tablas()"
      ],
      "metadata": {
        "colab": {
          "base_uri": "https://localhost:8080/"
        },
        "id": "fuIF1fXivHuh",
        "outputId": "b09d4320-f14b-4c19-9beb-7f941fc1f1a5"
      },
      "execution_count": 33,
      "outputs": [
        {
          "output_type": "stream",
          "name": "stdout",
          "text": [
            "1 × 1 = 1\n",
            "1 × 2 = 2\n",
            "1 × 3 = 3\n",
            "1 × 4 = 4\n",
            "1 × 5 = 5\n",
            "1 × 6 = 6\n",
            "1 × 7 = 7\n",
            "1 × 8 = 8\n",
            "1 × 9 = 9\n",
            "1 × 10 = 10\n",
            "\n",
            "2 × 1 = 2\n",
            "2 × 2 = 4\n",
            "2 × 3 = 6\n",
            "2 × 4 = 8\n",
            "2 × 5 = 10\n",
            "2 × 6 = 12\n",
            "2 × 7 = 14\n",
            "2 × 8 = 16\n",
            "2 × 9 = 18\n",
            "2 × 10 = 20\n",
            "\n",
            "3 × 1 = 3\n",
            "3 × 2 = 6\n",
            "3 × 3 = 9\n",
            "3 × 4 = 12\n",
            "3 × 5 = 15\n",
            "3 × 6 = 18\n",
            "3 × 7 = 21\n",
            "3 × 8 = 24\n",
            "3 × 9 = 27\n",
            "3 × 10 = 30\n",
            "\n",
            "4 × 1 = 4\n",
            "4 × 2 = 8\n",
            "4 × 3 = 12\n",
            "4 × 4 = 16\n",
            "4 × 5 = 20\n",
            "4 × 6 = 24\n",
            "4 × 7 = 28\n",
            "4 × 8 = 32\n",
            "4 × 9 = 36\n",
            "4 × 10 = 40\n",
            "\n",
            "5 × 1 = 5\n",
            "5 × 2 = 10\n",
            "5 × 3 = 15\n",
            "5 × 4 = 20\n",
            "5 × 5 = 25\n",
            "5 × 6 = 30\n",
            "5 × 7 = 35\n",
            "5 × 8 = 40\n",
            "5 × 9 = 45\n",
            "5 × 10 = 50\n",
            "\n",
            "6 × 1 = 6\n",
            "6 × 2 = 12\n",
            "6 × 3 = 18\n",
            "6 × 4 = 24\n",
            "6 × 5 = 30\n",
            "6 × 6 = 36\n",
            "6 × 7 = 42\n",
            "6 × 8 = 48\n",
            "6 × 9 = 54\n",
            "6 × 10 = 60\n",
            "\n",
            "7 × 1 = 7\n",
            "7 × 2 = 14\n",
            "7 × 3 = 21\n",
            "7 × 4 = 28\n",
            "7 × 5 = 35\n",
            "7 × 6 = 42\n",
            "7 × 7 = 49\n",
            "7 × 8 = 56\n",
            "7 × 9 = 63\n",
            "7 × 10 = 70\n",
            "\n",
            "8 × 1 = 8\n",
            "8 × 2 = 16\n",
            "8 × 3 = 24\n",
            "8 × 4 = 32\n",
            "8 × 5 = 40\n",
            "8 × 6 = 48\n",
            "8 × 7 = 56\n",
            "8 × 8 = 64\n",
            "8 × 9 = 72\n",
            "8 × 10 = 80\n",
            "\n",
            "9 × 1 = 9\n",
            "9 × 2 = 18\n",
            "9 × 3 = 27\n",
            "9 × 4 = 36\n",
            "9 × 5 = 45\n",
            "9 × 6 = 54\n",
            "9 × 7 = 63\n",
            "9 × 8 = 72\n",
            "9 × 9 = 81\n",
            "9 × 10 = 90\n",
            "\n",
            "10 × 1 = 10\n",
            "10 × 2 = 20\n",
            "10 × 3 = 30\n",
            "10 × 4 = 40\n",
            "10 × 5 = 50\n",
            "10 × 6 = 60\n",
            "10 × 7 = 70\n",
            "10 × 8 = 80\n",
            "10 × 9 = 90\n",
            "10 × 10 = 100\n",
            "\n"
          ]
        },
        {
          "output_type": "execute_result",
          "data": {
            "text/plain": [
              "[None, None, None, None, None, None, None, None, None, None]"
            ]
          },
          "metadata": {},
          "execution_count": 33
        }
      ]
    },
    {
      "cell_type": "markdown",
      "source": [
        "**27.Desarrolla un programa que encuentre todos los números perfectos hasta n.**"
      ],
      "metadata": {
        "id": "2H_TjRjNvoIQ"
      }
    },
    {
      "cell_type": "code",
      "source": [
        "#POR COMPRENSIÓN\n",
        "n = int(input(\"Ingresa un número límite: \"))\n",
        "numeros_perfectos = [num for num in range(2, n + 1) if sum([i for i in range(1, num) if num % i == 0]) == num]\n",
        "print(f\"Números perfectos hasta {n}: {numeros_perfectos}\")"
      ],
      "metadata": {
        "colab": {
          "base_uri": "https://localhost:8080/"
        },
        "id": "zT8yYaRovnnB",
        "outputId": "da100c8d-8aad-4f94-9bcf-625a286f9caf"
      },
      "execution_count": 36,
      "outputs": [
        {
          "output_type": "stream",
          "name": "stdout",
          "text": [
            "Ingresa un número límite: 30\n",
            "Números perfectos hasta 30: [6, 28]\n"
          ]
        }
      ]
    },
    {
      "cell_type": "code",
      "source": [
        "#POR LAMBDA\n",
        "numeros_perfectos = lambda n: [num for num in range(2, n + 1) if sum([i for i in range(1, num) if num % i == 0]) == num]\n",
        "n = int(input(\"Ingresa un número límite: \"))\n",
        "print(f\"Números perfectos hasta {n}: {numeros_perfectos(n)}\")"
      ],
      "metadata": {
        "colab": {
          "base_uri": "https://localhost:8080/"
        },
        "id": "2UGg4rFDwQKR",
        "outputId": "c8798440-0b2a-4aa2-f087-6bcc8b442468"
      },
      "execution_count": 37,
      "outputs": [
        {
          "output_type": "stream",
          "name": "stdout",
          "text": [
            "Ingresa un número límite: 6\n",
            "Números perfectos hasta 6: [6]\n"
          ]
        }
      ]
    },
    {
      "cell_type": "markdown",
      "source": [
        "**28.Crea un programa que genere un patrón de diamante con asteriscos.**"
      ],
      "metadata": {
        "id": "U7a2Qc8uwUvg"
      }
    },
    {
      "cell_type": "code",
      "source": [
        "#POR COMPRENSIÓN\n",
        "n = int(input(\"Ingresa el tamaño del diamante (número impar): \"))\n",
        "diamante = [\" \" * ((n - i) // 2) + \"*\" * i for i in range(1, n + 1, 2)]\n",
        "diamante += [\" \" * ((n - i) // 2) + \"*\" * i for i in range(n - 2, 0, -2)]\n",
        "print(\"\\n\".join(diamante))"
      ],
      "metadata": {
        "colab": {
          "base_uri": "https://localhost:8080/"
        },
        "id": "GCpi3VajwUI4",
        "outputId": "627be5be-64cc-4755-baac-6bf8c39bdcd6"
      },
      "execution_count": 38,
      "outputs": [
        {
          "output_type": "stream",
          "name": "stdout",
          "text": [
            "Ingresa el tamaño del diamante (número impar): 5\n",
            "  *\n",
            " ***\n",
            "*****\n",
            " ***\n",
            "  *\n"
          ]
        }
      ]
    },
    {
      "cell_type": "code",
      "source": [
        "#POR LAMBDA\n",
        "diamante = lambda n: \"\\n\".join([(\"*\" * i).center(n) for i in list(range(1, n + 1, 2)) + list(range(n - 2, 0, -2))])\n",
        "n = int(input(\"Ingresa el tamaño del diamante (número impar): \"))\n",
        "print(diamante(n))"
      ],
      "metadata": {
        "colab": {
          "base_uri": "https://localhost:8080/"
        },
        "id": "eWwt3FMmwlKo",
        "outputId": "59ff5e9b-1f1d-42bd-84f8-4a70761ed5b4"
      },
      "execution_count": 39,
      "outputs": [
        {
          "output_type": "stream",
          "name": "stdout",
          "text": [
            "Ingresa el tamaño del diamante (número impar): 7\n",
            "   *   \n",
            "  ***  \n",
            " ***** \n",
            "*******\n",
            " ***** \n",
            "  ***  \n",
            "   *   \n"
          ]
        }
      ]
    },
    {
      "cell_type": "markdown",
      "source": [
        "**29.Escribe un programa que encuentre todos los números Armstrong hasta n.**"
      ],
      "metadata": {
        "id": "lhmjzBd_xJKI"
      }
    },
    {
      "cell_type": "code",
      "source": [
        "#POR COMPRENSIÓN\n",
        "n = int(input(\"Ingresa un número límite: \"))\n",
        "numeros_armstrong = [num for num in range(1, n + 1) if sum([int(digito) ** len(str(num)) for digito in str(num)]) == num]\n",
        "print(f\"Números Armstrong hasta {n}: {numeros_armstrong}\")"
      ],
      "metadata": {
        "colab": {
          "base_uri": "https://localhost:8080/"
        },
        "id": "vSRb5ENfxeWX",
        "outputId": "13f4de0d-3e5f-4dba-ccb0-6e5dfbdc2525"
      },
      "execution_count": 40,
      "outputs": [
        {
          "output_type": "stream",
          "name": "stdout",
          "text": [
            "Ingresa un número límite: 4\n",
            "Números Armstrong hasta 4: [1, 2, 3, 4]\n"
          ]
        }
      ]
    },
    {
      "cell_type": "code",
      "source": [
        "#POR LAMBDA\n",
        "numeros_armstrong = lambda n: [num for num in range(1, n + 1) if sum([int(digito) ** len(str(num)) for digito in str(num)]) == num]\n",
        "n = int(input(\"Ingresa un número límite: \"))\n",
        "print(f\"Números Armstrong hasta {n}: {numeros_armstrong(n)}\")"
      ],
      "metadata": {
        "colab": {
          "base_uri": "https://localhost:8080/"
        },
        "id": "PKup09ROxkFv",
        "outputId": "d2f6e308-a336-4d8e-da03-d2fc7d4fab25"
      },
      "execution_count": 42,
      "outputs": [
        {
          "output_type": "stream",
          "name": "stdout",
          "text": [
            "Ingresa un número límite: 5\n",
            "Números Armstrong hasta 5: [1, 2, 3, 4, 5]\n"
          ]
        }
      ]
    },
    {
      "cell_type": "markdown",
      "source": [
        "**30.Desarrolla un programa que simule un reloj digital mostrando horas, minutos y segundos durante un período específico.**"
      ],
      "metadata": {
        "id": "KV1PNJczxouO"
      }
    },
    {
      "cell_type": "code",
      "source": [
        "#POR COMPRENSIÓN\n",
        "import time\n",
        "tiempo = int(input(\"Ingresa la duración del reloj en segundos: \"))\n",
        "reloj = [f\"{h:02}:{m:02}:{s:02}\" for h in range(24) for m in range(60) for s in range(60)]\n",
        "for i in range(tiempo):\n",
        "    print(reloj[i])\n",
        "    time.sleep(1)"
      ],
      "metadata": {
        "colab": {
          "base_uri": "https://localhost:8080/"
        },
        "id": "0SxPFL0Bx51P",
        "outputId": "8211b0c4-bfc0-4ba4-9e4b-241051d74079"
      },
      "execution_count": 45,
      "outputs": [
        {
          "output_type": "stream",
          "name": "stdout",
          "text": [
            "Ingresa la duración del reloj en segundos: 2\n",
            "00:00:00\n",
            "00:00:01\n"
          ]
        }
      ]
    },
    {
      "cell_type": "code",
      "source": [
        "#POR LAMBDA\n",
        "import time\n",
        "generar_reloj = lambda: [f\"{h:02}:{m:02}:{s:02}\" for h in range(24) for m in range(60) for s in range(60)]\n",
        "simular_reloj = lambda tiempo: (print(reloj[i]) or time.sleep(1) for i in range(tiempo))\n",
        "tiempo = int(input(\"Ingresa la duración del reloj en segundos: \"))\n",
        "reloj = generar_reloj()\n",
        "for _ in simular_reloj(tiempo):\n",
        "    pass"
      ],
      "metadata": {
        "colab": {
          "base_uri": "https://localhost:8080/"
        },
        "id": "y2R2VnPTyUjH",
        "outputId": "af6e298c-845b-4b58-93d0-68a8c53c71b9"
      },
      "execution_count": 48,
      "outputs": [
        {
          "output_type": "stream",
          "name": "stdout",
          "text": [
            "Ingresa la duración del reloj en segundos: 1\n",
            "00:00:00\n"
          ]
        }
      ]
    }
  ]
}