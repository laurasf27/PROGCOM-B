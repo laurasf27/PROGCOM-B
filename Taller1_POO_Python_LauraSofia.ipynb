{
  "nbformat": 4,
  "nbformat_minor": 0,
  "metadata": {
    "colab": {
      "provenance": []
    },
    "kernelspec": {
      "name": "python3",
      "display_name": "Python 3"
    },
    "language_info": {
      "name": "python"
    }
  },
  "cells": [
    {
      "cell_type": "markdown",
      "source": [
        "**PUNTO 1**"
      ],
      "metadata": {
        "id": "gJ3rp5sWS0b8"
      }
    },
    {
      "cell_type": "markdown",
      "source": [
        "archivo de entrada con lo solicitado"
      ],
      "metadata": {
        "id": "oGk2-u9VS6o7"
      }
    },
    {
      "cell_type": "code",
      "source": [
        "import csv\n",
        "import random\n",
        "\n",
        "NUM_PACIENTES = 50\n",
        "\n",
        "# Generar datos aleatorios\n",
        "def generar_pacientes():\n",
        "    pacientes = []\n",
        "    for i in range(NUM_PACIENTES):\n",
        "        saturacion = random.randint(85, 100)  # Valores aleatorios de saturación\n",
        "        vacunas = random.randint(0, 3)  # Número de vacunas\n",
        "        prueba_covid = random.choice([\"Positiva\", \"Negativa\"])  # Resultado de prueba\n",
        "        pacientes.append({\"ID\": i+1, \"Saturacion\": saturacion, \"Vacunas\": vacunas, \"Prueba COVID\": prueba_covid})\n",
        "    return pacientes\n",
        "\n",
        "# Mostrar los datos generados\n",
        "pacientes = generar_pacientes()\n",
        "\n",
        "for paciente in pacientes:\n",
        "    print(paciente)\n"
      ],
      "metadata": {
        "colab": {
          "base_uri": "https://localhost:8080/"
        },
        "id": "9RK_Cgh8R7D6",
        "outputId": "35967a4a-7de8-4c15-fbd2-0d66aa790358"
      },
      "execution_count": 16,
      "outputs": [
        {
          "output_type": "stream",
          "name": "stdout",
          "text": [
            "{'ID': 1, 'Saturacion': 95, 'Vacunas': 2, 'Prueba COVID': 'Negativa'}\n",
            "{'ID': 2, 'Saturacion': 94, 'Vacunas': 2, 'Prueba COVID': 'Positiva'}\n",
            "{'ID': 3, 'Saturacion': 91, 'Vacunas': 0, 'Prueba COVID': 'Positiva'}\n",
            "{'ID': 4, 'Saturacion': 95, 'Vacunas': 3, 'Prueba COVID': 'Negativa'}\n",
            "{'ID': 5, 'Saturacion': 91, 'Vacunas': 1, 'Prueba COVID': 'Positiva'}\n",
            "{'ID': 6, 'Saturacion': 90, 'Vacunas': 1, 'Prueba COVID': 'Positiva'}\n",
            "{'ID': 7, 'Saturacion': 98, 'Vacunas': 2, 'Prueba COVID': 'Negativa'}\n",
            "{'ID': 8, 'Saturacion': 99, 'Vacunas': 2, 'Prueba COVID': 'Negativa'}\n",
            "{'ID': 9, 'Saturacion': 91, 'Vacunas': 0, 'Prueba COVID': 'Negativa'}\n",
            "{'ID': 10, 'Saturacion': 90, 'Vacunas': 0, 'Prueba COVID': 'Negativa'}\n",
            "{'ID': 11, 'Saturacion': 99, 'Vacunas': 3, 'Prueba COVID': 'Negativa'}\n",
            "{'ID': 12, 'Saturacion': 89, 'Vacunas': 0, 'Prueba COVID': 'Positiva'}\n",
            "{'ID': 13, 'Saturacion': 93, 'Vacunas': 3, 'Prueba COVID': 'Negativa'}\n",
            "{'ID': 14, 'Saturacion': 88, 'Vacunas': 2, 'Prueba COVID': 'Positiva'}\n",
            "{'ID': 15, 'Saturacion': 87, 'Vacunas': 1, 'Prueba COVID': 'Positiva'}\n",
            "{'ID': 16, 'Saturacion': 89, 'Vacunas': 1, 'Prueba COVID': 'Positiva'}\n",
            "{'ID': 17, 'Saturacion': 100, 'Vacunas': 1, 'Prueba COVID': 'Negativa'}\n",
            "{'ID': 18, 'Saturacion': 85, 'Vacunas': 1, 'Prueba COVID': 'Positiva'}\n",
            "{'ID': 19, 'Saturacion': 88, 'Vacunas': 2, 'Prueba COVID': 'Negativa'}\n",
            "{'ID': 20, 'Saturacion': 90, 'Vacunas': 1, 'Prueba COVID': 'Negativa'}\n",
            "{'ID': 21, 'Saturacion': 97, 'Vacunas': 1, 'Prueba COVID': 'Positiva'}\n",
            "{'ID': 22, 'Saturacion': 99, 'Vacunas': 1, 'Prueba COVID': 'Negativa'}\n",
            "{'ID': 23, 'Saturacion': 94, 'Vacunas': 3, 'Prueba COVID': 'Positiva'}\n",
            "{'ID': 24, 'Saturacion': 85, 'Vacunas': 3, 'Prueba COVID': 'Positiva'}\n",
            "{'ID': 25, 'Saturacion': 90, 'Vacunas': 0, 'Prueba COVID': 'Positiva'}\n",
            "{'ID': 26, 'Saturacion': 92, 'Vacunas': 3, 'Prueba COVID': 'Negativa'}\n",
            "{'ID': 27, 'Saturacion': 88, 'Vacunas': 1, 'Prueba COVID': 'Positiva'}\n",
            "{'ID': 28, 'Saturacion': 96, 'Vacunas': 0, 'Prueba COVID': 'Negativa'}\n",
            "{'ID': 29, 'Saturacion': 95, 'Vacunas': 0, 'Prueba COVID': 'Negativa'}\n",
            "{'ID': 30, 'Saturacion': 91, 'Vacunas': 3, 'Prueba COVID': 'Positiva'}\n",
            "{'ID': 31, 'Saturacion': 99, 'Vacunas': 0, 'Prueba COVID': 'Negativa'}\n",
            "{'ID': 32, 'Saturacion': 90, 'Vacunas': 3, 'Prueba COVID': 'Negativa'}\n",
            "{'ID': 33, 'Saturacion': 94, 'Vacunas': 2, 'Prueba COVID': 'Negativa'}\n",
            "{'ID': 34, 'Saturacion': 96, 'Vacunas': 1, 'Prueba COVID': 'Positiva'}\n",
            "{'ID': 35, 'Saturacion': 86, 'Vacunas': 1, 'Prueba COVID': 'Positiva'}\n",
            "{'ID': 36, 'Saturacion': 93, 'Vacunas': 1, 'Prueba COVID': 'Positiva'}\n",
            "{'ID': 37, 'Saturacion': 97, 'Vacunas': 3, 'Prueba COVID': 'Positiva'}\n",
            "{'ID': 38, 'Saturacion': 97, 'Vacunas': 0, 'Prueba COVID': 'Positiva'}\n",
            "{'ID': 39, 'Saturacion': 93, 'Vacunas': 1, 'Prueba COVID': 'Negativa'}\n",
            "{'ID': 40, 'Saturacion': 85, 'Vacunas': 3, 'Prueba COVID': 'Negativa'}\n",
            "{'ID': 41, 'Saturacion': 90, 'Vacunas': 3, 'Prueba COVID': 'Positiva'}\n",
            "{'ID': 42, 'Saturacion': 94, 'Vacunas': 3, 'Prueba COVID': 'Negativa'}\n",
            "{'ID': 43, 'Saturacion': 94, 'Vacunas': 1, 'Prueba COVID': 'Positiva'}\n",
            "{'ID': 44, 'Saturacion': 99, 'Vacunas': 0, 'Prueba COVID': 'Negativa'}\n",
            "{'ID': 45, 'Saturacion': 97, 'Vacunas': 0, 'Prueba COVID': 'Positiva'}\n",
            "{'ID': 46, 'Saturacion': 93, 'Vacunas': 2, 'Prueba COVID': 'Positiva'}\n",
            "{'ID': 47, 'Saturacion': 93, 'Vacunas': 2, 'Prueba COVID': 'Positiva'}\n",
            "{'ID': 48, 'Saturacion': 96, 'Vacunas': 1, 'Prueba COVID': 'Positiva'}\n",
            "{'ID': 49, 'Saturacion': 92, 'Vacunas': 3, 'Prueba COVID': 'Negativa'}\n",
            "{'ID': 50, 'Saturacion': 90, 'Vacunas': 0, 'Prueba COVID': 'Positiva'}\n"
          ]
        }
      ]
    },
    {
      "cell_type": "markdown",
      "source": [
        "Archivo protegido que indica los resultados obtenidos"
      ],
      "metadata": {
        "id": "x8AGD9IpTAbE"
      }
    },
    {
      "cell_type": "code",
      "source": [
        "import csv\n",
        "import random\n",
        "\n",
        "NUM_PACIENTES = 50\n",
        "MAX_CAMILLAS = 10\n",
        "\n",
        "# Generar datos aleatorios\n",
        "def generar_pacientes():\n",
        "    pacientes = []\n",
        "    for i in range(NUM_PACIENTES):\n",
        "        saturacion = random.randint(85, 100)\n",
        "        vacunas = random.randint(0, 3)\n",
        "        prueba_covid = random.choice([\"Positiva\", \"Negativa\"])\n",
        "        pacientes.append({\n",
        "            \"ID\": i + 1,\n",
        "            \"Saturacion\": saturacion,\n",
        "            \"Vacunas\": vacunas,\n",
        "            \"Prueba COVID\": prueba_covid\n",
        "        })\n",
        "    return pacientes\n",
        "\n",
        "# Clasificar pacientes de acuerdo con condiciones\n",
        "def clasificar_pacientes(pacientes):\n",
        "    resultados = []\n",
        "    camillas_ocupadas = 0\n",
        "\n",
        "    for paciente in pacientes:\n",
        "        # Evaluación según las condiciones\n",
        "        if paciente[\"Saturacion\"] < 90:\n",
        "            destino = \"Sala COVID\"\n",
        "        elif paciente[\"Vacunas\"] < 2:\n",
        "            destino = \"Sala COVID\"\n",
        "        elif paciente[\"Prueba COVID\"] == \"Positiva\":\n",
        "            destino = \"Sala COVID\"\n",
        "        elif camillas_ocupadas < MAX_CAMILLAS:\n",
        "            destino = \"Urgencias\"\n",
        "            camillas_ocupadas += 1\n",
        "        else:\n",
        "            destino = \"En espera\"\n",
        "\n",
        "        paciente[\"Destino\"] = destino\n",
        "        resultados.append(paciente)\n",
        "\n",
        "    return resultados\n",
        "\n",
        "# Ejecutar\n",
        "pacientes = generar_pacientes()\n",
        "pacientes_clasificados = clasificar_pacientes(pacientes)\n",
        "\n",
        "# Guardar en CSV\n",
        "with open(\"resultados.csv\", mode='w', newline='', encoding='utf-8') as file:\n",
        "    columnas = [\"ID\", \"Saturacion\", \"Vacunas\", \"Prueba COVID\", \"Destino\"]\n",
        "    writer = csv.DictWriter(file, fieldnames=columnas)\n",
        "    writer.writeheader()\n",
        "    writer.writerows(pacientes_clasificados)\n",
        "\n",
        "# Mostrar resultados\n",
        "print(\"Resultados obtenidos:\")\n",
        "for paciente in pacientes_clasificados:\n",
        "    print(paciente)\n",
        "\n",
        "print(\"Archivo generado: resultados.csv\")\n"
      ],
      "metadata": {
        "colab": {
          "base_uri": "https://localhost:8080/"
        },
        "id": "JpFQPCw5R-QX",
        "outputId": "892d59e1-d1a3-43f9-8ae9-129af8aafb8b"
      },
      "execution_count": 23,
      "outputs": [
        {
          "output_type": "stream",
          "name": "stdout",
          "text": [
            "Resultados obtenidos:\n",
            "{'ID': 1, 'Saturacion': 89, 'Vacunas': 3, 'Prueba COVID': 'Negativa', 'Destino': 'Sala COVID'}\n",
            "{'ID': 2, 'Saturacion': 90, 'Vacunas': 0, 'Prueba COVID': 'Positiva', 'Destino': 'Sala COVID'}\n",
            "{'ID': 3, 'Saturacion': 98, 'Vacunas': 2, 'Prueba COVID': 'Positiva', 'Destino': 'Sala COVID'}\n",
            "{'ID': 4, 'Saturacion': 94, 'Vacunas': 2, 'Prueba COVID': 'Positiva', 'Destino': 'Sala COVID'}\n",
            "{'ID': 5, 'Saturacion': 93, 'Vacunas': 0, 'Prueba COVID': 'Positiva', 'Destino': 'Sala COVID'}\n",
            "{'ID': 6, 'Saturacion': 100, 'Vacunas': 0, 'Prueba COVID': 'Negativa', 'Destino': 'Sala COVID'}\n",
            "{'ID': 7, 'Saturacion': 98, 'Vacunas': 3, 'Prueba COVID': 'Negativa', 'Destino': 'Urgencias'}\n",
            "{'ID': 8, 'Saturacion': 92, 'Vacunas': 0, 'Prueba COVID': 'Positiva', 'Destino': 'Sala COVID'}\n",
            "{'ID': 9, 'Saturacion': 99, 'Vacunas': 1, 'Prueba COVID': 'Positiva', 'Destino': 'Sala COVID'}\n",
            "{'ID': 10, 'Saturacion': 91, 'Vacunas': 0, 'Prueba COVID': 'Negativa', 'Destino': 'Sala COVID'}\n",
            "{'ID': 11, 'Saturacion': 90, 'Vacunas': 1, 'Prueba COVID': 'Positiva', 'Destino': 'Sala COVID'}\n",
            "{'ID': 12, 'Saturacion': 96, 'Vacunas': 0, 'Prueba COVID': 'Positiva', 'Destino': 'Sala COVID'}\n",
            "{'ID': 13, 'Saturacion': 97, 'Vacunas': 3, 'Prueba COVID': 'Positiva', 'Destino': 'Sala COVID'}\n",
            "{'ID': 14, 'Saturacion': 90, 'Vacunas': 3, 'Prueba COVID': 'Negativa', 'Destino': 'Urgencias'}\n",
            "{'ID': 15, 'Saturacion': 99, 'Vacunas': 2, 'Prueba COVID': 'Negativa', 'Destino': 'Urgencias'}\n",
            "{'ID': 16, 'Saturacion': 94, 'Vacunas': 0, 'Prueba COVID': 'Negativa', 'Destino': 'Sala COVID'}\n",
            "{'ID': 17, 'Saturacion': 94, 'Vacunas': 3, 'Prueba COVID': 'Positiva', 'Destino': 'Sala COVID'}\n",
            "{'ID': 18, 'Saturacion': 96, 'Vacunas': 1, 'Prueba COVID': 'Negativa', 'Destino': 'Sala COVID'}\n",
            "{'ID': 19, 'Saturacion': 90, 'Vacunas': 3, 'Prueba COVID': 'Negativa', 'Destino': 'Urgencias'}\n",
            "{'ID': 20, 'Saturacion': 88, 'Vacunas': 1, 'Prueba COVID': 'Positiva', 'Destino': 'Sala COVID'}\n",
            "{'ID': 21, 'Saturacion': 96, 'Vacunas': 0, 'Prueba COVID': 'Negativa', 'Destino': 'Sala COVID'}\n",
            "{'ID': 22, 'Saturacion': 88, 'Vacunas': 1, 'Prueba COVID': 'Positiva', 'Destino': 'Sala COVID'}\n",
            "{'ID': 23, 'Saturacion': 91, 'Vacunas': 1, 'Prueba COVID': 'Negativa', 'Destino': 'Sala COVID'}\n",
            "{'ID': 24, 'Saturacion': 93, 'Vacunas': 3, 'Prueba COVID': 'Positiva', 'Destino': 'Sala COVID'}\n",
            "{'ID': 25, 'Saturacion': 88, 'Vacunas': 0, 'Prueba COVID': 'Negativa', 'Destino': 'Sala COVID'}\n",
            "{'ID': 26, 'Saturacion': 96, 'Vacunas': 3, 'Prueba COVID': 'Negativa', 'Destino': 'Urgencias'}\n",
            "{'ID': 27, 'Saturacion': 87, 'Vacunas': 0, 'Prueba COVID': 'Positiva', 'Destino': 'Sala COVID'}\n",
            "{'ID': 28, 'Saturacion': 94, 'Vacunas': 2, 'Prueba COVID': 'Negativa', 'Destino': 'Urgencias'}\n",
            "{'ID': 29, 'Saturacion': 99, 'Vacunas': 3, 'Prueba COVID': 'Negativa', 'Destino': 'Urgencias'}\n",
            "{'ID': 30, 'Saturacion': 92, 'Vacunas': 0, 'Prueba COVID': 'Positiva', 'Destino': 'Sala COVID'}\n",
            "{'ID': 31, 'Saturacion': 100, 'Vacunas': 3, 'Prueba COVID': 'Negativa', 'Destino': 'Urgencias'}\n",
            "{'ID': 32, 'Saturacion': 97, 'Vacunas': 0, 'Prueba COVID': 'Positiva', 'Destino': 'Sala COVID'}\n",
            "{'ID': 33, 'Saturacion': 85, 'Vacunas': 2, 'Prueba COVID': 'Positiva', 'Destino': 'Sala COVID'}\n",
            "{'ID': 34, 'Saturacion': 86, 'Vacunas': 3, 'Prueba COVID': 'Negativa', 'Destino': 'Sala COVID'}\n",
            "{'ID': 35, 'Saturacion': 96, 'Vacunas': 3, 'Prueba COVID': 'Negativa', 'Destino': 'Urgencias'}\n",
            "{'ID': 36, 'Saturacion': 92, 'Vacunas': 2, 'Prueba COVID': 'Positiva', 'Destino': 'Sala COVID'}\n",
            "{'ID': 37, 'Saturacion': 86, 'Vacunas': 0, 'Prueba COVID': 'Positiva', 'Destino': 'Sala COVID'}\n",
            "{'ID': 38, 'Saturacion': 91, 'Vacunas': 3, 'Prueba COVID': 'Negativa', 'Destino': 'Urgencias'}\n",
            "{'ID': 39, 'Saturacion': 90, 'Vacunas': 3, 'Prueba COVID': 'Positiva', 'Destino': 'Sala COVID'}\n",
            "{'ID': 40, 'Saturacion': 96, 'Vacunas': 3, 'Prueba COVID': 'Positiva', 'Destino': 'Sala COVID'}\n",
            "{'ID': 41, 'Saturacion': 91, 'Vacunas': 3, 'Prueba COVID': 'Positiva', 'Destino': 'Sala COVID'}\n",
            "{'ID': 42, 'Saturacion': 94, 'Vacunas': 1, 'Prueba COVID': 'Positiva', 'Destino': 'Sala COVID'}\n",
            "{'ID': 43, 'Saturacion': 90, 'Vacunas': 1, 'Prueba COVID': 'Positiva', 'Destino': 'Sala COVID'}\n",
            "{'ID': 44, 'Saturacion': 85, 'Vacunas': 1, 'Prueba COVID': 'Negativa', 'Destino': 'Sala COVID'}\n",
            "{'ID': 45, 'Saturacion': 97, 'Vacunas': 3, 'Prueba COVID': 'Positiva', 'Destino': 'Sala COVID'}\n",
            "{'ID': 46, 'Saturacion': 94, 'Vacunas': 2, 'Prueba COVID': 'Positiva', 'Destino': 'Sala COVID'}\n",
            "{'ID': 47, 'Saturacion': 93, 'Vacunas': 3, 'Prueba COVID': 'Negativa', 'Destino': 'En espera'}\n",
            "{'ID': 48, 'Saturacion': 99, 'Vacunas': 1, 'Prueba COVID': 'Positiva', 'Destino': 'Sala COVID'}\n",
            "{'ID': 49, 'Saturacion': 86, 'Vacunas': 1, 'Prueba COVID': 'Negativa', 'Destino': 'Sala COVID'}\n",
            "{'ID': 50, 'Saturacion': 90, 'Vacunas': 1, 'Prueba COVID': 'Positiva', 'Destino': 'Sala COVID'}\n",
            "Archivo generado: resultados.csv\n"
          ]
        }
      ]
    },
    {
      "cell_type": "markdown",
      "source": [
        "Ayudas por: Microsoft Copilot"
      ],
      "metadata": {
        "id": "oyOH4wmESYhP"
      }
    }
  ]
}