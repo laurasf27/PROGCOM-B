{
  "nbformat": 4,
  "nbformat_minor": 0,
  "metadata": {
    "colab": {
      "provenance": []
    },
    "kernelspec": {
      "name": "python3",
      "display_name": "Python 3"
    },
    "language_info": {
      "name": "python"
    }
  },
  "cells": [
    {
      "cell_type": "code",
      "execution_count": null,
      "metadata": {
        "colab": {
          "base_uri": "https://localhost:8080/",
          "height": 403
        },
        "id": "Rt1c-n95Aj6W",
        "outputId": "74951f10-6673-459a-e985-046709db72a2"
      },
      "outputs": [
        {
          "output_type": "error",
          "ename": "ModuleNotFoundError",
          "evalue": "No module named 'microbit'",
          "traceback": [
            "\u001b[0;31m---------------------------------------------------------------------------\u001b[0m",
            "\u001b[0;31mModuleNotFoundError\u001b[0m                       Traceback (most recent call last)",
            "\u001b[0;32m<ipython-input-7-88d24a8407e4>\u001b[0m in \u001b[0;36m<cell line: 0>\u001b[0;34m()\u001b[0m\n\u001b[0;32m----> 1\u001b[0;31m \u001b[0;32mfrom\u001b[0m \u001b[0mmicrobit\u001b[0m \u001b[0;32mimport\u001b[0m \u001b[0;34m*\u001b[0m\u001b[0;34m\u001b[0m\u001b[0;34m\u001b[0m\u001b[0m\n\u001b[0m\u001b[1;32m      2\u001b[0m \u001b[0;34m\u001b[0m\u001b[0m\n\u001b[1;32m      3\u001b[0m \u001b[0;32mwhile\u001b[0m \u001b[0;32mTrue\u001b[0m\u001b[0;34m:\u001b[0m\u001b[0;34m\u001b[0m\u001b[0;34m\u001b[0m\u001b[0m\n\u001b[1;32m      4\u001b[0m   \u001b[0mdisplay\u001b[0m\u001b[0;34m.\u001b[0m\u001b[0mscroll\u001b[0m\u001b[0;34m(\u001b[0m\u001b[0;34m'hola mundo'\u001b[0m\u001b[0;34m)\u001b[0m\u001b[0;34m\u001b[0m\u001b[0;34m\u001b[0m\u001b[0m\n\u001b[1;32m      5\u001b[0m   \u001b[0mdisplay\u001b[0m\u001b[0;34m.\u001b[0m\u001b[0mshow\u001b[0m\u001b[0;34m(\u001b[0m\u001b[0mImage\u001b[0m\u001b[0;34m.\u001b[0m\u001b[0mHEART\u001b[0m\u001b[0;34m)\u001b[0m\u001b[0;34m\u001b[0m\u001b[0;34m\u001b[0m\u001b[0m\n",
            "\u001b[0;31mModuleNotFoundError\u001b[0m: No module named 'microbit'",
            "",
            "\u001b[0;31m---------------------------------------------------------------------------\u001b[0;32m\nNOTE: If your import is failing due to a missing package, you can\nmanually install dependencies using either !pip or !apt.\n\nTo view examples of installing some common dependencies, click the\n\"Open Examples\" button below.\n\u001b[0;31m---------------------------------------------------------------------------\u001b[0m\n"
          ],
          "errorDetails": {
            "actions": [
              {
                "action": "open_url",
                "actionText": "Open Examples",
                "url": "/notebooks/snippets/importing_libraries.ipynb"
              }
            ]
          }
        }
      ],
      "source": [
        "# Imports go at the top\n",
        "from microbit import *\n",
        "\n",
        "\n",
        "# Code in a 'while True:' loop repeats forever\n",
        "while True:\n",
        "    display.show(Image.HEART)\n",
        "    sleep(2000)\n",
        "    display.scroll('hola mundo')\n"
      ]
    },
    {
      "cell_type": "code",
      "source": [
        "# Imports go at the top\n",
        "from microbit import *\n",
        "\n",
        "barco = Image(\"05050:\"\n",
        "             \"05050:\"\n",
        "             \"05050:\"\n",
        "             \"99999:\"\n",
        "             \"09990\")\n",
        "\n",
        "display.show(barco)"
      ],
      "metadata": {
        "id": "GJCBddnLFRlF"
      },
      "execution_count": null,
      "outputs": []
    },
    {
      "cell_type": "code",
      "source": [
        "# Imports go at the top\n",
        "from microbit import *\n",
        "\n",
        "barco1 = Image(\"05050:\"\n",
        "               \"05050:\"\n",
        "               \"05050:\"\n",
        "               \"99999:\"\n",
        "               \"09990\")\n",
        "\n",
        "barco2 = Image(\"00000:\"\n",
        "               \"05050:\"\n",
        "               \"05050:\"\n",
        "               \"05050:\"\n",
        "               \"99999\")\n",
        "\n",
        "barco3 = Image(\"00000:\"\n",
        "               \"00000:\"\n",
        "               \"05050:\"\n",
        "               \"05050:\"\n",
        "               \"05050\")\n",
        "\n",
        "barco4 = Image(\"00000:\"\n",
        "               \"00000:\"\n",
        "               \"00000:\"\n",
        "               \"05050:\"\n",
        "               \"05050\")\n",
        "\n",
        "barco5 = Image(\"00000:\"\n",
        "               \"00000:\"\n",
        "               \"00000:\"\n",
        "               \"00000:\"\n",
        "               \"05050\")\n",
        "\n",
        "barco6 = Image(\"00000:\"\n",
        "               \"00000:\"\n",
        "               \"00000:\"\n",
        "               \"00000:\"\n",
        "               \"00000\")\n",
        "\n",
        "all_barcos = [barco1, barco2, barco3, barco4, barco5, barco6]\n",
        "display.show(all_barcos, delay=200)"
      ],
      "metadata": {
        "id": "7DJmIuvlGDZd"
      },
      "execution_count": null,
      "outputs": []
    },
    {
      "cell_type": "code",
      "source": [
        "from microbit import *\n",
        "\n",
        "while True:\n",
        "    if button_a.is_pressed():\n",
        "        display.show(Image.HAPPY)\n",
        "    elif button_b.is_pressed():\n",
        "        display.show(Image.SAD)\n",
        "        sleep(500)\n",
        "        break\n",
        "    else:\n",
        "        display.show(Image.HEART)\n",
        "\n",
        "display.clear()"
      ],
      "metadata": {
        "id": "gJ09Be7qHWy8"
      },
      "execution_count": null,
      "outputs": []
    },
    {
      "cell_type": "code",
      "source": [
        "# Imports go at the top\n",
        "from microbit import *\n",
        "\n",
        "while True:\n",
        "    gesture = accelerometer.current_gesture()\n",
        "    if gesture == \"shake\":\n",
        "        display.show(Image.HAPPY)\n",
        "        sleep(1000)\n",
        "    else:\n",
        "        display.show(Image.ANGRY)"
      ],
      "metadata": {
        "id": "g_dtY1JJIsqq"
      },
      "execution_count": null,
      "outputs": []
    }
  ]
}