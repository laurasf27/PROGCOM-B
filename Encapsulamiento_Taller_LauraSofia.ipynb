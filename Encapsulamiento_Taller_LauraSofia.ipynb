{
  "nbformat": 4,
  "nbformat_minor": 0,
  "metadata": {
    "colab": {
      "provenance": []
    },
    "kernelspec": {
      "name": "python3",
      "display_name": "Python 3"
    },
    "language_info": {
      "name": "python"
    }
  },
  "cells": [
    {
      "cell_type": "markdown",
      "source": [
        "**EJERCICIO 1**"
      ],
      "metadata": {
        "id": "10hRAbi85H3b"
      }
    },
    {
      "cell_type": "code",
      "source": [
        "#PYTHON\n",
        "class Estudiante:\n",
        "    def __init__(self, nombre, nota, identificacion):\n",
        "        self.__nombre = nombre\n",
        "        self.__nota = nota if 0 <= nota <= 100 else 0\n",
        "        self.identificacion = identificacion  # Público\n",
        "\n",
        "    def get_nombre(self):\n",
        "        return self.__nombre\n",
        "\n",
        "    def get_nota(self):\n",
        "        return self.__nota\n",
        "\n",
        "    def set_nota(self, nota):\n",
        "        if 0 <= nota <= 100:\n",
        "            self.__nota = nota"
      ],
      "metadata": {
        "id": "Tx6RvEM05LiH"
      },
      "execution_count": 1,
      "outputs": []
    },
    {
      "cell_type": "code",
      "source": [
        "#JAVA\n",
        "public class Estudiante {\n",
        "    private String nombre;\n",
        "    private int nota;\n",
        "    public int identificacion;\n",
        "\n",
        "    public Estudiante(String nombre, int nota, int identificacion) {\n",
        "        this.nombre = nombre;\n",
        "        setNota(nota);\n",
        "        this.identificacion = identificacion;\n",
        "    }\n",
        "\n",
        "    public String getNombre() {\n",
        "        return nombre;\n",
        "    }\n",
        "\n",
        "    public int getNota() {\n",
        "        return nota;\n",
        "    }\n",
        "\n",
        "    public void setNota(int nota) {\n",
        "        if (nota >= 0 && nota <= 100) {\n",
        "            this.nota = nota;\n",
        "        }\n",
        "    }\n",
        "}"
      ],
      "metadata": {
        "id": "KapiRhCB5XQw"
      },
      "execution_count": null,
      "outputs": []
    },
    {
      "cell_type": "markdown",
      "source": [
        "**EJERCICIO 2**"
      ],
      "metadata": {
        "id": "rK_g-yIs5TEY"
      }
    },
    {
      "cell_type": "code",
      "source": [
        "#PYTHON\n",
        "class CuentaBancaria:\n",
        "    def __init__(self, titular, saldo, numero_cuenta):\n",
        "        self.__titular = titular\n",
        "        self.__saldo = saldo if saldo >= 0 else 0\n",
        "        self._numero_cuenta = numero_cuenta  # Protegido\n",
        "\n",
        "    def get_titular(self):\n",
        "        return self.__titular\n",
        "\n",
        "    def depositar(self, monto):\n",
        "        if monto > 0:\n",
        "            self.__saldo += monto\n",
        "\n",
        "    def retirar(self, monto):\n",
        "        if 0 < monto <= self.__saldo:\n",
        "            self.__saldo -= monto\n"
      ],
      "metadata": {
        "id": "dNCfW9rn5VvY"
      },
      "execution_count": null,
      "outputs": []
    },
    {
      "cell_type": "code",
      "source": [
        "#JAVA\n",
        "public class CuentaBancaria {\n",
        "    private String titular;\n",
        "    private double saldo;\n",
        "    protected String numeroCuenta;\n",
        "\n",
        "    public CuentaBancaria(String titular, double saldo, String numeroCuenta) {\n",
        "        this.titular = titular;\n",
        "        this.saldo = Math.max(0, saldo);\n",
        "        this.numeroCuenta = numeroCuenta;\n",
        "    }\n",
        "\n",
        "    public String getTitular() {\n",
        "        return titular;\n",
        "    }\n",
        "\n",
        "    public void depositar(double monto) {\n",
        "        if (monto > 0) {\n",
        "            saldo += monto;\n",
        "        }\n",
        "    }\n",
        "\n",
        "    public void retirar(double monto) {\n",
        "        if (monto > 0 && monto <= saldo) {\n",
        "            saldo -= monto;\n",
        "        }\n",
        "    }\n",
        "}"
      ],
      "metadata": {
        "id": "9IybWxqV5Y7_"
      },
      "execution_count": null,
      "outputs": []
    },
    {
      "cell_type": "markdown",
      "source": [
        "**EJERCICIO 3**"
      ],
      "metadata": {
        "id": "0UGQTINA5Z7-"
      }
    },
    {
      "cell_type": "code",
      "source": [
        "#PYTHON\n",
        "class Libro:\n",
        "    def __init__(self, titulo, autor, paginas, isbn):\n",
        "        self.__titulo = titulo\n",
        "        self.__autor = autor\n",
        "        self._paginas = paginas if paginas > 0 else 1\n",
        "        self.isbn = isbn  # Público\n",
        "\n",
        "    def get_titulo(self):\n",
        "        return self.__titulo\n",
        "\n",
        "    def get_autor(self):\n",
        "        return self.__autor\n",
        "\n",
        "    def set_paginas(self, paginas):\n",
        "        if paginas > 0:\n",
        "            self._paginas = paginas"
      ],
      "metadata": {
        "id": "OF3tKp4s5b5G"
      },
      "execution_count": null,
      "outputs": []
    },
    {
      "cell_type": "code",
      "source": [
        "#JAVA\n",
        "public class Libro {\n",
        "    private String titulo;\n",
        "    private String autor;\n",
        "    protected int paginas;\n",
        "    public String isbn;\n",
        "\n",
        "    public Libro(String titulo, String autor, int paginas, String isbn) {\n",
        "        this.titulo = titulo;\n",
        "        this.autor = autor;\n",
        "        setPaginas(paginas);\n",
        "        this.isbn = isbn;\n",
        "    }\n",
        "\n",
        "    public String getTitulo() {\n",
        "        return titulo;\n",
        "    }\n",
        "\n",
        "    public String getAutor() {\n",
        "        return autor;\n",
        "    }\n",
        "\n",
        "    public void setPaginas(int paginas) {\n",
        "        if (paginas > 0) {\n",
        "            this.paginas = paginas;\n",
        "        }\n",
        "    }\n",
        "}"
      ],
      "metadata": {
        "id": "vQLfdRGi5fRS"
      },
      "execution_count": null,
      "outputs": []
    },
    {
      "cell_type": "markdown",
      "source": [
        "**EJERCICIO 4**"
      ],
      "metadata": {
        "id": "WDhoFxfV5gU5"
      }
    },
    {
      "cell_type": "code",
      "source": [
        "#PYTHON\n",
        "class Vehiculo:\n",
        "    def __init__(self, marca, tipo):\n",
        "        self.__marca = marca\n",
        "        self.__velocidad = 0  # Inicializa en 0\n",
        "        self.tipo = tipo  # Público\n",
        "\n",
        "    def acelerar(self, incremento):\n",
        "        if incremento > 0 and self.__velocidad + incremento <= 200:\n",
        "            self.__velocidad += incremento\n",
        "\n",
        "    def frenar(self, decremento):\n",
        "        if decremento > 0:\n",
        "            self.__velocidad = max(0, self.__velocidad - decremento)"
      ],
      "metadata": {
        "id": "JCm3_KFP5lRp"
      },
      "execution_count": null,
      "outputs": []
    },
    {
      "cell_type": "code",
      "source": [
        "#JAVA\n",
        "public class Vehiculo {\n",
        "    private String marca;\n",
        "    private int velocidad;\n",
        "    public String tipo;\n",
        "\n",
        "    public Vehiculo(String marca, String tipo) {\n",
        "        this.marca = marca;\n",
        "        this.tipo = tipo;\n",
        "        this.velocidad = 0;\n",
        "    }\n",
        "\n",
        "    public void acelerar(int incremento) {\n",
        "        if (incremento > 0 && velocidad + incremento <= 200) {\n",
        "            velocidad += incremento;\n",
        "        }\n",
        "    }\n",
        "\n",
        "    public void frenar(int decremento) {\n",
        "        if (decremento > 0) {\n",
        "            velocidad = Math.max(0, velocidad - decremento);\n",
        "        }\n",
        "    }\n",
        "}"
      ],
      "metadata": {
        "id": "b6BTyNnH5oPD"
      },
      "execution_count": null,
      "outputs": []
    },
    {
      "cell_type": "markdown",
      "source": [
        "**EJERCICIO 5**"
      ],
      "metadata": {
        "id": "FSCWM3sD5pgK"
      }
    },
    {
      "cell_type": "code",
      "source": [
        "#PYTHON\n",
        "class Empleado:\n",
        "    def __init__(self, nombre, salario, departamento, empleado_id):\n",
        "        self.__nombre = nombre\n",
        "        self.__salario = salario if salario >= 0 else 0\n",
        "        self._departamento = departamento\n",
        "        self.empleado_id = empleado_id  # Público\n",
        "\n",
        "    def get_nombre(self):\n",
        "        return self.__nombre\n",
        "\n",
        "    def get_salario(self):\n",
        "        return self.__salario\n",
        "\n",
        "    def get_departamento(self):\n",
        "        return self._departamento\n",
        "\n",
        "    def set_salario(self, salario):\n",
        "        if salario >= 0:\n",
        "            self.__salario = salario\n"
      ],
      "metadata": {
        "id": "Rch_1Hup5rMU"
      },
      "execution_count": null,
      "outputs": []
    },
    {
      "cell_type": "code",
      "source": [
        "#JAVA\n",
        "public class Empleado {\n",
        "    private String nombre;\n",
        "    private double salario;\n",
        "    protected String departamento;\n",
        "    public int empleadoId;\n",
        "\n",
        "    public Empleado(String nombre, double salario, String departamento, int empleadoId) {\n",
        "        this.nombre = nombre;\n",
        "        setSalario(salario);\n",
        "        this.departamento = departamento;\n",
        "        this.empleadoId = empleadoId;\n",
        "    }\n",
        "\n",
        "    public String getNombre() {\n",
        "        return nombre;\n",
        "    }\n",
        "\n",
        "    public double getSalario() {\n",
        "        return salario;\n",
        "    }\n",
        "\n",
        "    public String getDepartamento() {\n",
        "        return departamento;\n",
        "    }\n",
        "\n",
        "    public void setSalario(double salario) {\n",
        "        if (salario >= 0) {\n",
        "            this.salario = salario;\n",
        "        }\n",
        "    }\n",
        "}"
      ],
      "metadata": {
        "id": "OqDKfhUC5uNd"
      },
      "execution_count": null,
      "outputs": []
    },
    {
      "cell_type": "markdown",
      "source": [
        "**EJERCICIO 6**"
      ],
      "metadata": {
        "id": "Cp0-FyQR5vEE"
      }
    },
    {
      "cell_type": "code",
      "source": [
        "#PYTHON\n",
        "class Producto:\n",
        "    def __init__(self, nombre, precio, categoria, codigo):\n",
        "        self.__nombre = nombre\n",
        "        self.__precio = precio if precio > 0 else 1\n",
        "        self._categoria = categoria\n",
        "        self.codigo = codigo  # Público\n",
        "\n",
        "    def get_nombre(self):\n",
        "        return self.__nombre\n",
        "\n",
        "    def get_precio(self):\n",
        "        return self.__precio\n",
        "\n",
        "    def set_precio(self, precio):\n",
        "        if precio > 0:\n",
        "            self.__precio = precio\n"
      ],
      "metadata": {
        "id": "ivUnwQJv5zZI"
      },
      "execution_count": null,
      "outputs": []
    },
    {
      "cell_type": "code",
      "source": [
        "#JAVA\n",
        "public class Producto {\n",
        "    private String nombre;\n",
        "    private double precio;\n",
        "    protected String categoria;\n",
        "    public String codigo;\n",
        "\n",
        "    public Producto(String nombre, double precio, String categoria, String codigo) {\n",
        "        this.nombre = nombre;\n",
        "        setPrecio(precio);\n",
        "        this.categoria = categoria;\n",
        "        this.codigo = codigo;\n",
        "    }\n",
        "\n",
        "    public String getNombre() {\n",
        "        return nombre;\n",
        "    }\n",
        "\n",
        "    public double getPrecio() {\n",
        "        return precio;\n",
        "    }\n",
        "\n",
        "    public void setPrecio(double precio) {\n",
        "        if (precio > 0) {\n",
        "            this.precio = precio;\n",
        "        }\n",
        "    }\n",
        "}"
      ],
      "metadata": {
        "id": "wsCpXHvZ52fP"
      },
      "execution_count": null,
      "outputs": []
    },
    {
      "cell_type": "markdown",
      "source": [
        "**EJERCICIO 7**"
      ],
      "metadata": {
        "id": "nmEqk5Z757H_"
      }
    },
    {
      "cell_type": "code",
      "source": [
        "#PYTHON\n",
        "class Telefono:\n",
        "    def __init__(self, numero, marca, bateria, modelo):\n",
        "        self.__numero = numero\n",
        "        self.__marca = marca\n",
        "        self._bateria = max(0, min(bateria, 100))  # 0 a 100\n",
        "        self.modelo = modelo  # Público\n",
        "\n",
        "    def cargar_bateria(self, cantidad):\n",
        "        if cantidad > 0:\n",
        "            self._bateria = min(100, self._bateria + cantidad)\n",
        "\n",
        "    def usar_telefono(self, cantidad):\n",
        "        if cantidad > 0:\n",
        "            self._bateria = max(0, self._bateria - cantidad)"
      ],
      "metadata": {
        "id": "0QH2irSC589o"
      },
      "execution_count": null,
      "outputs": []
    },
    {
      "cell_type": "code",
      "source": [
        "#JAVA\n",
        "public class Telefono {\n",
        "    private String numero;\n",
        "    private String marca;\n",
        "    protected int bateria;\n",
        "    public String modelo;\n",
        "\n",
        "    public Telefono(String numero, String marca, int bateria, String modelo) {\n",
        "        this.numero = numero;\n",
        "        this.marca = marca;\n",
        "        this.bateria = Math.min(100, Math.max(0, bateria));\n",
        "        this.modelo = modelo;\n",
        "    }\n",
        "\n",
        "    public void cargarBateria(int cantidad) {\n",
        "        if (cantidad > 0) {\n",
        "            bateria = Math.min(100, bateria + cantidad);\n",
        "        }\n",
        "    }\n",
        "\n",
        "    public void usarTelefono(int cantidad) {\n",
        "        if (cantidad > 0) {\n",
        "            bateria = Math.max(0, bateria - cantidad);\n",
        "        }\n",
        "    }\n",
        "}"
      ],
      "metadata": {
        "id": "ruFKBafK5-i3"
      },
      "execution_count": null,
      "outputs": []
    },
    {
      "cell_type": "markdown",
      "source": [
        "**EJERCICIO 8**"
      ],
      "metadata": {
        "id": "UG9fF5Xf5_hQ"
      }
    },
    {
      "cell_type": "code",
      "source": [
        "#PYTHON\n",
        "class Paciente:\n",
        "    def __init__(self, nombre, edad, historial, numero_seguro):\n",
        "        self.__nombre = nombre\n",
        "        self.__edad = edad if edad >= 0 else 0\n",
        "        self._historial_medico = historial\n",
        "        self.numero_seguro = numero_seguro  # Público\n",
        "\n",
        "    def get_nombre(self):\n",
        "        return self.__nombre\n",
        "\n",
        "    def get_edad(self):\n",
        "        return self.__edad\n",
        "\n",
        "    def set_edad(self, edad):\n",
        "        if edad >= 0:\n",
        "            self.__edad = edad\n"
      ],
      "metadata": {
        "id": "INVcRofK6BY-"
      },
      "execution_count": null,
      "outputs": []
    },
    {
      "cell_type": "code",
      "source": [
        "#JAVA\n",
        "public class Paciente {\n",
        "    private String nombre;\n",
        "    private int edad;\n",
        "    protected String historialMedico;\n",
        "    public String numeroSeguro;\n",
        "\n",
        "    public Paciente(String nombre, int edad, String historialMedico, String numeroSeguro) {\n",
        "        this.nombre = nombre;\n",
        "        setEdad(edad);\n",
        "        this.historialMedico = historialMedico;\n",
        "        this.numeroSeguro = numeroSeguro;\n",
        "    }\n",
        "\n",
        "    public String getNombre() {\n",
        "        return nombre;\n",
        "    }\n",
        "\n",
        "    public int getEdad() {\n",
        "        return edad;\n",
        "    }\n",
        "\n",
        "    public void setEdad(int edad) {\n",
        "        if (edad >= 0) {\n",
        "            this.edad = edad;\n",
        "        }\n",
        "    }\n",
        "}"
      ],
      "metadata": {
        "id": "XoK9tYC16ElQ"
      },
      "execution_count": null,
      "outputs": []
    },
    {
      "cell_type": "markdown",
      "source": [
        "**EJERCICIO 9**"
      ],
      "metadata": {
        "id": "IRhDTPeh6GAF"
      }
    },
    {
      "cell_type": "code",
      "source": [
        "#PYTHON\n",
        "class Computadora:\n",
        "    def __init__(self, marca, almacenamiento, sistema, numero_serie):\n",
        "        self.__marca = marca\n",
        "        self.__almacenamiento = almacenamiento if almacenamiento > 0 else 1\n",
        "        self._sistema_operativo = sistema\n",
        "        self.numero_serie = numero_serie  # Público\n",
        "\n",
        "    def get_marca(self):\n",
        "        return self.__marca\n",
        "\n",
        "    def get_almacenamiento(self):\n",
        "        return self.__almacenamiento\n",
        "\n",
        "    def get_sistema_operativo(self):\n",
        "        return self._sistema_operativo\n",
        "\n",
        "    def set_almacenamiento(self, almacenamiento):\n",
        "        if almacenamiento > 0:\n",
        "            self.__almacenamiento = almacenamiento\n"
      ],
      "metadata": {
        "id": "SPVO6Vin6Iok"
      },
      "execution_count": null,
      "outputs": []
    },
    {
      "cell_type": "code",
      "source": [
        "#JAVA\n",
        "public class Computadora {\n",
        "    private String marca;\n",
        "    private int almacenamiento;\n",
        "    protected String sistemaOperativo;\n",
        "    public String numeroSerie;\n",
        "\n",
        "    public Computadora(String marca, int almacenamiento, String sistemaOperativo, String numeroSerie) {\n",
        "        this.marca = marca;\n",
        "        setAlmacenamiento(almacenamiento);\n",
        "        this.sistemaOperativo = sistemaOperativo;\n",
        "        this.numeroSerie = numeroSerie;\n",
        "    }\n",
        "\n",
        "    public String getMarca() {\n",
        "        return marca;\n",
        "    }\n",
        "\n",
        "    public int getAlmacenamiento() {\n",
        "        return almacenamiento;\n",
        "    }\n",
        "\n",
        "    public String getSistemaOperativo() {\n",
        "        return sistemaOperativo;\n",
        "    }\n",
        "\n",
        "    public void setAlmacenamiento(int almacenamiento) {\n",
        "        if (almacenamiento > 0) {\n",
        "            this.almacenamiento = almacenamiento;\n",
        "        }\n",
        "    }\n",
        "}"
      ],
      "metadata": {
        "id": "IPpxEsJg6Ld1"
      },
      "execution_count": null,
      "outputs": []
    },
    {
      "cell_type": "markdown",
      "source": [
        "**EJERCICIO 10**"
      ],
      "metadata": {
        "id": "-PZawBCW6MgU"
      }
    },
    {
      "cell_type": "code",
      "source": [
        "#PYTHON\n",
        "class ReservaHotel:\n",
        "    def __init__(self, huesped, noches, tipo_habitacion, codigo_reserva):\n",
        "        self.__huesped = huesped\n",
        "        self.__noches = noches if noches > 0 else 1\n",
        "        self._tipo_habitacion = tipo_habitacion\n",
        "        self.codigo_reserva = codigo_reserva  # Público\n",
        "\n",
        "    def get_huesped(self):\n",
        "        return self.__huesped\n",
        "\n",
        "    def get_noches(self):\n",
        "        return self.__noches\n",
        "\n",
        "    def set_noches(self, noches):\n",
        "        if noches > 0:\n",
        "            self.__noches = noches\n"
      ],
      "metadata": {
        "id": "6qIfgQEB6OAR"
      },
      "execution_count": null,
      "outputs": []
    },
    {
      "cell_type": "code",
      "source": [
        "#JAVA\n",
        "public class ReservaHotel {\n",
        "    private String huesped;\n",
        "    private int noches;\n",
        "    protected String tipoHabitacion;\n",
        "    public String codigoReserva;\n",
        "\n",
        "    public ReservaHotel(String huesped, int noches, String tipoHabitacion, String codigoReserva) {\n",
        "        this.huesped = huesped;\n",
        "        setNoches(noches);\n",
        "        this.tipoHabitacion = tipoHabitacion;\n",
        "        this.codigoReserva = codigoReserva;\n",
        "    }\n",
        "\n",
        "    public String getHuesped() {\n",
        "        return huesped;\n",
        "    }\n",
        "\n",
        "    public int getNoches() {\n",
        "        return noches;\n",
        "    }\n",
        "\n",
        "    public void setNoches(int noches) {\n",
        "        if (noches > 0) {\n",
        "            this.noches = noches;\n",
        "        }\n",
        "    }\n",
        "}"
      ],
      "metadata": {
        "id": "ji30Vfgs6QyR"
      },
      "execution_count": null,
      "outputs": []
    }
  ]
}