{
  "nbformat": 4,
  "nbformat_minor": 0,
  "metadata": {
    "colab": {
      "provenance": []
    },
    "kernelspec": {
      "name": "python3",
      "display_name": "Python 3"
    },
    "language_info": {
      "name": "python"
    }
  },
  "cells": [
    {
      "cell_type": "markdown",
      "source": [
        "**EJERCICIO 1**"
      ],
      "metadata": {
        "id": "ej2GXonFskJ4"
      }
    },
    {
      "cell_type": "code",
      "source": [
        "persona = {\n",
        "    \"nombre_completo\": \"Ana Martínez\",\n",
        "    \"edad\": 28,\n",
        "    \"ciudad_residencia\": \"Monterrey\"}"
      ],
      "metadata": {
        "collapsed": true,
        "id": "3OcVsEPxl4DF"
      },
      "execution_count": 5,
      "outputs": []
    },
    {
      "cell_type": "markdown",
      "source": [
        "**EJERCICIO 2**"
      ],
      "metadata": {
        "id": "Y0n6uRb4sovf"
      }
    },
    {
      "cell_type": "code",
      "source": [
        "producto = {\n",
        "    \"id\": 101,\n",
        "    \"nombre_producto\": \"Teclado Mecánico\",\n",
        "    \"precio\": 749.99}"
      ],
      "metadata": {
        "id": "FoSJb5HksqeP"
      },
      "execution_count": null,
      "outputs": []
    },
    {
      "cell_type": "markdown",
      "source": [
        "**EJERCICIO 3**"
      ],
      "metadata": {
        "id": "ZvLnawTXstrG"
      }
    },
    {
      "cell_type": "code",
      "source": [
        "vehiculo = {\n",
        "    \"marca\": \"Toyota\",\n",
        "    \"modelo\": \"Corolla\",\n",
        "    \"anio_fabricacion\": 2020}"
      ],
      "metadata": {
        "id": "3ESez8ossvIv"
      },
      "execution_count": null,
      "outputs": []
    },
    {
      "cell_type": "markdown",
      "source": [
        "**EJERCICIO 4**"
      ],
      "metadata": {
        "id": "Ii49SUy0sxUG"
      }
    },
    {
      "cell_type": "code",
      "source": [
        "estudiantes = [\n",
        "    {\"id\": 1, \"nombre\": \"Luis\", \"calificacion_final\": 8.5},\n",
        "    {\"id\": 2, \"nombre\": \"María\", \"calificacion_final\": 9.0},\n",
        "    {\"id\": 3, \"nombre\": \"Carlos\", \"calificacion_final\": 7.8}]"
      ],
      "metadata": {
        "id": "xCh-PkspszqH"
      },
      "execution_count": null,
      "outputs": []
    },
    {
      "cell_type": "markdown",
      "source": [
        "**EJERCICIO 5**"
      ],
      "metadata": {
        "id": "uE_ME0Ids11O"
      }
    },
    {
      "cell_type": "code",
      "source": [
        "empresa = {\n",
        "    \"nombre\": \"TechNova\",\n",
        "    \"anio_fundacion\": 2010,\n",
        "    \"direccion\": {\n",
        "        \"calle\": \"Av. Reforma 123\",\n",
        "        \"ciudad\": \"Ciudad de México\"}}"
      ],
      "metadata": {
        "id": "ulFD1XRMs3TW"
      },
      "execution_count": null,
      "outputs": []
    },
    {
      "cell_type": "markdown",
      "source": [
        "**EJERCICIO 6**"
      ],
      "metadata": {
        "id": "zDPs85OKs50W"
      }
    },
    {
      "cell_type": "code",
      "source": [
        "libro = {\n",
        "    \"titulo\": \"Cien años de soledad\",\n",
        "    \"numero_paginas\": 417}"
      ],
      "metadata": {
        "id": "MOyHQR9hs7V2"
      },
      "execution_count": null,
      "outputs": []
    },
    {
      "cell_type": "markdown",
      "source": [
        "**EJERCICIO 7**\n",
        "La clave edad no está entre comillas, lo cual viola la sintaxis del formato JSON, que requiere que todas las claves sean strings entre comillas dobles"
      ],
      "metadata": {
        "id": "AKyMcQG0s9ZO"
      }
    },
    {
      "cell_type": "code",
      "source": [
        "{\n",
        "  \"nombre\": \"Pedro\",\n",
        "  \"edad\": 30}"
      ],
      "metadata": {
        "id": "f0JZtKahtALW"
      },
      "execution_count": null,
      "outputs": []
    },
    {
      "cell_type": "markdown",
      "source": [
        "**EJERCICIO 8**"
      ],
      "metadata": {
        "id": "kvaBXR3itMc3"
      }
    },
    {
      "cell_type": "code",
      "source": [
        "productos_tecnologicos = [\n",
        "    {\"id\": 1, \"nombre\": \"Laptop\", \"precio\": 15000},\n",
        "    {\"id\": 2, \"nombre\": \"Smartphone\", \"precio\": 9000},\n",
        "    {\"id\": 3, \"nombre\": \"Tablet\", \"precio\": 6000}]"
      ],
      "metadata": {
        "id": "_kgSYqbdtN1W"
      },
      "execution_count": null,
      "outputs": []
    },
    {
      "cell_type": "markdown",
      "source": [
        "**EJERCICIO 9**"
      ],
      "metadata": {
        "id": "0oNFKgbgtQcG"
      }
    },
    {
      "cell_type": "code",
      "source": [
        "clima = {\n",
        "    \"temperatura\": 26.4,\n",
        "    \"humedad\": 80,\n",
        "    \"ciudad\": \"Guadalajara\"}"
      ],
      "metadata": {
        "id": "gYHinje6tSCO"
      },
      "execution_count": null,
      "outputs": []
    },
    {
      "cell_type": "markdown",
      "source": [
        "**EJERCICIO 10**"
      ],
      "metadata": {
        "id": "mtquXIa1tT0W"
      }
    },
    {
      "cell_type": "code",
      "source": [
        "usuario = {\n",
        "    \"id\": 45,\n",
        "    \"nombre_usuario\": \"juan_gomez\",\n",
        "    \"correo_electronico\": \"juan.gomez@example.com\"}"
      ],
      "metadata": {
        "id": "vOjxl7tbtVc2"
      },
      "execution_count": null,
      "outputs": []
    }
  ]
}