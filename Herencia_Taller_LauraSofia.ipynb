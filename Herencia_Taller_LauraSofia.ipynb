{
  "nbformat": 4,
  "nbformat_minor": 0,
  "metadata": {
    "colab": {
      "provenance": []
    },
    "kernelspec": {
      "name": "python3",
      "display_name": "Python 3"
    },
    "language_info": {
      "name": "python"
    }
  },
  "cells": [
    {
      "cell_type": "markdown",
      "source": [
        "**Python**"
      ],
      "metadata": {
        "id": "6lkvM6sH4iOO"
      }
    },
    {
      "cell_type": "code",
      "execution_count": 1,
      "metadata": {
        "colab": {
          "base_uri": "https://localhost:8080/"
        },
        "id": "9y1_qAHw4fdr",
        "outputId": "bc14da02-8c8f-45cc-d67d-45a656a01779"
      },
      "outputs": [
        {
          "output_type": "stream",
          "name": "stdout",
          "text": [
            "Este es un animal\n"
          ]
        }
      ],
      "source": [
        "# 1. Animal y Perro\n",
        "class Animal:\n",
        "    def mensaje(self):\n",
        "        print(\"Este es un animal\")\n",
        "\n",
        "class Perro(Animal):\n",
        "    pass\n",
        "\n",
        "p = Perro()\n",
        "p.mensaje()"
      ]
    },
    {
      "cell_type": "code",
      "source": [
        "# 2. Persona y Estudiante\n",
        "class Persona:\n",
        "    def __init__(self, nombre):\n",
        "        self.nombre = nombre\n",
        "\n",
        "class Estudiante(Persona):\n",
        "    pass\n",
        "\n",
        "e = Estudiante(\"Ana\")\n",
        "print(e.nombre)"
      ],
      "metadata": {
        "colab": {
          "base_uri": "https://localhost:8080/"
        },
        "id": "Rxahz6OT4qVv",
        "outputId": "2e58a97f-f3a2-4a33-f794-9f56175d30ba"
      },
      "execution_count": 2,
      "outputs": [
        {
          "output_type": "stream",
          "name": "stdout",
          "text": [
            "Ana\n"
          ]
        }
      ]
    },
    {
      "cell_type": "code",
      "source": [
        "# 3. Vehiculo y Moto\n",
        "class Vehiculo:\n",
        "    def arrancar(self):\n",
        "        print(\"Vehículo encendido\")\n",
        "\n",
        "class Moto(Vehiculo):\n",
        "    def arrancar(self):\n",
        "        print(\"Moto encendida\")\n",
        "\n",
        "m = Moto()\n",
        "m.arrancar()"
      ],
      "metadata": {
        "colab": {
          "base_uri": "https://localhost:8080/"
        },
        "id": "acg88L8L4upK",
        "outputId": "13f9c55e-c827-47c1-90cc-55c01cf9069e"
      },
      "execution_count": 3,
      "outputs": [
        {
          "output_type": "stream",
          "name": "stdout",
          "text": [
            "Moto encendida\n"
          ]
        }
      ]
    },
    {
      "cell_type": "code",
      "source": [
        "# 4. Empleado, Gerente, Obrero\n",
        "class Empleado:\n",
        "    def trabajar(self):\n",
        "        print(\"Empleado trabajando\")\n",
        "\n",
        "class Gerente(Empleado):\n",
        "    def trabajar(self):\n",
        "        print(\"Gerente gestionando\")\n",
        "\n",
        "class Obrero(Empleado):\n",
        "    def trabajar(self):\n",
        "        print(\"Obrero construyendo\")\n",
        "\n",
        "g = Gerente()\n",
        "o = Obrero()\n",
        "g.trabajar()\n",
        "o.trabajar()"
      ],
      "metadata": {
        "colab": {
          "base_uri": "https://localhost:8080/"
        },
        "id": "KfpysDXY4yvf",
        "outputId": "f2019a81-1f43-42bf-cb68-7495d4b9c627"
      },
      "execution_count": 4,
      "outputs": [
        {
          "output_type": "stream",
          "name": "stdout",
          "text": [
            "Gerente gestionando\n",
            "Obrero construyendo\n"
          ]
        }
      ]
    },
    {
      "cell_type": "code",
      "source": [
        "# 5. Producto y Libro\n",
        "class Producto:\n",
        "    def __init__(self, nombre, precio):\n",
        "        self.nombre = nombre\n",
        "        self.precio = precio\n",
        "\n",
        "class Libro(Producto):\n",
        "    pass\n",
        "\n",
        "l = Libro(\"Python Básico\", 29.99)\n",
        "print(f\"Libro: {l.nombre}, Precio: ${l.precio}\")"
      ],
      "metadata": {
        "colab": {
          "base_uri": "https://localhost:8080/"
        },
        "id": "RCL3qa_I43rq",
        "outputId": "985ef164-20c2-4e9a-8236-d3004ee8a442"
      },
      "execution_count": 5,
      "outputs": [
        {
          "output_type": "stream",
          "name": "stdout",
          "text": [
            "Libro: Python Básico, Precio: $29.99\n"
          ]
        }
      ]
    },
    {
      "cell_type": "code",
      "source": [
        "# 6. Persona y Profesor\n",
        "class Persona:\n",
        "    def saludar(self):\n",
        "        print(\"Hola\")\n",
        "\n",
        "class Profesor(Persona):\n",
        "    def enseñar(self):\n",
        "        print(\"Estoy enseñando\")\n",
        "\n",
        "prof = Profesor()\n",
        "prof.saludar()\n",
        "prof.enseñar()"
      ],
      "metadata": {
        "colab": {
          "base_uri": "https://localhost:8080/"
        },
        "id": "XOXIjPsw48w_",
        "outputId": "be9f81bb-e1c6-4e67-91e0-c0925f94fc78"
      },
      "execution_count": 6,
      "outputs": [
        {
          "output_type": "stream",
          "name": "stdout",
          "text": [
            "Hola\n",
            "Estoy enseñando\n"
          ]
        }
      ]
    },
    {
      "cell_type": "code",
      "source": [
        "# 7. Animal y Gato con super()\n",
        "class Animal:\n",
        "    def sonido(self):\n",
        "        print(\"Sonido genérico\")\n",
        "\n",
        "class Gato(Animal):\n",
        "    def sonido(self):\n",
        "        super().sonido()\n",
        "        print(\"Miau\")\n",
        "\n",
        "g = Gato()\n",
        "g.sonido()"
      ],
      "metadata": {
        "colab": {
          "base_uri": "https://localhost:8080/"
        },
        "id": "hprR8xna5ANT",
        "outputId": "d8f0afbe-f531-473c-8cab-7eaf59a8f6ac"
      },
      "execution_count": 7,
      "outputs": [
        {
          "output_type": "stream",
          "name": "stdout",
          "text": [
            "Sonido genérico\n",
            "Miau\n"
          ]
        }
      ]
    },
    {
      "cell_type": "code",
      "source": [
        "# 8. Computadora y Portatil\n",
        "class Computadora:\n",
        "    def encender(self):\n",
        "        print(\"Computadora encendida\")\n",
        "\n",
        "class Portatil(Computadora):\n",
        "    pass\n",
        "\n",
        "p = Portatil()\n",
        "p.encender()"
      ],
      "metadata": {
        "colab": {
          "base_uri": "https://localhost:8080/"
        },
        "id": "CNKxrybk5MME",
        "outputId": "345494dd-91e4-4ff2-aa72-477fc8bd36c1"
      },
      "execution_count": 8,
      "outputs": [
        {
          "output_type": "stream",
          "name": "stdout",
          "text": [
            "Computadora encendida\n"
          ]
        }
      ]
    },
    {
      "cell_type": "code",
      "source": [
        "# 9. Cuenta y CuentaAhorro\n",
        "class Cuenta:\n",
        "    def __init__(self, saldo):\n",
        "        self.saldo = saldo\n",
        "\n",
        "class CuentaAhorro(Cuenta):\n",
        "    pass\n",
        "\n",
        "c = CuentaAhorro(500)\n",
        "print(f\"Saldo: {c.saldo}\")"
      ],
      "metadata": {
        "colab": {
          "base_uri": "https://localhost:8080/"
        },
        "id": "wxBeRnYk5SHE",
        "outputId": "b3e94e59-f362-4311-e950-c89233f9559b"
      },
      "execution_count": 9,
      "outputs": [
        {
          "output_type": "stream",
          "name": "stdout",
          "text": [
            "Saldo: 500\n"
          ]
        }
      ]
    },
    {
      "cell_type": "code",
      "source": [
        "# 10. SerVivo y Humano\n",
        "class SerVivo:\n",
        "    def respirar(self):\n",
        "        print(\"Respirando...\")\n",
        "\n",
        "class Humano(SerVivo):\n",
        "    pass\n",
        "\n",
        "h = Humano()\n",
        "h.respirar()"
      ],
      "metadata": {
        "colab": {
          "base_uri": "https://localhost:8080/"
        },
        "id": "P7HYCdsS5_qU",
        "outputId": "c995b8b2-ae8d-4d11-8122-325a85eb0ad0"
      },
      "execution_count": 10,
      "outputs": [
        {
          "output_type": "stream",
          "name": "stdout",
          "text": [
            "Respirando...\n"
          ]
        }
      ]
    },
    {
      "cell_type": "markdown",
      "source": [
        "**JAVA**"
      ],
      "metadata": {
        "id": "bW2-TcLe6FYi"
      }
    },
    {
      "cell_type": "code",
      "source": [
        "// 1. Animal y Perro\n",
        "class Animal {\n",
        "    void mensaje() {\n",
        "        System.out.println(\"Este es un animal\");\n",
        "    }\n",
        "}\n",
        "class Perro extends Animal {}\n",
        "// Main: new Perro().mensaje();\n"
      ],
      "metadata": {
        "id": "3-8tWkYd6IOD"
      },
      "execution_count": null,
      "outputs": []
    },
    {
      "cell_type": "code",
      "source": [
        "// 2. Persona y Estudiante\n",
        "class Persona {\n",
        "    String nombre;\n",
        "    Persona(String nombre) {\n",
        "        this.nombre = nombre;\n",
        "    }\n",
        "}\n",
        "class Estudiante extends Persona {\n",
        "    Estudiante(String nombre) {\n",
        "        super(nombre);\n",
        "    }\n",
        "}\n",
        "// Main: System.out.println(new Estudiante(\"Ana\").nombre);\n"
      ],
      "metadata": {
        "id": "mLFbSikK6fC_"
      },
      "execution_count": null,
      "outputs": []
    },
    {
      "cell_type": "code",
      "source": [
        "// 3. Vehiculo y Moto\n",
        "class Vehiculo {\n",
        "    void arrancar() {\n",
        "        System.out.println(\"Vehículo encendido\");\n",
        "    }\n",
        "}\n",
        "class Moto extends Vehiculo {\n",
        "    void arrancar() {\n",
        "        System.out.println(\"Moto encendida\");\n",
        "    }\n",
        "}\n",
        "// Main: new Moto().arrancar();"
      ],
      "metadata": {
        "id": "Z9PstmCs6iLB"
      },
      "execution_count": null,
      "outputs": []
    },
    {
      "cell_type": "code",
      "source": [
        "// 4. Empleado, Gerente, Obrero\n",
        "class Empleado {\n",
        "    void trabajar() {\n",
        "        System.out.println(\"Empleado trabajando\");\n",
        "    }\n",
        "}\n",
        "class Gerente extends Empleado {\n",
        "    void trabajar() {\n",
        "        System.out.println(\"Gerente gestionando\");\n",
        "    }\n",
        "}\n",
        "class Obrero extends Empleado {\n",
        "    void trabajar() {\n",
        "        System.out.println(\"Obrero construyendo\");\n",
        "    }\n",
        "}\n",
        "// Main:\n",
        "// new Gerente().trabajar();\n",
        "// new Obrero().trabajar();"
      ],
      "metadata": {
        "id": "uhgHOI-j6lcX"
      },
      "execution_count": null,
      "outputs": []
    },
    {
      "cell_type": "code",
      "source": [
        "// 5. Producto y Libro\n",
        "class Producto {\n",
        "    String nombre;\n",
        "    double precio;\n",
        "    Producto(String nombre, double precio) {\n",
        "        this.nombre = nombre;\n",
        "        this.precio = precio;\n",
        "    }\n",
        "}\n",
        "class Libro extends Producto {\n",
        "    Libro(String nombre, double precio) {\n",
        "        super(nombre, precio);\n",
        "    }\n",
        "}\n",
        "// Main:\n",
        "// Libro l = new Libro(\"Java Básico\", 39.99);\n",
        "// System.out.println(\"Libro: \" + l.nombre + \", Precio: $\" + l.precio);"
      ],
      "metadata": {
        "id": "hSE0VjxB6qm3"
      },
      "execution_count": null,
      "outputs": []
    },
    {
      "cell_type": "code",
      "source": [
        "// 6. Persona y Profesor\n",
        "class Profesor extends Persona {\n",
        "    Profesor(String nombre) {\n",
        "        super(nombre);\n",
        "    }\n",
        "    void enseñar() {\n",
        "        System.out.println(\"Estoy enseñando\");\n",
        "    }\n",
        "    void saludar() {\n",
        "        System.out.println(\"Hola\");\n",
        "    }\n",
        "}\n",
        "// Main:\n",
        "// Profesor prof = new Profesor(\"Luis\");\n",
        "// prof.saludar();\n",
        "// prof.enseñar();"
      ],
      "metadata": {
        "id": "LDu1cnPE6tjC"
      },
      "execution_count": null,
      "outputs": []
    },
    {
      "cell_type": "code",
      "source": [
        "// 7. Animal y Gato con super\n",
        "class Gato extends Animal {\n",
        "    void sonido() {\n",
        "        super.mensaje();\n",
        "        System.out.println(\"Miau\");\n",
        "    }\n",
        "}\n",
        "// Main: new Gato().sonido();"
      ],
      "metadata": {
        "id": "RGuFL-ic6vx2"
      },
      "execution_count": null,
      "outputs": []
    },
    {
      "cell_type": "code",
      "source": [
        "// 8. Computadora y Portatil\n",
        "class Computadora {\n",
        "    void encender() {\n",
        "        System.out.println(\"Computadora encendida\");\n",
        "    }\n",
        "}\n",
        "class Portatil extends Computadora {}\n",
        "// Main: new Portatil().encender();"
      ],
      "metadata": {
        "id": "PNX1muXs6xzN"
      },
      "execution_count": null,
      "outputs": []
    },
    {
      "cell_type": "code",
      "source": [
        "// 9. Cuenta y CuentaAhorro\n",
        "class Cuenta {\n",
        "    double saldo;\n",
        "    Cuenta(double saldo) {\n",
        "        this.saldo = saldo;\n",
        "    }\n",
        "}\n",
        "class CuentaAhorro extends Cuenta {\n",
        "    CuentaAhorro(double saldo) {\n",
        "        super(saldo);\n",
        "    }\n",
        "}\n",
        "// Main: System.out.println(new CuentaAhorro(800).saldo);"
      ],
      "metadata": {
        "id": "bo4CRUE56zzI"
      },
      "execution_count": null,
      "outputs": []
    },
    {
      "cell_type": "code",
      "source": [
        "// 10. SerVivo y Humano\n",
        "class SerVivo {\n",
        "    void respirar() {\n",
        "        System.out.println(\"Respirando...\");\n",
        "    }\n",
        "}\n",
        "class Humano extends SerVivo {}\n",
        "// Main: new Humano().respirar();"
      ],
      "metadata": {
        "id": "m5MCUk0D61yf"
      },
      "execution_count": null,
      "outputs": []
    }
  ]
}