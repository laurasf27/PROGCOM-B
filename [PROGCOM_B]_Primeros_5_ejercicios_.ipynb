{
  "nbformat": 4,
  "nbformat_minor": 0,
  "metadata": {
    "colab": {
      "provenance": [],
      "toc_visible": true
    },
    "kernelspec": {
      "name": "python3",
      "display_name": "Python 3"
    },
    "language_info": {
      "name": "python"
    }
  },
  "cells": [
    {
      "cell_type": "markdown",
      "source": [
        "1."
      ],
      "metadata": {
        "id": "9PaV1RBKwbJT"
      }
    },
    {
      "cell_type": "code",
      "execution_count": null,
      "metadata": {
        "colab": {
          "base_uri": "https://localhost:8080/"
        },
        "id": "84mlN0bBxWWm",
        "outputId": "bc2308e9-fcb0-49d2-a7de-0eee532b0eb5"
      },
      "outputs": [
        {
          "output_type": "stream",
          "name": "stdout",
          "text": [
            "Ingrese la base del triangulo 10\n",
            "Ingrese la altura del triangulo 5\n",
            "El area del triangulo es  25.0\n"
          ]
        }
      ],
      "source": [
        "base = float (input (\"Ingrese la base del triangulo \"))\n",
        "altura = float (input (\"Ingrese la altura del triangulo \"))\n",
        "area = (base*altura)/2\n",
        "print ( \"El area del triangulo es \", area)\n"
      ]
    },
    {
      "cell_type": "markdown",
      "source": [
        "2."
      ],
      "metadata": {
        "id": "7UI9DJsqweXf"
      }
    },
    {
      "cell_type": "code",
      "source": [
        "GradosC = float (input (\"Ingrese el valor de los grados celsius \"))\n",
        "GradosF = (GradosC * (9/5))+32\n",
        "print ( \"La conversion a grados Fahrenheit es\" , GradosF )\n"
      ],
      "metadata": {
        "colab": {
          "base_uri": "https://localhost:8080/"
        },
        "id": "YDA1qEUl0oMW",
        "outputId": "421fe4b8-49b0-4cf0-a127-9f07917e8357"
      },
      "execution_count": null,
      "outputs": [
        {
          "output_type": "stream",
          "name": "stdout",
          "text": [
            "Ingrese el valor de los grados celsius 30\n",
            "La conversion a grados Fahrenheit es 86.0\n"
          ]
        }
      ]
    },
    {
      "cell_type": "code",
      "source": [
        "GradosC = float (input (\"Ingrese el valor de los grados celsius \"))\n",
        "GradosF = (GradosC * (9/5))+32\n",
        "print ( f\"La conversion a grados Fahrenheit es\" , {GradosF} )"
      ],
      "metadata": {
        "colab": {
          "base_uri": "https://localhost:8080/"
        },
        "id": "YmIssjTN2UjT",
        "outputId": "1b416b73-8f9a-4077-9a1f-04ca09fbfad8"
      },
      "execution_count": null,
      "outputs": [
        {
          "output_type": "stream",
          "name": "stdout",
          "text": [
            "Ingrese el valor de los grados celsius 30\n",
            "La conversion a grados Fahrenheit es {86.0}\n"
          ]
        }
      ]
    },
    {
      "cell_type": "markdown",
      "source": [
        "3."
      ],
      "metadata": {
        "id": "9QppOqxczGGL"
      }
    },
    {
      "cell_type": "code",
      "source": [
        "Numero1 = float (input (\"Ingrese el primer numero \"))\n",
        "Numero2 = float (input (\"Ingrese el segundo numero \"))\n",
        "Numero3 = float (input (\"Ingrese el tercer numero \"))\n",
        "Prom = (Numero1 + Numero2 + Numero3)/3\n",
        "print (\"El promedio de los numeros ingresados es\" , Prom)"
      ],
      "metadata": {
        "colab": {
          "base_uri": "https://localhost:8080/"
        },
        "id": "2noi37Az1ntn",
        "outputId": "cc16823f-e7fe-4de0-f40d-3dbf413bca15"
      },
      "execution_count": null,
      "outputs": [
        {
          "output_type": "stream",
          "name": "stdout",
          "text": [
            "Ingrese el primer numero 2\n",
            "Ingrese el segundo numero 2\n",
            "Ingrese el tercer numero 2\n",
            "El promedio de los numeros ingresados es 2.0\n"
          ]
        }
      ]
    },
    {
      "cell_type": "code",
      "source": [
        "Numero1 = float (input (\"Ingrese el primer numero \"))\n",
        "Numero2 = float (input (\"Ingrese el segundo numero \"))\n",
        "Numero3 = float (input (\"Ingrese el tercer numero \"))\n",
        "Prom = (Numero1 + Numero2 + Numero3)/3\n",
        "print (f\"El promedio de los numeros ingresados es\" , {Prom})"
      ],
      "metadata": {
        "colab": {
          "base_uri": "https://localhost:8080/"
        },
        "id": "JXqw-wXv3Fkp",
        "outputId": "126e6d09-bdb9-42b1-8134-ea7a761fe42c"
      },
      "execution_count": null,
      "outputs": [
        {
          "output_type": "stream",
          "name": "stdout",
          "text": [
            "Ingrese el primer numero 45\n",
            "Ingrese el segundo numero 47\n",
            "Ingrese el tercer numero 46\n",
            "El promedio de los numeros ingresados es {46.0}\n"
          ]
        }
      ]
    },
    {
      "cell_type": "markdown",
      "source": [
        "4."
      ],
      "metadata": {
        "id": "SNDvub55zNS-"
      }
    },
    {
      "cell_type": "code",
      "source": [
        "Radio = float (input (\"Ingrese el radio del circulo \"))\n",
        "Perimetro = 2*3.14*Radio\n",
        "print (\"El perimetro del circulo es \", Perimetro)\n"
      ],
      "metadata": {
        "colab": {
          "base_uri": "https://localhost:8080/"
        },
        "id": "tsLpoUkN4GBb",
        "outputId": "3d5961d2-16d3-455e-afb5-0bc030c2a1c5"
      },
      "execution_count": null,
      "outputs": [
        {
          "output_type": "stream",
          "name": "stdout",
          "text": [
            "Ingrese el radio del circulo 10\n",
            "El perimetro del circulo es  62.800000000000004\n"
          ]
        }
      ]
    },
    {
      "cell_type": "code",
      "source": [
        "Radio = float (input (\"Ingrese el radio del circulo \"))\n",
        "Perimetro = 2*3.14*Radio\n",
        "print (f\"El perimetro del circulo es \", {Perimetro})"
      ],
      "metadata": {
        "colab": {
          "base_uri": "https://localhost:8080/"
        },
        "id": "RvPPt8Pt1ZYy",
        "outputId": "528b4679-f5bb-445b-f2d1-1a0859c3e0a4"
      },
      "execution_count": null,
      "outputs": [
        {
          "output_type": "stream",
          "name": "stdout",
          "text": [
            "Ingrese el radio del circulo 10\n",
            "El perimetro del circulo es  {62.800000000000004}\n"
          ]
        }
      ]
    },
    {
      "cell_type": "markdown",
      "source": [
        "5."
      ],
      "metadata": {
        "id": "3dnjFs_L1SJu"
      }
    },
    {
      "cell_type": "code",
      "source": [
        "import math\n",
        "print(\"Resuelve la ecuación cuadrática ax² + bx + c = 0\")\n",
        "a = float (input (\"Ingrese el valor de a \"))\n",
        "b = float (input (\"Ingrese el valor de b \"))\n",
        "c = float (input (\"Ingrese el valor de c \"))\n",
        "\n",
        "discriminante = (b*b) - 4*a*c\n",
        "\n",
        "\n",
        "if discriminante > 0:\n",
        "    x1 = (-b + math.sqrt(discriminante)) / (2 * a)\n",
        "    x2 = (-b - math.sqrt(discriminante)) / (2 * a)\n",
        "    print(f\"Las soluciones son: {x1} y {x2}\")\n",
        "elif discriminante == 0:\n",
        "    x1 = -b / (2 * a)\n",
        "    print(f\"La solución es: {x1}\")\n",
        "else:\n",
        "    print(\"La ecuación no tiene soluciones reales.\")\n"
      ],
      "metadata": {
        "id": "kbIKZ7it5PIw",
        "colab": {
          "base_uri": "https://localhost:8080/"
        },
        "outputId": "ccf8cde4-38cc-44cc-a159-6d180f01880b"
      },
      "execution_count": null,
      "outputs": [
        {
          "output_type": "stream",
          "name": "stdout",
          "text": [
            "Resuelve la ecuación cuadrática ax² + bx + c = 0\n",
            "Ingrese el valor de a 1\n",
            "Ingrese el valor de b -5\n",
            "Ingrese el valor de c 6\n",
            "Las soluciones son: 3.0 y 2.0\n"
          ]
        }
      ]
    }
  ]
}