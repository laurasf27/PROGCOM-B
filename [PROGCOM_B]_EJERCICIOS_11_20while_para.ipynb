{
  "nbformat": 4,
  "nbformat_minor": 0,
  "metadata": {
    "colab": {
      "provenance": []
    },
    "kernelspec": {
      "name": "python3",
      "display_name": "Python 3"
    },
    "language_info": {
      "name": "python"
    }
  },
  "cells": [
    {
      "cell_type": "markdown",
      "source": [
        "**EJERCICIO 11**"
      ],
      "metadata": {
        "id": "D31dGH6gln1F"
      }
    },
    {
      "cell_type": "code",
      "source": [
        "#FOR\n",
        "def calcular_imc(peso, altura):\n",
        "    \"\"\"Calcula el IMC dado el peso en kg y la altura en metros\"\"\"\n",
        "    return peso / (altura ** 2)\n",
        "\n",
        "def obtener_categoria_imc(imc):\n",
        "    \"\"\"Determina la categoría de peso basada en el IMC\"\"\"\n",
        "    if imc < 18.5:\n",
        "        return \"bajo peso\"\n",
        "    elif imc < 25:\n",
        "        return \"peso normal\"\n",
        "    elif imc < 30:\n",
        "        return \"sobrepeso\"\n",
        "    else:\n",
        "        return \"obesidad\"\n",
        "\n",
        "def obtener_recomendacion(categoria):\n",
        "    recomendaciones = {\n",
        "        \"bajo peso\": \"Estas bajo de peso, te recomiendo aumentar tu ingesta.\",\n",
        "        \"peso normal\": \"Mantenga sus hábitos saludables actuales.\",\n",
        "        \"sobrepeso\": \"consulta un médico para un plan adecuado.\",\n",
        "        \"obesidad\": \"Es importante consultar con un profesional de la salud.\"\n",
        "    }\n",
        "    return recomendaciones[categoria]\n",
        "\n",
        "registros = []\n",
        "\n",
        "num_personas = int(input(\"¿Cuántas personas desea evaluar? \"))\n",
        "\n",
        "for i in range(num_personas):\n",
        "    print(f\"\\nPersona {i+1}:\")\n",
        "    nombre = input(\"Nombre: \")\n",
        "    peso = float(input(\"Peso en kg: \"))\n",
        "    altura = float(input(\"Altura en metros: \"))\n",
        "\n",
        "    imc = calcular_imc(peso, altura)\n",
        "    categoria = obtener_categoria_imc(imc)\n",
        "    recomendacion = obtener_recomendacion(categoria)\n",
        "\n",
        "    persona = {\n",
        "        \"nombre\": nombre,\n",
        "        \"peso\": peso,\n",
        "        \"altura\": altura,\n",
        "        \"imc\": imc,\n",
        "        \"categoria\": categoria,\n",
        "        \"recomendacion\": recomendacion\n",
        "    }\n",
        "\n",
        "    registros.append(persona)\n",
        "\n",
        "\n",
        "for i, persona in enumerate(registros, 1):\n",
        "    print(f\"\\nResultados para persona {i}:\")\n",
        "    print(f\"Nombre: {persona['nombre']}\")\n",
        "    print(f\"IMC: {persona['imc']:.1f}\")\n",
        "    print(f\"Categoría: {persona['categoria']}\")\n",
        "    print(f\"Recomendación: {persona['recomendacion']}\")\n",
        "\n",
        "categorias_count = {}\n",
        "for persona in registros:\n",
        "    categoria = persona['categoria']\n",
        "    categorias_count[categoria] = categorias_count.get(categoria, 0) + 1\n"
      ],
      "metadata": {
        "colab": {
          "base_uri": "https://localhost:8080/"
        },
        "id": "FhjoYa3OltUF",
        "outputId": "5420be06-9ca2-4f4e-810f-58eee4e1df5d"
      },
      "execution_count": 1,
      "outputs": [
        {
          "output_type": "stream",
          "name": "stdout",
          "text": [
            "¿Cuántas personas desea evaluar? 1\n",
            "\n",
            "Persona 1:\n",
            "Nombre: LAURA\n",
            "Peso en kg: 62\n",
            "Altura en metros: 1.61\n",
            "\n",
            "Resultados para persona 1:\n",
            "Nombre: LAURA\n",
            "IMC: 23.9\n",
            "Categoría: peso normal\n",
            "Recomendación: Mantenga sus hábitos saludables actuales.\n"
          ]
        }
      ]
    },
    {
      "cell_type": "code",
      "source": [
        "#While\n",
        "def calcular_imc(peso, altura):\n",
        "    \"\"\"Calcula el IMC dado el peso en kg y la altura en metros\"\"\"\n",
        "    return peso / (altura ** 2)\n",
        "\n",
        "def obtener_categoria_imc(imc):\n",
        "    \"\"\"Determina la categoría de peso basada en el IMC\"\"\"\n",
        "    if imc < 18.5:\n",
        "        return \"bajo peso\"\n",
        "    elif imc < 25:\n",
        "        return \"peso normal\"\n",
        "    elif imc < 30:\n",
        "        return \"sobrepeso\"\n",
        "    else:\n",
        "        return \"obesidad\"\n",
        "\n",
        "def obtener_recomendacion(categoria):\n",
        "    recomendaciones = {\n",
        "        \"bajo peso\": \"Estás bajo de peso, te recomiendo aumentar tu ingesta.\",\n",
        "        \"peso normal\": \"Mantén tus hábitos saludables actuales.\",\n",
        "        \"sobrepeso\": \"Consulta un médico para un plan adecuado.\",\n",
        "        \"obesidad\": \"Es importante consultar con un profesional de la salud.\"\n",
        "    }\n",
        "    return recomendaciones[categoria]\n",
        "\n",
        "registros = []\n",
        "\n",
        "num_personas = int(input(\"¿Cuántas personas desea evaluar? \"))\n",
        "\n",
        "i = 0\n",
        "while i < num_personas:\n",
        "    print(f\"\\nPersona {i + 1}:\")\n",
        "    nombre = input(\"Nombre: \")\n",
        "    peso = float(input(\"Peso en kg: \"))\n",
        "    altura = float(input(\"Altura en metros: \"))\n",
        "\n",
        "    imc = calcular_imc(peso, altura)\n",
        "    categoria = obtener_categoria_imc(imc)\n",
        "    recomendacion = obtener_recomendacion(categoria)\n",
        "\n",
        "    persona = {\n",
        "        \"nombre\": nombre,\n",
        "        \"peso\": peso,\n",
        "        \"altura\": altura,\n",
        "        \"imc\": imc,\n",
        "        \"categoria\": categoria,\n",
        "        \"recomendacion\": recomendacion\n",
        "    }\n",
        "\n",
        "    registros.append(persona)\n",
        "    i += 1\n",
        "\n",
        "i = 1\n",
        "while i <= len(registros):\n",
        "    persona = registros[i - 1]\n",
        "    print(f\"\\nResultados para persona {i}:\")\n",
        "    print(f\"Nombre: {persona['nombre']}\")\n",
        "    print(f\"IMC: {persona['imc']:.1f}\")\n",
        "    print(f\"Categoría: {persona['categoria']}\")\n",
        "    print(f\"Recomendación: {persona['recomendacion']}\")\n",
        "    i += 1\n",
        "\n",
        "categorias_count = {}\n",
        "i = 0\n",
        "while i < len(registros):\n",
        "    categoria = registros[i]['categoria']\n",
        "    categorias_count[categoria] = categorias_count.get(categoria, 0) + 1\n",
        "    i += 1\n",
        "\n",
        "print(\"\\nResumen de categorías:\")\n",
        "for categoria, count in categorias_count.items():\n",
        "    print(f\"{categoria}: {count}\")\n"
      ],
      "metadata": {
        "colab": {
          "base_uri": "https://localhost:8080/"
        },
        "id": "YTuUPfP_pDAC",
        "outputId": "67ec60c0-3f99-4484-b727-ff23f25170c3"
      },
      "execution_count": 5,
      "outputs": [
        {
          "output_type": "stream",
          "name": "stdout",
          "text": [
            "¿Cuántas personas desea evaluar? 1\n",
            "\n",
            "Persona 1:\n",
            "Nombre: la\n",
            "Peso en kg: 100\n",
            "Altura en metros: 1.41\n",
            "\n",
            "Resultados para persona 1:\n",
            "Nombre: la\n",
            "IMC: 50.3\n",
            "Categoría: obesidad\n",
            "Recomendación: Es importante consultar con un profesional de la salud.\n",
            "\n",
            "Resumen de categorías:\n",
            "obesidad: 1\n"
          ]
        }
      ]
    },
    {
      "cell_type": "markdown",
      "source": [
        "**EJERCICIO 12**\n",
        "\n"
      ],
      "metadata": {
        "id": "4F6FMiiwoN-D"
      }
    },
    {
      "cell_type": "code",
      "source": [
        "#FOR\n",
        "operaciones = [\"+\", \"-\", \"*\", \"/\"]\n",
        "\n",
        "\n",
        "num1 = float(input(\"Ingresa el primer número: \"))\n",
        "num2 = float(input(\"Ingresa el segundo número: \"))\n",
        "operacion = input(\"Ingresa la operación (+, -, *, /): \")\n",
        "\n",
        "if operacion in operaciones:\n",
        "    if operacion == \"+\":\n",
        "        resultado = num1 + num2\n",
        "    elif operacion == \"-\":\n",
        "        resultado = num1 - num2\n",
        "    elif operacion == \"*\":\n",
        "        resultado = num1 * num2\n",
        "    elif operacion == \"/\":\n",
        "        if num2 == 0:\n",
        "            print(\"Error: No se puede dividir entre cero.\")\n",
        "        else:\n",
        "            resultado = num1 / num2\n",
        "    print(f\"El resultado de la operación {operacion} es: {resultado}\")\n",
        "else:\n",
        "    print(\"Error: Operación inválida.\")\n"
      ],
      "metadata": {
        "colab": {
          "base_uri": "https://localhost:8080/"
        },
        "id": "l9A9dsEsoRPL",
        "outputId": "6203b0b0-b5b4-457e-ec7f-452bd96dc2fe"
      },
      "execution_count": 3,
      "outputs": [
        {
          "output_type": "stream",
          "name": "stdout",
          "text": [
            "Ingresa el primer número: 1\n",
            "Ingresa el segundo número: 1\n",
            "Ingresa la operación (+, -, *, /): +\n",
            "El resultado de la operación + es: 2.0\n"
          ]
        }
      ]
    },
    {
      "cell_type": "code",
      "source": [
        "#while\n",
        "operaciones = [\"+\", \"-\", \"*\", \"/\"]\n",
        "\n",
        "while True:\n",
        "    num1 = float(input(\"Ingresa el primer número: \"))\n",
        "    num2 = float(input(\"Ingresa el segundo número: \"))\n",
        "    operacion = input(\"Ingresa la operación (+, -, *, /) o 'salir' para terminar: \")\n",
        "\n",
        "    if operacion == \"salir\":\n",
        "        print(\"Programa terminado.\")\n",
        "        break\n",
        "    if operacion in operaciones:\n",
        "        if operacion == \"+\":\n",
        "            resultado = num1 + num2\n",
        "        elif operacion == \"-\":\n",
        "            resultado = num1 - num2\n",
        "        elif operacion == \"*\":\n",
        "            resultado = num1 * num2\n",
        "        elif operacion == \"/\":\n",
        "            if num2 == 0:\n",
        "                print(\"Error: No se puede dividir entre cero.\")\n",
        "                continue\n",
        "            else:\n",
        "                resultado = num1 / num2\n",
        "        print(f\"El resultado de la operación {operacion} es: {resultado}\")\n",
        "    else:\n",
        "        print(\"Error: Operación inválida.\")\n"
      ],
      "metadata": {
        "colab": {
          "base_uri": "https://localhost:8080/",
          "height": 426
        },
        "collapsed": true,
        "id": "lNZ2MmpZpo4C",
        "outputId": "2e47b522-998b-4c31-b7da-b62720546676"
      },
      "execution_count": 6,
      "outputs": [
        {
          "output_type": "stream",
          "name": "stdout",
          "text": [
            "Ingresa el primer número: 1\n",
            "Ingresa el segundo número: 1\n",
            "Ingresa la operación (+, -, *, /) o 'salir' para terminar: +\n",
            "El resultado de la operación + es: 2.0\n"
          ]
        },
        {
          "output_type": "error",
          "ename": "KeyboardInterrupt",
          "evalue": "Interrupted by user",
          "traceback": [
            "\u001b[0;31m---------------------------------------------------------------------------\u001b[0m",
            "\u001b[0;31mKeyboardInterrupt\u001b[0m                         Traceback (most recent call last)",
            "\u001b[0;32m<ipython-input-6-2fa5dff1d61d>\u001b[0m in \u001b[0;36m<cell line: 0>\u001b[0;34m()\u001b[0m\n\u001b[1;32m      3\u001b[0m \u001b[0;34m\u001b[0m\u001b[0m\n\u001b[1;32m      4\u001b[0m \u001b[0;32mwhile\u001b[0m \u001b[0;32mTrue\u001b[0m\u001b[0;34m:\u001b[0m\u001b[0;34m\u001b[0m\u001b[0;34m\u001b[0m\u001b[0m\n\u001b[0;32m----> 5\u001b[0;31m     \u001b[0mnum1\u001b[0m \u001b[0;34m=\u001b[0m \u001b[0mfloat\u001b[0m\u001b[0;34m(\u001b[0m\u001b[0minput\u001b[0m\u001b[0;34m(\u001b[0m\u001b[0;34m\"Ingresa el primer número: \"\u001b[0m\u001b[0;34m)\u001b[0m\u001b[0;34m)\u001b[0m\u001b[0;34m\u001b[0m\u001b[0;34m\u001b[0m\u001b[0m\n\u001b[0m\u001b[1;32m      6\u001b[0m     \u001b[0mnum2\u001b[0m \u001b[0;34m=\u001b[0m \u001b[0mfloat\u001b[0m\u001b[0;34m(\u001b[0m\u001b[0minput\u001b[0m\u001b[0;34m(\u001b[0m\u001b[0;34m\"Ingresa el segundo número: \"\u001b[0m\u001b[0;34m)\u001b[0m\u001b[0;34m)\u001b[0m\u001b[0;34m\u001b[0m\u001b[0;34m\u001b[0m\u001b[0m\n\u001b[1;32m      7\u001b[0m     \u001b[0moperacion\u001b[0m \u001b[0;34m=\u001b[0m \u001b[0minput\u001b[0m\u001b[0;34m(\u001b[0m\u001b[0;34m\"Ingresa la operación (+, -, *, /) o 'salir' para terminar: \"\u001b[0m\u001b[0;34m)\u001b[0m\u001b[0;34m\u001b[0m\u001b[0;34m\u001b[0m\u001b[0m\n",
            "\u001b[0;32m/usr/local/lib/python3.11/dist-packages/ipykernel/kernelbase.py\u001b[0m in \u001b[0;36mraw_input\u001b[0;34m(self, prompt)\u001b[0m\n\u001b[1;32m   1175\u001b[0m                 \u001b[0;34m\"raw_input was called, but this frontend does not support input requests.\"\u001b[0m\u001b[0;34m\u001b[0m\u001b[0;34m\u001b[0m\u001b[0m\n\u001b[1;32m   1176\u001b[0m             )\n\u001b[0;32m-> 1177\u001b[0;31m         return self._input_request(\n\u001b[0m\u001b[1;32m   1178\u001b[0m             \u001b[0mstr\u001b[0m\u001b[0;34m(\u001b[0m\u001b[0mprompt\u001b[0m\u001b[0;34m)\u001b[0m\u001b[0;34m,\u001b[0m\u001b[0;34m\u001b[0m\u001b[0;34m\u001b[0m\u001b[0m\n\u001b[1;32m   1179\u001b[0m             \u001b[0mself\u001b[0m\u001b[0;34m.\u001b[0m\u001b[0m_parent_ident\u001b[0m\u001b[0;34m[\u001b[0m\u001b[0;34m\"shell\"\u001b[0m\u001b[0;34m]\u001b[0m\u001b[0;34m,\u001b[0m\u001b[0;34m\u001b[0m\u001b[0;34m\u001b[0m\u001b[0m\n",
            "\u001b[0;32m/usr/local/lib/python3.11/dist-packages/ipykernel/kernelbase.py\u001b[0m in \u001b[0;36m_input_request\u001b[0;34m(self, prompt, ident, parent, password)\u001b[0m\n\u001b[1;32m   1217\u001b[0m             \u001b[0;32mexcept\u001b[0m \u001b[0mKeyboardInterrupt\u001b[0m\u001b[0;34m:\u001b[0m\u001b[0;34m\u001b[0m\u001b[0;34m\u001b[0m\u001b[0m\n\u001b[1;32m   1218\u001b[0m                 \u001b[0;31m# re-raise KeyboardInterrupt, to truncate traceback\u001b[0m\u001b[0;34m\u001b[0m\u001b[0;34m\u001b[0m\u001b[0m\n\u001b[0;32m-> 1219\u001b[0;31m                 \u001b[0;32mraise\u001b[0m \u001b[0mKeyboardInterrupt\u001b[0m\u001b[0;34m(\u001b[0m\u001b[0;34m\"Interrupted by user\"\u001b[0m\u001b[0;34m)\u001b[0m \u001b[0;32mfrom\u001b[0m \u001b[0;32mNone\u001b[0m\u001b[0;34m\u001b[0m\u001b[0;34m\u001b[0m\u001b[0m\n\u001b[0m\u001b[1;32m   1220\u001b[0m             \u001b[0;32mexcept\u001b[0m \u001b[0mException\u001b[0m\u001b[0;34m:\u001b[0m\u001b[0;34m\u001b[0m\u001b[0;34m\u001b[0m\u001b[0m\n\u001b[1;32m   1221\u001b[0m                 \u001b[0mself\u001b[0m\u001b[0;34m.\u001b[0m\u001b[0mlog\u001b[0m\u001b[0;34m.\u001b[0m\u001b[0mwarning\u001b[0m\u001b[0;34m(\u001b[0m\u001b[0;34m\"Invalid Message:\"\u001b[0m\u001b[0;34m,\u001b[0m \u001b[0mexc_info\u001b[0m\u001b[0;34m=\u001b[0m\u001b[0;32mTrue\u001b[0m\u001b[0;34m)\u001b[0m\u001b[0;34m\u001b[0m\u001b[0;34m\u001b[0m\u001b[0m\n",
            "\u001b[0;31mKeyboardInterrupt\u001b[0m: Interrupted by user"
          ]
        }
      ]
    },
    {
      "cell_type": "markdown",
      "source": [
        "**EJERCICIO 13**"
      ],
      "metadata": {
        "id": "5ll5hDVXqEYK"
      }
    },
    {
      "cell_type": "code",
      "source": [
        "#FOR\n",
        "num_notas = int(input(\"¿Cuántas notas deseas ingresar? \"))\n",
        "\n",
        "for i in range(num_notas):\n",
        "    nota = int(input(f\"Ingresar nota {i+1} (de 0 a 100): \"))\n",
        "\n",
        "    if 90 <= nota <= 100:\n",
        "        calificacion = \"A\"\n",
        "    elif 80 <= nota < 90:\n",
        "        calificacion = \"B\"\n",
        "    elif 70 <= nota < 80:\n",
        "        calificacion = \"C\"\n",
        "    elif 60 <= nota < 70:\n",
        "        calificacion = \"D\"\n",
        "    elif 0 <= nota < 60:\n",
        "        calificacion = \"F\"\n",
        "    else:\n",
        "        calificacion = \"Nota mal ingresada, debe estar entre 0 y 100.\"\n",
        "\n",
        "    print(f\"Tu calificación para la nota {nota} es: {calificacion}\")\n"
      ],
      "metadata": {
        "id": "jYZaxLMpqGPh"
      },
      "execution_count": null,
      "outputs": []
    }
  ]
}