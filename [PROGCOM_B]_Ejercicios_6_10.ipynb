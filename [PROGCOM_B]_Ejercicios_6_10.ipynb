{
  "nbformat": 4,
  "nbformat_minor": 0,
  "metadata": {
    "colab": {
      "provenance": []
    },
    "kernelspec": {
      "name": "python3",
      "display_name": "Python 3"
    },
    "language_info": {
      "name": "python"
    }
  },
  "cells": [
    {
      "cell_type": "markdown",
      "source": [
        "**Ejercicio 6**"
      ],
      "metadata": {
        "id": "SHr2frYX6LV0"
      }
    },
    {
      "cell_type": "code",
      "execution_count": null,
      "metadata": {
        "id": "J7DmTgol6DNg"
      },
      "outputs": [],
      "source": [
        "#Empleando estructura condicional\n",
        "numero= int(input( \"Ingrese un numero \"))\n",
        "if numero % 2 == 0:\n",
        "    print(f\"El número {numero} es par.\")\n",
        "else:\n",
        "    print(f\"El número {numero} es impar.\")"
      ]
    },
    {
      "cell_type": "code",
      "source": [
        "#Empleando estructura switch V1\n",
        "numero= int(input( \"Ingrese un numero \"))\n",
        "if numero % 2 == 0:\n",
        "    print(f\"El número {numero} es par.\")\n",
        "elif numero % 2 != 0:\n",
        "    print(f\"El número {numero} es impar.\")\n",
        "else:\n",
        "    print(f\"El número {numero} es par.\")"
      ],
      "metadata": {
        "colab": {
          "base_uri": "https://localhost:8080/"
        },
        "id": "9fjKnJy36OWj",
        "outputId": "66e8cfbb-7243-430a-89d4-f34da3d6c14d"
      },
      "execution_count": null,
      "outputs": [
        {
          "output_type": "stream",
          "name": "stdout",
          "text": [
            "Ingrese un numero 3\n",
            "El número 3 es impar.\n"
          ]
        }
      ]
    },
    {
      "cell_type": "code",
      "source": [
        "#Empleando estructura switch V2\n",
        "match numero % 2:\n",
        "    case 0:\n",
        "        print(f\"El número {numero} es par.\")\n",
        "    case 1:\n",
        "        print(f\"El número {numero} es impar.\")"
      ],
      "metadata": {
        "colab": {
          "base_uri": "https://localhost:8080/"
        },
        "id": "kNNonmcM6_ay",
        "outputId": "d9376b02-25f2-4508-bbd0-ae692fbe0bd2"
      },
      "execution_count": null,
      "outputs": [
        {
          "output_type": "stream",
          "name": "stdout",
          "text": [
            "El número 3 es impar.\n"
          ]
        }
      ]
    },
    {
      "cell_type": "code",
      "source": [
        "#Empleando operador terniario\n",
        "print (f\"El número {numero} es par.\") if numero % 2 == 0 else print (f\"El número {numero} es impar.\")\n"
      ],
      "metadata": {
        "colab": {
          "base_uri": "https://localhost:8080/"
        },
        "id": "PdGKwolw7O8O",
        "outputId": "8caf8650-9b1b-4b04-8efe-4de0a2cb817c"
      },
      "execution_count": null,
      "outputs": [
        {
          "output_type": "stream",
          "name": "stdout",
          "text": [
            "El número 3 es impar.\n"
          ]
        }
      ]
    },
    {
      "cell_type": "markdown",
      "source": [
        "**Ejercicio 7**"
      ],
      "metadata": {
        "id": "EIEYDOPb7mCT"
      }
    },
    {
      "cell_type": "code",
      "source": [
        "#Empleando estructura condicional\n",
        "año = int(input(\"Ingresa un año: \"))\n",
        "if (año % 4 == 0 and año % 100 != 0) or (año % 400 == 0):\n",
        "    print(f\"El año {año} es bisiesto.\")\n",
        "else:\n",
        "    print(f\"El año {año} no es bisiesto.\")\n",
        "\n"
      ],
      "metadata": {
        "colab": {
          "base_uri": "https://localhost:8080/"
        },
        "id": "rpiYkN5A7pa-",
        "outputId": "2df284b9-28a3-49b5-e089-bfd8620cde90"
      },
      "execution_count": null,
      "outputs": [
        {
          "output_type": "stream",
          "name": "stdout",
          "text": [
            "Ingresa un año: 2025\n",
            "El año 2025 no es bisiesto.\n"
          ]
        }
      ]
    },
    {
      "cell_type": "code",
      "source": [
        "#Empleando estructura switch V1\n",
        "if (año % 4 == 0 and año % 100 != 0) or (año % 400 == 0):\n",
        "    print(f\"El año {año} es bisiesto.\")\n",
        "elif (año % 4 != 0 and año % 100 == 0) or (año % 400 != 0):\n",
        "    print(f\"El año {año} no es bisiesto.\")\n",
        "else :\n",
        "    print(f\"El año {año} es bisiesto.\")\n"
      ],
      "metadata": {
        "colab": {
          "base_uri": "https://localhost:8080/"
        },
        "id": "eYrw2C_Q8una",
        "outputId": "dd8eae3d-7d71-46f2-c140-980d37e6cc15"
      },
      "execution_count": null,
      "outputs": [
        {
          "output_type": "stream",
          "name": "stdout",
          "text": [
            "El año 2025 no es bisiesto.\n"
          ]
        }
      ]
    },
    {
      "cell_type": "code",
      "source": [
        "#Empleando estructura switch V2\n",
        "match (año % 4 == 0 and año % 100 != 0) or (año % 400 == 0):\n",
        "    case True:\n",
        "        print(f\"El año {año} es bisiesto.\")\n",
        "    case False:\n",
        "        print(f\"El año {año} no es bisiesto.\")"
      ],
      "metadata": {
        "colab": {
          "base_uri": "https://localhost:8080/"
        },
        "id": "EE0CAv0K88kQ",
        "outputId": "8cb18c81-385f-4cbb-ef9b-af47ef442c1f"
      },
      "execution_count": null,
      "outputs": [
        {
          "output_type": "stream",
          "name": "stdout",
          "text": [
            "El año 2025 no es bisiesto.\n"
          ]
        }
      ]
    },
    {
      "cell_type": "code",
      "source": [
        "#Empleando operador terniario\n",
        "print(f\"El año {año} es bisiesto.\") if (año % 4 == 0 and año % 100 != 0) or (año % 400 == 0) else print(f\"El año {año} no es bisiesto.\")\n",
        "#"
      ],
      "metadata": {
        "colab": {
          "base_uri": "https://localhost:8080/"
        },
        "id": "bVPtkppF9hF9",
        "outputId": "d7b26b08-7ea3-41ca-8683-7e81e8e235a1"
      },
      "execution_count": null,
      "outputs": [
        {
          "output_type": "stream",
          "name": "stdout",
          "text": [
            "El año 2025 no es bisiesto.\n"
          ]
        }
      ]
    },
    {
      "cell_type": "markdown",
      "source": [
        "**Ejercicio 8**"
      ],
      "metadata": {
        "id": "L45Xlrdi9kQB"
      }
    },
    {
      "cell_type": "code",
      "source": [
        "#Empleando estructura condicional\n",
        "nombre = input(\"Ingresa tu nombre: \")\n",
        "edad = int(input(\"Ingresa tu edad: \"))\n",
        "\n",
        "if edad >= 70:\n",
        "    print(f\"{nombre}, tienes {edad} años y tienes prioridad en la fila.\")\n",
        "else:\n",
        "    print(f\"{nombre}, tienes {edad} años y no tienes prioridad en la fila.\")\n"
      ],
      "metadata": {
        "colab": {
          "base_uri": "https://localhost:8080/"
        },
        "id": "LtPks1iU9mY9",
        "outputId": "1a88b634-9f7c-47fe-afc6-122ac11b8e0e"
      },
      "execution_count": null,
      "outputs": [
        {
          "output_type": "stream",
          "name": "stdout",
          "text": [
            "Ingresa tu nombre: Santiago\n",
            "Ingresa tu edad: 70\n",
            "Santiago, tienes 70 años y tienes prioridad en la fila.\n"
          ]
        }
      ]
    },
    {
      "cell_type": "code",
      "source": [
        "#Empleando estructura switch V1\n",
        "if edad >= 70:\n",
        "    print(f\"{nombre}, tienes {edad} años y tienes prioridad en la fila.\")\n",
        "elif edad < 70:\n",
        "    print(f\"{nombre}, tienes {edad} años y no tienes prioridad en la fila.\")"
      ],
      "metadata": {
        "colab": {
          "base_uri": "https://localhost:8080/"
        },
        "id": "Yz5ElHf1_S6s",
        "outputId": "b19cc1a2-48d1-4dc0-94ab-280dc3923a23"
      },
      "execution_count": null,
      "outputs": [
        {
          "output_type": "stream",
          "name": "stdout",
          "text": [
            "Santiago, tienes 70 años y tienes prioridad en la fila.\n"
          ]
        }
      ]
    },
    {
      "cell_type": "code",
      "source": [
        "#Empleando estructura switch V2\n",
        "match edad >= 70:\n",
        "    case True:\n",
        "        print(f\"{nombre}, tienes {edad} años y tienes prioridad en la fila.\")\n",
        "    case False:\n",
        "        print(f\"{nombre}, tienes {edad} años y no tienes prioridad en la fila.\")"
      ],
      "metadata": {
        "colab": {
          "base_uri": "https://localhost:8080/"
        },
        "id": "i6lP7Q8L_eVR",
        "outputId": "0922fa7c-bb8b-467a-91bd-539e544525e1"
      },
      "execution_count": null,
      "outputs": [
        {
          "output_type": "stream",
          "name": "stdout",
          "text": [
            "Santiago, tienes 70 años y tienes prioridad en la fila.\n"
          ]
        }
      ]
    },
    {
      "cell_type": "code",
      "source": [
        "#Empleando operador terniario\n",
        "print(f\"{nombre}, tienes {edad} años y tienes prioridad en la fila.\") if edad >= 70 else print(f\"{nombre}, tienes {edad} años y no tienes prioridad en la fila.\")\n",
        "#"
      ],
      "metadata": {
        "colab": {
          "base_uri": "https://localhost:8080/"
        },
        "id": "SHPzR3J4_il5",
        "outputId": "9ba38ed9-c911-4dc2-f2ea-f5bcf2b5c1aa"
      },
      "execution_count": null,
      "outputs": [
        {
          "output_type": "stream",
          "name": "stdout",
          "text": [
            "Santiago, tienes 70 años y tienes prioridad en la fila.\n"
          ]
        }
      ]
    },
    {
      "cell_type": "markdown",
      "source": [
        "**Ejercicio 9**"
      ],
      "metadata": {
        "id": "BocPT_Q__pR6"
      }
    },
    {
      "cell_type": "code",
      "source": [
        "#Empleando estructura condicional\n",
        "numero1 = int(input(\"Ingresa el primer número: \"))\n",
        "numero2 = int(input(\"Ingresa el segundo número: \"))\n",
        "numero3 = int(input(\"Ingresa el tercer número: \"))\n",
        "if numero1 >= numero2 and numero1 >= numero3:\n",
        "    print(f\"El número mayor es: {numero1}\")\n",
        "elif numero2 >= numero1 and numero2 >= numero3:\n",
        "    print(f\"El número mayor es: {numero2}\")\n",
        "else:\n",
        "    print(f\"El número mayor es: {numero3}\")\n"
      ],
      "metadata": {
        "colab": {
          "base_uri": "https://localhost:8080/"
        },
        "id": "iqoDU-9t_r70",
        "outputId": "42ab53f1-8a72-456a-fc95-99ee2fa12d2e"
      },
      "execution_count": null,
      "outputs": [
        {
          "output_type": "stream",
          "name": "stdout",
          "text": [
            "Ingresa el primer número: 4\n",
            "Ingresa el segundo número: 6\n",
            "Ingresa el tercer número: 7\n",
            "El número mayor es: 7\n"
          ]
        }
      ]
    },
    {
      "cell_type": "code",
      "source": [
        "#Empleando estructura switch V1\n",
        "if numero1 >= numero2 and numero1 >= numero3:\n",
        "    print(f\"El número mayor es: {numero1}\")\n",
        "elif numero2 >= numero1 and numero2 >= numero3:\n",
        "     print(f\"El número mayor es: {numero2}\")\n",
        "else: print(f\"El número mayor es: {numero3}\")\n"
      ],
      "metadata": {
        "colab": {
          "base_uri": "https://localhost:8080/"
        },
        "id": "VxyNrg4k_99X",
        "outputId": "147715f1-8cf5-42c9-c9af-71f64a28cabf"
      },
      "execution_count": null,
      "outputs": [
        {
          "output_type": "stream",
          "name": "stdout",
          "text": [
            "El número mayor es: 3\n"
          ]
        }
      ]
    },
    {
      "cell_type": "code",
      "source": [
        "#Empleando estructura switch V2\n",
        "match numero1 >= numero2 and numero1 >= numero3:\n",
        "    case True:\n",
        "        print(f\"El número mayor es: {numero1}\")\n",
        "match numero2 >= numero1 and numero2 >= numero3:\n",
        "    case True:\n",
        "        print(f\"El número mayor es: {numero2}\")\n",
        "match numero3 >= numero1 and numero3 >= numero2:\n",
        "    case True:\n",
        "        print(f\"El número mayor es: {numero3}\")\n"
      ],
      "metadata": {
        "colab": {
          "base_uri": "https://localhost:8080/"
        },
        "id": "lP1JluTUBNA1",
        "outputId": "03e354c1-2337-467e-ddaa-390bf6a3026a"
      },
      "execution_count": null,
      "outputs": [
        {
          "output_type": "stream",
          "name": "stdout",
          "text": [
            "El número mayor es: 3\n"
          ]
        }
      ]
    },
    {
      "cell_type": "code",
      "source": [
        "#Empleando operador terniario\n",
        "print(f\"El número mayor es: {numero1}\") if numero1 >= numero2 and numero1 >= numero3 else print(f\"El número mayor es: {numero2}\") if numero2 >= numero1 and numero2 >= numero3 else print(f\"El número mayor es: {numero3}\")\n"
      ],
      "metadata": {
        "colab": {
          "base_uri": "https://localhost:8080/"
        },
        "id": "k6JOa6D2BsxN",
        "outputId": "7c826d07-8476-4b3e-9ee3-381c748c6805"
      },
      "execution_count": null,
      "outputs": [
        {
          "output_type": "stream",
          "name": "stdout",
          "text": [
            "El número mayor es: 7\n"
          ]
        }
      ]
    },
    {
      "cell_type": "markdown",
      "source": [
        "**Ejercicio 10**"
      ],
      "metadata": {
        "id": "w7gtE0izCG19"
      }
    },
    {
      "cell_type": "code",
      "source": [
        "#Empleando estructura condicional\n",
        "lado1 = float(input(\"Ingresa el primer lado del triángulo: \"))\n",
        "lado2 = float(input(\"Ingresa el segundo lado del triángulo: \"))\n",
        "lado3 = float(input(\"Ingresa el tercer lado del triángulo: \"))\n",
        "\n",
        "if lado1 == lado2 == lado3:\n",
        "    print(\"El triángulo es equilátero.\")\n",
        "elif lado1 == lado2 or lado2 == lado3 or lado1 == lado3:\n",
        "    print(\"El triángulo es isósceles.\")\n",
        "else:\n",
        "    print(\"El triángulo es escaleno.\")\n"
      ],
      "metadata": {
        "colab": {
          "base_uri": "https://localhost:8080/"
        },
        "id": "Fx_qboqICSn8",
        "outputId": "1b6a5cc6-052e-46d7-abd3-d526a7afd6a4"
      },
      "execution_count": null,
      "outputs": [
        {
          "output_type": "stream",
          "name": "stdout",
          "text": [
            "Ingresa el primer lado del triángulo: 10\n",
            "Ingresa el segundo lado del triángulo: 8\n",
            "Ingresa el tercer lado del triángulo: 10\n",
            "El triángulo es isósceles.\n"
          ]
        }
      ]
    },
    {
      "cell_type": "code",
      "source": [
        "#Empleando estructura switch V1\n",
        "if lado1 == lado2 == lado3:\n",
        "    print(\"El triángulo es equilátero.\")\n",
        "elif lado1 == lado2 or lado2 == lado3 or lado1 == lado3:\n",
        "    print(\"El triángulo es isósceles.\")\n",
        "else:\n",
        "    print(\"El triángulo es escaleno.\")\n"
      ],
      "metadata": {
        "id": "Lpg_K3BUC98N"
      },
      "execution_count": null,
      "outputs": []
    },
    {
      "cell_type": "code",
      "source": [
        "#Empleando estructura switch V2\n",
        "match lado1 == lado2 == lado3:\n",
        "    case True:\n",
        "        print(\"El triángulo es equilátero.\")\n",
        "match lado1 == lado2 or lado2 == lado3 or lado1 == lado3:\n",
        "    case True:\n",
        "        print(\"El triángulo es isósceles.\")\n",
        "match lado1 != lado2 and lado2 != lado3 and lado1 != lado3:\n",
        "    case True:\n",
        "        print(\"El triángulo es escaleno.\")\n"
      ],
      "metadata": {
        "colab": {
          "base_uri": "https://localhost:8080/"
        },
        "id": "UkNtKNtZDNek",
        "outputId": "43190e93-a815-4ace-f5b0-267f7bd1203c"
      },
      "execution_count": null,
      "outputs": [
        {
          "output_type": "stream",
          "name": "stdout",
          "text": [
            "El triángulo es isósceles.\n"
          ]
        }
      ]
    },
    {
      "cell_type": "code",
      "source": [
        "#Empleando operador terniario\n",
        "print(\"El triángulo es equilátero.\") if lado1 == lado2 == lado3 else print(\"El triángulo es isósceles.\") if lado1 == lado2 or lado2 == lado3 or lado1 == lado3 else print(\"El triángulo es escaleno.\")\n",
        "\n"
      ],
      "metadata": {
        "colab": {
          "base_uri": "https://localhost:8080/"
        },
        "id": "_FNaM72sDh2C",
        "outputId": "200c6314-9080-4f2a-bff2-639afa733cba"
      },
      "execution_count": null,
      "outputs": [
        {
          "output_type": "stream",
          "name": "stdout",
          "text": [
            "El triángulo es isósceles.\n"
          ]
        }
      ]
    }
  ]
}