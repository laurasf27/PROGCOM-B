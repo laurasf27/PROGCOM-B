{
  "nbformat": 4,
  "nbformat_minor": 0,
  "metadata": {
    "colab": {
      "provenance": [],
      "toc_visible": true
    },
    "kernelspec": {
      "name": "python3",
      "display_name": "Python 3"
    },
    "language_info": {
      "name": "python"
    }
  },
  "cells": [
    {
      "cell_type": "code",
      "execution_count": null,
      "metadata": {
        "id": "z93EMWcTwNYS"
      },
      "outputs": [],
      "source": [
        "def brazo():\n",
        "  print('movimiento de brazo derecha')\n",
        "def freezer(repeticion,lado):\n",
        "  for i in range(repeticion):\n",
        "    for q in range(lado):\n",
        "      print('movimiento de freezer derecha')\n",
        "    for p in range(lado):\n",
        "      print('movimiento de freezer izquierda')\n",
        "def saltitos(repeticion):\n",
        "  for j in range(repeticion):\n",
        "    print('movimiento de salititos')\n",
        "def cadera_con_brazos(repeticion):\n",
        "  for a in range(repeticion):\n",
        "    print('movimiento de cadera con brazos')\n",
        "def cabeza_giro(repeticion):\n",
        "  for ñ in range(repeticion):\n",
        "    print('movimiento de cabeza con giro')\n",
        "def cola(repeticion,lado):\n",
        "  for n in range(repeticion):\n",
        "    for t in range(lado):\n",
        "      print('movimiento de cola derecha')\n",
        "    for y in range(lado):\n",
        "      print('movimiento de cola izquierda')\n",
        "def movimiento_de_piernas(repeticion, lado):\n",
        "  for r in range(repeticion):\n",
        "    for g in range(lado):\n",
        "      print('movimiento de piernas derecha')\n",
        "    for h in range(lado):\n",
        "      print('movimiento de piernas izquierda')\n",
        "def corazon():\n",
        "  print('movimiento de corazon')"
      ]
    },
    {
      "cell_type": "code",
      "source": [
        "brazo()\n",
        "freezer(1,1)\n",
        "freezer(1,1)\n",
        "saltitos(4)\n",
        "cadera_con_brazos(4)\n",
        "cabeza_giro(4)\n",
        "cola(1,1)\n",
        "cola(1,1)\n",
        "movimiento_de_piernas(1,1)\n",
        "movimiento_de_piernas(1,1)\n",
        "corazon()"
      ],
      "metadata": {
        "id": "Xc1h-kuzwPQj"
      },
      "execution_count": null,
      "outputs": []
    }
  ]
}